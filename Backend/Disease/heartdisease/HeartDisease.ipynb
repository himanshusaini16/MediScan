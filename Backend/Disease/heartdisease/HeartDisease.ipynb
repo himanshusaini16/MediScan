{
 "cells": [
  {
   "cell_type": "code",
   "execution_count": 1,
   "id": "c86eb23d",
   "metadata": {},
   "outputs": [],
   "source": [
    "import numpy as np\n",
    "import pandas as pd\n",
    "import matplotlib.pyplot as plt\n",
    "from matplotlib import rcParams\n",
    "from matplotlib.cm import rainbow\n",
    "import tensorflow as tf\n",
    "from tensorflow.keras.models import Sequential\n",
    "from tensorflow.keras.layers import Flatten ,Dense"
   ]
  },
  {
   "cell_type": "code",
   "execution_count": 2,
   "id": "b95e8f10",
   "metadata": {},
   "outputs": [],
   "source": [
    "from sklearn.model_selection import train_test_split\n",
    "from sklearn.preprocessing import StandardScaler\n",
    "from sklearn.utils.class_weight import compute_class_weight"
   ]
  },
  {
   "cell_type": "code",
   "execution_count": 3,
   "id": "c4934f0b",
   "metadata": {},
   "outputs": [],
   "source": [
    "from sklearn.neighbors import KNeighborsClassifier\n",
    "from sklearn.svm import SVC\n",
    "from sklearn.tree import DecisionTreeClassifier\n",
    "from sklearn.ensemble import RandomForestClassifier"
   ]
  },
  {
   "cell_type": "code",
   "execution_count": 4,
   "id": "8366c908",
   "metadata": {},
   "outputs": [],
   "source": [
    "dataset = pd.read_csv('dataset/heart.csv')"
   ]
  },
  {
   "cell_type": "code",
   "execution_count": 5,
   "id": "52cd281f",
   "metadata": {},
   "outputs": [
    {
     "name": "stdout",
     "output_type": "stream",
     "text": [
      "<class 'pandas.core.frame.DataFrame'>\n",
      "RangeIndex: 1025 entries, 0 to 1024\n",
      "Data columns (total 14 columns):\n",
      " #   Column    Non-Null Count  Dtype  \n",
      "---  ------    --------------  -----  \n",
      " 0   age       1025 non-null   int64  \n",
      " 1   sex       1025 non-null   int64  \n",
      " 2   cp        1025 non-null   int64  \n",
      " 3   trestbps  1025 non-null   int64  \n",
      " 4   chol      1025 non-null   int64  \n",
      " 5   fbs       1025 non-null   int64  \n",
      " 6   restecg   1025 non-null   int64  \n",
      " 7   thalach   1025 non-null   int64  \n",
      " 8   exang     1025 non-null   int64  \n",
      " 9   oldpeak   1025 non-null   float64\n",
      " 10  slope     1025 non-null   int64  \n",
      " 11  ca        1025 non-null   int64  \n",
      " 12  thal      1025 non-null   int64  \n",
      " 13  target    1025 non-null   int64  \n",
      "dtypes: float64(1), int64(13)\n",
      "memory usage: 112.2 KB\n"
     ]
    }
   ],
   "source": [
    "dataset.info()"
   ]
  },
  {
   "cell_type": "code",
   "execution_count": 6,
   "id": "a439ae66",
   "metadata": {},
   "outputs": [
    {
     "data": {
      "text/html": [
       "<div>\n",
       "<style scoped>\n",
       "    .dataframe tbody tr th:only-of-type {\n",
       "        vertical-align: middle;\n",
       "    }\n",
       "\n",
       "    .dataframe tbody tr th {\n",
       "        vertical-align: top;\n",
       "    }\n",
       "\n",
       "    .dataframe thead th {\n",
       "        text-align: right;\n",
       "    }\n",
       "</style>\n",
       "<table border=\"1\" class=\"dataframe\">\n",
       "  <thead>\n",
       "    <tr style=\"text-align: right;\">\n",
       "      <th></th>\n",
       "      <th>age</th>\n",
       "      <th>sex</th>\n",
       "      <th>cp</th>\n",
       "      <th>trestbps</th>\n",
       "      <th>chol</th>\n",
       "      <th>fbs</th>\n",
       "      <th>restecg</th>\n",
       "      <th>thalach</th>\n",
       "      <th>exang</th>\n",
       "      <th>oldpeak</th>\n",
       "      <th>slope</th>\n",
       "      <th>ca</th>\n",
       "      <th>thal</th>\n",
       "      <th>target</th>\n",
       "    </tr>\n",
       "  </thead>\n",
       "  <tbody>\n",
       "    <tr>\n",
       "      <th>count</th>\n",
       "      <td>1025.000000</td>\n",
       "      <td>1025.000000</td>\n",
       "      <td>1025.000000</td>\n",
       "      <td>1025.000000</td>\n",
       "      <td>1025.00000</td>\n",
       "      <td>1025.000000</td>\n",
       "      <td>1025.000000</td>\n",
       "      <td>1025.000000</td>\n",
       "      <td>1025.000000</td>\n",
       "      <td>1025.000000</td>\n",
       "      <td>1025.000000</td>\n",
       "      <td>1025.000000</td>\n",
       "      <td>1025.000000</td>\n",
       "      <td>1025.000000</td>\n",
       "    </tr>\n",
       "    <tr>\n",
       "      <th>mean</th>\n",
       "      <td>54.434146</td>\n",
       "      <td>0.695610</td>\n",
       "      <td>0.942439</td>\n",
       "      <td>131.611707</td>\n",
       "      <td>246.00000</td>\n",
       "      <td>0.149268</td>\n",
       "      <td>0.529756</td>\n",
       "      <td>149.114146</td>\n",
       "      <td>0.336585</td>\n",
       "      <td>1.071512</td>\n",
       "      <td>1.385366</td>\n",
       "      <td>0.754146</td>\n",
       "      <td>2.323902</td>\n",
       "      <td>0.513171</td>\n",
       "    </tr>\n",
       "    <tr>\n",
       "      <th>std</th>\n",
       "      <td>9.072290</td>\n",
       "      <td>0.460373</td>\n",
       "      <td>1.029641</td>\n",
       "      <td>17.516718</td>\n",
       "      <td>51.59251</td>\n",
       "      <td>0.356527</td>\n",
       "      <td>0.527878</td>\n",
       "      <td>23.005724</td>\n",
       "      <td>0.472772</td>\n",
       "      <td>1.175053</td>\n",
       "      <td>0.617755</td>\n",
       "      <td>1.030798</td>\n",
       "      <td>0.620660</td>\n",
       "      <td>0.500070</td>\n",
       "    </tr>\n",
       "    <tr>\n",
       "      <th>min</th>\n",
       "      <td>29.000000</td>\n",
       "      <td>0.000000</td>\n",
       "      <td>0.000000</td>\n",
       "      <td>94.000000</td>\n",
       "      <td>126.00000</td>\n",
       "      <td>0.000000</td>\n",
       "      <td>0.000000</td>\n",
       "      <td>71.000000</td>\n",
       "      <td>0.000000</td>\n",
       "      <td>0.000000</td>\n",
       "      <td>0.000000</td>\n",
       "      <td>0.000000</td>\n",
       "      <td>0.000000</td>\n",
       "      <td>0.000000</td>\n",
       "    </tr>\n",
       "    <tr>\n",
       "      <th>25%</th>\n",
       "      <td>48.000000</td>\n",
       "      <td>0.000000</td>\n",
       "      <td>0.000000</td>\n",
       "      <td>120.000000</td>\n",
       "      <td>211.00000</td>\n",
       "      <td>0.000000</td>\n",
       "      <td>0.000000</td>\n",
       "      <td>132.000000</td>\n",
       "      <td>0.000000</td>\n",
       "      <td>0.000000</td>\n",
       "      <td>1.000000</td>\n",
       "      <td>0.000000</td>\n",
       "      <td>2.000000</td>\n",
       "      <td>0.000000</td>\n",
       "    </tr>\n",
       "    <tr>\n",
       "      <th>50%</th>\n",
       "      <td>56.000000</td>\n",
       "      <td>1.000000</td>\n",
       "      <td>1.000000</td>\n",
       "      <td>130.000000</td>\n",
       "      <td>240.00000</td>\n",
       "      <td>0.000000</td>\n",
       "      <td>1.000000</td>\n",
       "      <td>152.000000</td>\n",
       "      <td>0.000000</td>\n",
       "      <td>0.800000</td>\n",
       "      <td>1.000000</td>\n",
       "      <td>0.000000</td>\n",
       "      <td>2.000000</td>\n",
       "      <td>1.000000</td>\n",
       "    </tr>\n",
       "    <tr>\n",
       "      <th>75%</th>\n",
       "      <td>61.000000</td>\n",
       "      <td>1.000000</td>\n",
       "      <td>2.000000</td>\n",
       "      <td>140.000000</td>\n",
       "      <td>275.00000</td>\n",
       "      <td>0.000000</td>\n",
       "      <td>1.000000</td>\n",
       "      <td>166.000000</td>\n",
       "      <td>1.000000</td>\n",
       "      <td>1.800000</td>\n",
       "      <td>2.000000</td>\n",
       "      <td>1.000000</td>\n",
       "      <td>3.000000</td>\n",
       "      <td>1.000000</td>\n",
       "    </tr>\n",
       "    <tr>\n",
       "      <th>max</th>\n",
       "      <td>77.000000</td>\n",
       "      <td>1.000000</td>\n",
       "      <td>3.000000</td>\n",
       "      <td>200.000000</td>\n",
       "      <td>564.00000</td>\n",
       "      <td>1.000000</td>\n",
       "      <td>2.000000</td>\n",
       "      <td>202.000000</td>\n",
       "      <td>1.000000</td>\n",
       "      <td>6.200000</td>\n",
       "      <td>2.000000</td>\n",
       "      <td>4.000000</td>\n",
       "      <td>3.000000</td>\n",
       "      <td>1.000000</td>\n",
       "    </tr>\n",
       "  </tbody>\n",
       "</table>\n",
       "</div>"
      ],
      "text/plain": [
       "               age          sex           cp     trestbps        chol  \\\n",
       "count  1025.000000  1025.000000  1025.000000  1025.000000  1025.00000   \n",
       "mean     54.434146     0.695610     0.942439   131.611707   246.00000   \n",
       "std       9.072290     0.460373     1.029641    17.516718    51.59251   \n",
       "min      29.000000     0.000000     0.000000    94.000000   126.00000   \n",
       "25%      48.000000     0.000000     0.000000   120.000000   211.00000   \n",
       "50%      56.000000     1.000000     1.000000   130.000000   240.00000   \n",
       "75%      61.000000     1.000000     2.000000   140.000000   275.00000   \n",
       "max      77.000000     1.000000     3.000000   200.000000   564.00000   \n",
       "\n",
       "               fbs      restecg      thalach        exang      oldpeak  \\\n",
       "count  1025.000000  1025.000000  1025.000000  1025.000000  1025.000000   \n",
       "mean      0.149268     0.529756   149.114146     0.336585     1.071512   \n",
       "std       0.356527     0.527878    23.005724     0.472772     1.175053   \n",
       "min       0.000000     0.000000    71.000000     0.000000     0.000000   \n",
       "25%       0.000000     0.000000   132.000000     0.000000     0.000000   \n",
       "50%       0.000000     1.000000   152.000000     0.000000     0.800000   \n",
       "75%       0.000000     1.000000   166.000000     1.000000     1.800000   \n",
       "max       1.000000     2.000000   202.000000     1.000000     6.200000   \n",
       "\n",
       "             slope           ca         thal       target  \n",
       "count  1025.000000  1025.000000  1025.000000  1025.000000  \n",
       "mean      1.385366     0.754146     2.323902     0.513171  \n",
       "std       0.617755     1.030798     0.620660     0.500070  \n",
       "min       0.000000     0.000000     0.000000     0.000000  \n",
       "25%       1.000000     0.000000     2.000000     0.000000  \n",
       "50%       1.000000     0.000000     2.000000     1.000000  \n",
       "75%       2.000000     1.000000     3.000000     1.000000  \n",
       "max       2.000000     4.000000     3.000000     1.000000  "
      ]
     },
     "execution_count": 6,
     "metadata": {},
     "output_type": "execute_result"
    }
   ],
   "source": [
    "dataset.describe()"
   ]
  },
  {
   "cell_type": "code",
   "execution_count": 7,
   "id": "a579ad52",
   "metadata": {},
   "outputs": [
    {
     "data": {
      "text/plain": [
       "<matplotlib.colorbar.Colorbar at 0x2212fa916a0>"
      ]
     },
     "execution_count": 7,
     "metadata": {},
     "output_type": "execute_result"
    },
    {
     "data": {
      "image/png": "[encoded data removed]",
      "text/plain": [
       "<Figure size 1008x1008 with 2 Axes>"
      ]
     },
     "metadata": {
      "needs_background": "light"
     },
     "output_type": "display_data"
    }
   ],
   "source": [
    "rcParams['figure.figsize'] = 20, 14\n",
    "plt.matshow(dataset.corr())\n",
    "plt.yticks(np.arange(dataset.shape[1]), dataset.columns)\n",
    "plt.xticks(np.arange(dataset.shape[1]), dataset.columns)\n",
    "plt.colorbar()\n"
   ]
  },
  {
   "cell_type": "code",
   "execution_count": 8,
   "id": "d106568c",
   "metadata": {},
   "outputs": [
    {
     "data": {
      "text/plain": [
       "array([[<AxesSubplot:title={'center':'age'}>,\n",
       "        <AxesSubplot:title={'center':'sex'}>,\n",
       "        <AxesSubplot:title={'center':'cp'}>,\n",
       "        <AxesSubplot:title={'center':'trestbps'}>],\n",
       "       [<AxesSubplot:title={'center':'chol'}>,\n",
       "        <AxesSubplot:title={'center':'fbs'}>,\n",
       "        <AxesSubplot:title={'center':'restecg'}>,\n",
       "        <AxesSubplot:title={'center':'thalach'}>],\n",
       "       [<AxesSubplot:title={'center':'exang'}>,\n",
       "        <AxesSubplot:title={'center':'oldpeak'}>,\n",
       "        <AxesSubplot:title={'center':'slope'}>,\n",
       "        <AxesSubplot:title={'center':'ca'}>],\n",
       "       [<AxesSubplot:title={'center':'thal'}>,\n",
       "        <AxesSubplot:title={'center':'target'}>, <AxesSubplot:>,\n",
       "        <AxesSubplot:>]], dtype=object)"
      ]
     },
     "execution_count": 8,
     "metadata": {},
     "output_type": "execute_result"
    },
    {
     "data": {
      "image/png": "[encoded data removed]",
      "text/plain": [
       "<Figure size 1440x1008 with 16 Axes>"
      ]
     },
     "metadata": {
      "needs_background": "light"
     },
     "output_type": "display_data"
    }
   ],
   "source": [
    "dataset.hist()\n"
   ]
  },
  {
   "cell_type": "code",
   "execution_count": 9,
   "id": "d40ef51d",
   "metadata": {},
   "outputs": [
    {
     "data": {
      "text/plain": [
       "Text(0.5, 1.0, 'Count of each Target Class')"
      ]
     },
     "execution_count": 9,
     "metadata": {},
     "output_type": "execute_result"
    },
    {
     "data": {
      "image/png": "[encoded data removed]",
      "text/plain": [
       "<Figure size 576x432 with 1 Axes>"
      ]
     },
     "metadata": {
      "needs_background": "light"
     },
     "output_type": "display_data"
    }
   ],
   "source": [
    "rcParams['figure.figsize'] = 8,6\n",
    "plt.bar(dataset['target'].unique(), dataset['target'].value_counts(), color = ['red', 'green'])\n",
    "plt.xticks([0, 1])\n",
    "plt.xlabel('Target Classes')\n",
    "plt.ylabel('Count')\n",
    "plt.title('Count of each Target Class')"
   ]
  },
  {
   "cell_type": "code",
   "execution_count": 10,
   "id": "d05ae833",
   "metadata": {},
   "outputs": [],
   "source": [
    "dataset.dropna(inplace=True)"
   ]
  },
  {
   "cell_type": "code",
   "execution_count": 11,
   "id": "32198c3b",
   "metadata": {},
   "outputs": [],
   "source": [
    "dataset[\"thal\"] = dataset[\"thal\"].astype(float)\n",
    "dataset[\"ca\"] = dataset[\"ca\"].astype(float)"
   ]
  },
  {
   "cell_type": "code",
   "execution_count": 12,
   "id": "7de16227",
   "metadata": {},
   "outputs": [],
   "source": [
    "dataset[\"target\"] = (dataset[\"target\"] > 0).astype(int)"
   ]
  },
  {
   "cell_type": "code",
   "execution_count": 13,
   "id": "1c0e5bbd",
   "metadata": {},
   "outputs": [],
   "source": [
    "dataset = pd.get_dummies(dataset, columns = ['sex', 'cp', 'fbs', 'restecg', 'exang', 'slope', 'ca', 'thal'])"
   ]
  },
  {
   "cell_type": "code",
   "execution_count": 14,
   "id": "7bf59557",
   "metadata": {},
   "outputs": [],
   "source": [
    "x = dataset.drop(columns=[\"target\"])"
   ]
  },
  {
   "cell_type": "code",
   "execution_count": 15,
   "id": "b38baced",
   "metadata": {},
   "outputs": [],
   "source": [
    "y = dataset[\"target\"]"
   ]
  },
  {
   "cell_type": "code",
   "execution_count": 17,
   "id": "8956593f",
   "metadata": {},
   "outputs": [],
   "source": [
    "scaler = StandardScaler()"
   ]
  },
  {
   "cell_type": "code",
   "execution_count": 60,
   "id": "6cb51a86",
   "metadata": {},
   "outputs": [
    {
     "data": {
      "text/plain": [
       "StandardScaler()"
      ]
     },
     "execution_count": 60,
     "metadata": {},
     "output_type": "execute_result"
    }
   ],
   "source": [
    "scaler"
   ]
  },
  {
   "cell_type": "code",
   "execution_count": 18,
   "id": "79d33818",
   "metadata": {},
   "outputs": [],
   "source": [
    "numerical_columns = [\"age\", \"trestbps\", \"chol\", \"thalach\", \"oldpeak\"]\n"
   ]
  },
  {
   "cell_type": "code",
   "execution_count": 19,
   "id": "311182c8",
   "metadata": {},
   "outputs": [],
   "source": [
    "x_train[numerical_columns] = scaler.fit_transform(x_train[numerical_columns])"
   ]
  },
  {
   "cell_type": "code",
   "execution_count": 62,
   "id": "0c834b76",
   "metadata": {},
   "outputs": [
    {
     "data": {
      "text/html": [
       "<div>\n",
       "<style scoped>\n",
       "    .dataframe tbody tr th:only-of-type {\n",
       "        vertical-align: middle;\n",
       "    }\n",
       "\n",
       "    .dataframe tbody tr th {\n",
       "        vertical-align: top;\n",
       "    }\n",
       "\n",
       "    .dataframe thead th {\n",
       "        text-align: right;\n",
       "    }\n",
       "</style>\n",
       "<table border=\"1\" class=\"dataframe\">\n",
       "  <thead>\n",
       "    <tr style=\"text-align: right;\">\n",
       "      <th></th>\n",
       "      <th>age</th>\n",
       "      <th>trestbps</th>\n",
       "      <th>chol</th>\n",
       "      <th>thalach</th>\n",
       "      <th>oldpeak</th>\n",
       "    </tr>\n",
       "  </thead>\n",
       "  <tbody>\n",
       "    <tr>\n",
       "      <th>955</th>\n",
       "      <td>0.832507</td>\n",
       "      <td>-0.077005</td>\n",
       "      <td>-0.298837</td>\n",
       "      <td>-0.082191</td>\n",
       "      <td>0.622933</td>\n",
       "    </tr>\n",
       "    <tr>\n",
       "      <th>833</th>\n",
       "      <td>0.058595</td>\n",
       "      <td>0.497528</td>\n",
       "      <td>-0.586608</td>\n",
       "      <td>-1.594340</td>\n",
       "      <td>3.852089</td>\n",
       "    </tr>\n",
       "    <tr>\n",
       "      <th>581</th>\n",
       "      <td>-1.157553</td>\n",
       "      <td>0.497528</td>\n",
       "      <td>-0.216617</td>\n",
       "      <td>1.386754</td>\n",
       "      <td>-0.906667</td>\n",
       "    </tr>\n",
       "    <tr>\n",
       "      <th>46</th>\n",
       "      <td>-1.489230</td>\n",
       "      <td>0.210261</td>\n",
       "      <td>-0.874379</td>\n",
       "      <td>-0.687050</td>\n",
       "      <td>-0.906667</td>\n",
       "    </tr>\n",
       "    <tr>\n",
       "      <th>120</th>\n",
       "      <td>-0.051964</td>\n",
       "      <td>-1.340977</td>\n",
       "      <td>1.304458</td>\n",
       "      <td>0.349852</td>\n",
       "      <td>-0.906667</td>\n",
       "    </tr>\n",
       "    <tr>\n",
       "      <th>...</th>\n",
       "      <td>...</td>\n",
       "      <td>...</td>\n",
       "      <td>...</td>\n",
       "      <td>...</td>\n",
       "      <td>...</td>\n",
       "    </tr>\n",
       "    <tr>\n",
       "      <th>440</th>\n",
       "      <td>0.832507</td>\n",
       "      <td>1.072060</td>\n",
       "      <td>-0.031621</td>\n",
       "      <td>0.263444</td>\n",
       "      <td>0.283022</td>\n",
       "    </tr>\n",
       "    <tr>\n",
       "      <th>1016</th>\n",
       "      <td>1.164184</td>\n",
       "      <td>0.382621</td>\n",
       "      <td>0.749472</td>\n",
       "      <td>1.127529</td>\n",
       "      <td>0.283022</td>\n",
       "    </tr>\n",
       "    <tr>\n",
       "      <th>165</th>\n",
       "      <td>0.500830</td>\n",
       "      <td>2.221126</td>\n",
       "      <td>1.653894</td>\n",
       "      <td>-0.341416</td>\n",
       "      <td>1.982578</td>\n",
       "    </tr>\n",
       "    <tr>\n",
       "      <th>7</th>\n",
       "      <td>0.058595</td>\n",
       "      <td>1.646593</td>\n",
       "      <td>0.893357</td>\n",
       "      <td>-0.125395</td>\n",
       "      <td>-0.226844</td>\n",
       "    </tr>\n",
       "    <tr>\n",
       "      <th>219</th>\n",
       "      <td>-0.051964</td>\n",
       "      <td>-0.536631</td>\n",
       "      <td>0.831692</td>\n",
       "      <td>-1.378318</td>\n",
       "      <td>1.812622</td>\n",
       "    </tr>\n",
       "  </tbody>\n",
       "</table>\n",
       "<p>717 rows × 5 columns</p>\n",
       "</div>"
      ],
      "text/plain": [
       "           age  trestbps      chol   thalach   oldpeak\n",
       "955   0.832507 -0.077005 -0.298837 -0.082191  0.622933\n",
       "833   0.058595  0.497528 -0.586608 -1.594340  3.852089\n",
       "581  -1.157553  0.497528 -0.216617  1.386754 -0.906667\n",
       "46   -1.489230  0.210261 -0.874379 -0.687050 -0.906667\n",
       "120  -0.051964 -1.340977  1.304458  0.349852 -0.906667\n",
       "...        ...       ...       ...       ...       ...\n",
       "440   0.832507  1.072060 -0.031621  0.263444  0.283022\n",
       "1016  1.164184  0.382621  0.749472  1.127529  0.283022\n",
       "165   0.500830  2.221126  1.653894 -0.341416  1.982578\n",
       "7     0.058595  1.646593  0.893357 -0.125395 -0.226844\n",
       "219  -0.051964 -0.536631  0.831692 -1.378318  1.812622\n",
       "\n",
       "[717 rows x 5 columns]"
      ]
     },
     "execution_count": 62,
     "metadata": {},
     "output_type": "execute_result"
    }
   ],
   "source": [
    "x_train[numerical_columns]"
   ]
  },
  {
   "cell_type": "code",
   "execution_count": 20,
   "id": "24d20c69",
   "metadata": {},
   "outputs": [],
   "source": [
    "x_test[numerical_columns] = scaler.transform(x_test[numerical_columns])"
   ]
  },
  {
   "cell_type": "code",
   "execution_count": 21,
   "id": "16e37d19",
   "metadata": {},
   "outputs": [],
   "source": [
    "class_weights = compute_class_weight(class_weight=\"balanced\", classes=np.unique(y_train), y=y_train)\n",
    "class_weight_dict = {i: class_weights[i] for i in range(len(class_weights))}"
   ]
  },
  {
   "cell_type": "code",
   "execution_count": 22,
   "id": "0882bc92",
   "metadata": {},
   "outputs": [],
   "source": [
    "model = tf.keras.models.Sequential()"
   ]
  },
  {
   "cell_type": "code",
   "execution_count": 23,
   "id": "d36d9764",
   "metadata": {},
   "outputs": [
    {
     "data": {
      "text/plain": [
       "30"
      ]
     },
     "execution_count": 23,
     "metadata": {},
     "output_type": "execute_result"
    }
   ],
   "source": [
    "x_train.shape[1]"
   ]
  },
  {
   "cell_type": "code",
   "execution_count": 24,
   "id": "8ac089dd",
   "metadata": {},
   "outputs": [],
   "source": [
    "model.add(tf.keras.layers.Dense(units=16, activation='relu',input_shape=(x_train.shape[1],)))\n"
   ]
  },
  {
   "cell_type": "code",
   "execution_count": 25,
   "id": "fb9cb794",
   "metadata": {},
   "outputs": [],
   "source": [
    "model.add(tf.keras.layers.Dropout(0.2))"
   ]
  },
  {
   "cell_type": "code",
   "execution_count": 26,
   "id": "cb1fa34d",
   "metadata": {},
   "outputs": [],
   "source": [
    "model.add(tf.keras.layers.Dense(units=16, activation='relu'))"
   ]
  },
  {
   "cell_type": "code",
   "execution_count": 27,
   "id": "a16f6131",
   "metadata": {},
   "outputs": [],
   "source": [
    "model.add(tf.keras.layers.Dense(units=1, activation='sigmoid'))"
   ]
  },
  {
   "cell_type": "code",
   "execution_count": 28,
   "id": "35bc778c",
   "metadata": {},
   "outputs": [],
   "source": [
    "\n",
    "model.compile(optimizer = 'adam', loss = 'binary_crossentropy', metrics = ['accuracy'])"
   ]
  },
  {
   "cell_type": "code",
   "execution_count": 63,
   "id": "1f8da8df",
   "metadata": {},
   "outputs": [
    {
     "name": "stdout",
     "output_type": "stream",
     "text": [
      "Epoch 1/500\n",
      "23/23 [==============================] - 0s 4ms/step - loss: 0.1553 - accuracy: 0.9386 - val_loss: 0.1720 - val_accuracy: 0.9286\n",
      "Epoch 2/500\n",
      "23/23 [==============================] - 0s 3ms/step - loss: 0.1571 - accuracy: 0.9442 - val_loss: 0.1733 - val_accuracy: 0.9351\n",
      "Epoch 3/500\n",
      "23/23 [==============================] - 0s 3ms/step - loss: 0.1381 - accuracy: 0.9582 - val_loss: 0.1728 - val_accuracy: 0.9383\n",
      "Epoch 4/500\n",
      "23/23 [==============================] - 0s 3ms/step - loss: 0.1511 - accuracy: 0.9498 - val_loss: 0.1688 - val_accuracy: 0.9383\n",
      "Epoch 5/500\n",
      "23/23 [==============================] - 0s 3ms/step - loss: 0.1450 - accuracy: 0.9526 - val_loss: 0.1699 - val_accuracy: 0.9383\n",
      "Epoch 6/500\n",
      "23/23 [==============================] - 0s 3ms/step - loss: 0.1591 - accuracy: 0.9456 - val_loss: 0.1697 - val_accuracy: 0.9481\n",
      "Epoch 7/500\n",
      "23/23 [==============================] - 0s 3ms/step - loss: 0.1462 - accuracy: 0.9470 - val_loss: 0.1689 - val_accuracy: 0.9481\n",
      "Epoch 8/500\n",
      "23/23 [==============================] - 0s 3ms/step - loss: 0.1405 - accuracy: 0.9470 - val_loss: 0.1673 - val_accuracy: 0.9481\n",
      "Epoch 9/500\n",
      "23/23 [==============================] - 0s 3ms/step - loss: 0.1286 - accuracy: 0.9540 - val_loss: 0.1649 - val_accuracy: 0.9383\n",
      "Epoch 10/500\n",
      "23/23 [==============================] - 0s 3ms/step - loss: 0.1470 - accuracy: 0.9526 - val_loss: 0.1645 - val_accuracy: 0.9481\n",
      "Epoch 11/500\n",
      "23/23 [==============================] - 0s 3ms/step - loss: 0.1287 - accuracy: 0.9568 - val_loss: 0.1615 - val_accuracy: 0.9513\n",
      "Epoch 12/500\n",
      "23/23 [==============================] - 0s 2ms/step - loss: 0.1363 - accuracy: 0.9526 - val_loss: 0.1609 - val_accuracy: 0.9448\n",
      "Epoch 13/500\n",
      "23/23 [==============================] - 0s 2ms/step - loss: 0.1279 - accuracy: 0.9623 - val_loss: 0.1603 - val_accuracy: 0.9481\n",
      "Epoch 14/500\n",
      "23/23 [==============================] - 0s 2ms/step - loss: 0.1358 - accuracy: 0.9554 - val_loss: 0.1566 - val_accuracy: 0.9545\n",
      "Epoch 15/500\n",
      "23/23 [==============================] - 0s 3ms/step - loss: 0.1381 - accuracy: 0.9568 - val_loss: 0.1553 - val_accuracy: 0.9481\n",
      "Epoch 16/500\n",
      "23/23 [==============================] - 0s 3ms/step - loss: 0.1359 - accuracy: 0.9484 - val_loss: 0.1545 - val_accuracy: 0.9610\n",
      "Epoch 17/500\n",
      "23/23 [==============================] - 0s 3ms/step - loss: 0.1135 - accuracy: 0.9596 - val_loss: 0.1561 - val_accuracy: 0.9610\n",
      "Epoch 18/500\n",
      "23/23 [==============================] - 0s 3ms/step - loss: 0.1356 - accuracy: 0.9512 - val_loss: 0.1538 - val_accuracy: 0.9545\n",
      "Epoch 19/500\n",
      "23/23 [==============================] - 0s 3ms/step - loss: 0.1347 - accuracy: 0.9609 - val_loss: 0.1541 - val_accuracy: 0.9545\n",
      "Epoch 20/500\n",
      "23/23 [==============================] - 0s 3ms/step - loss: 0.1284 - accuracy: 0.9568 - val_loss: 0.1512 - val_accuracy: 0.9545\n",
      "Epoch 21/500\n",
      "23/23 [==============================] - 0s 3ms/step - loss: 0.1295 - accuracy: 0.9498 - val_loss: 0.1536 - val_accuracy: 0.9481\n",
      "Epoch 22/500\n",
      "23/23 [==============================] - 0s 3ms/step - loss: 0.1263 - accuracy: 0.9609 - val_loss: 0.1478 - val_accuracy: 0.9545\n",
      "Epoch 23/500\n",
      "23/23 [==============================] - 0s 3ms/step - loss: 0.1337 - accuracy: 0.9540 - val_loss: 0.1473 - val_accuracy: 0.9481\n",
      "Epoch 24/500\n",
      "23/23 [==============================] - 0s 3ms/step - loss: 0.1198 - accuracy: 0.9623 - val_loss: 0.1519 - val_accuracy: 0.9416\n",
      "Epoch 25/500\n",
      "23/23 [==============================] - 0s 3ms/step - loss: 0.1232 - accuracy: 0.9568 - val_loss: 0.1456 - val_accuracy: 0.9545\n",
      "Epoch 26/500\n",
      "23/23 [==============================] - 0s 3ms/step - loss: 0.1333 - accuracy: 0.9568 - val_loss: 0.1442 - val_accuracy: 0.9545\n",
      "Epoch 27/500\n",
      "23/23 [==============================] - 0s 3ms/step - loss: 0.1356 - accuracy: 0.9540 - val_loss: 0.1403 - val_accuracy: 0.9545\n",
      "Epoch 28/500\n",
      "23/23 [==============================] - 0s 3ms/step - loss: 0.1305 - accuracy: 0.9512 - val_loss: 0.1399 - val_accuracy: 0.9610\n",
      "Epoch 29/500\n",
      "23/23 [==============================] - 0s 3ms/step - loss: 0.1189 - accuracy: 0.9665 - val_loss: 0.1388 - val_accuracy: 0.9610\n",
      "Epoch 30/500\n",
      "23/23 [==============================] - 0s 3ms/step - loss: 0.1272 - accuracy: 0.9568 - val_loss: 0.1388 - val_accuracy: 0.9643\n",
      "Epoch 31/500\n",
      "23/23 [==============================] - 0s 3ms/step - loss: 0.1241 - accuracy: 0.9540 - val_loss: 0.1360 - val_accuracy: 0.9643\n",
      "Epoch 32/500\n",
      "23/23 [==============================] - 0s 3ms/step - loss: 0.1227 - accuracy: 0.9609 - val_loss: 0.1343 - val_accuracy: 0.9610\n",
      "Epoch 33/500\n",
      "23/23 [==============================] - 0s 3ms/step - loss: 0.1229 - accuracy: 0.9554 - val_loss: 0.1329 - val_accuracy: 0.9610\n",
      "Epoch 34/500\n",
      "23/23 [==============================] - 0s 3ms/step - loss: 0.1032 - accuracy: 0.9665 - val_loss: 0.1317 - val_accuracy: 0.9643\n",
      "Epoch 35/500\n",
      "23/23 [==============================] - 0s 3ms/step - loss: 0.1087 - accuracy: 0.9651 - val_loss: 0.1289 - val_accuracy: 0.9610\n",
      "Epoch 36/500\n",
      "23/23 [==============================] - 0s 3ms/step - loss: 0.1320 - accuracy: 0.9540 - val_loss: 0.1231 - val_accuracy: 0.9675\n",
      "Epoch 37/500\n",
      "23/23 [==============================] - 0s 3ms/step - loss: 0.1247 - accuracy: 0.9637 - val_loss: 0.1267 - val_accuracy: 0.9643\n",
      "Epoch 38/500\n",
      "23/23 [==============================] - 0s 3ms/step - loss: 0.1147 - accuracy: 0.9637 - val_loss: 0.1249 - val_accuracy: 0.9643\n",
      "Epoch 39/500\n",
      "23/23 [==============================] - 0s 3ms/step - loss: 0.0997 - accuracy: 0.9763 - val_loss: 0.1230 - val_accuracy: 0.9643\n",
      "Epoch 40/500\n",
      "23/23 [==============================] - 0s 3ms/step - loss: 0.1120 - accuracy: 0.9679 - val_loss: 0.1193 - val_accuracy: 0.9643\n",
      "Epoch 41/500\n",
      "23/23 [==============================] - 0s 3ms/step - loss: 0.1099 - accuracy: 0.9665 - val_loss: 0.1204 - val_accuracy: 0.9643\n",
      "Epoch 42/500\n",
      "23/23 [==============================] - 0s 3ms/step - loss: 0.1170 - accuracy: 0.9582 - val_loss: 0.1172 - val_accuracy: 0.9643\n",
      "Epoch 43/500\n",
      "23/23 [==============================] - 0s 3ms/step - loss: 0.1009 - accuracy: 0.9693 - val_loss: 0.1184 - val_accuracy: 0.9643\n",
      "Epoch 44/500\n",
      "23/23 [==============================] - 0s 3ms/step - loss: 0.1098 - accuracy: 0.9679 - val_loss: 0.1172 - val_accuracy: 0.9643\n",
      "Epoch 45/500\n",
      "23/23 [==============================] - 0s 3ms/step - loss: 0.0984 - accuracy: 0.9679 - val_loss: 0.1135 - val_accuracy: 0.9643\n",
      "Epoch 46/500\n",
      "23/23 [==============================] - 0s 3ms/step - loss: 0.1065 - accuracy: 0.9609 - val_loss: 0.1128 - val_accuracy: 0.9643\n",
      "Epoch 47/500\n",
      "23/23 [==============================] - 0s 3ms/step - loss: 0.1079 - accuracy: 0.9637 - val_loss: 0.1147 - val_accuracy: 0.9643\n",
      "Epoch 48/500\n",
      "23/23 [==============================] - 0s 3ms/step - loss: 0.1067 - accuracy: 0.9693 - val_loss: 0.1180 - val_accuracy: 0.9643\n",
      "Epoch 49/500\n",
      "23/23 [==============================] - 0s 3ms/step - loss: 0.0949 - accuracy: 0.9665 - val_loss: 0.1086 - val_accuracy: 0.9643\n",
      "Epoch 50/500\n",
      "23/23 [==============================] - 0s 3ms/step - loss: 0.0974 - accuracy: 0.9707 - val_loss: 0.1109 - val_accuracy: 0.9643\n",
      "Epoch 51/500\n",
      "23/23 [==============================] - 0s 3ms/step - loss: 0.0983 - accuracy: 0.9721 - val_loss: 0.1094 - val_accuracy: 0.9643\n",
      "Epoch 52/500\n",
      "23/23 [==============================] - 0s 3ms/step - loss: 0.1000 - accuracy: 0.9721 - val_loss: 0.1063 - val_accuracy: 0.9675\n",
      "Epoch 53/500\n",
      "23/23 [==============================] - 0s 3ms/step - loss: 0.1025 - accuracy: 0.9651 - val_loss: 0.1076 - val_accuracy: 0.9675\n",
      "Epoch 54/500\n",
      "23/23 [==============================] - 0s 3ms/step - loss: 0.1004 - accuracy: 0.9665 - val_loss: 0.1096 - val_accuracy: 0.9578\n",
      "Epoch 55/500\n",
      "23/23 [==============================] - 0s 3ms/step - loss: 0.1072 - accuracy: 0.9651 - val_loss: 0.1013 - val_accuracy: 0.9675\n",
      "Epoch 56/500\n",
      "23/23 [==============================] - 0s 3ms/step - loss: 0.0910 - accuracy: 0.9693 - val_loss: 0.1022 - val_accuracy: 0.9643\n",
      "Epoch 57/500\n",
      "23/23 [==============================] - 0s 3ms/step - loss: 0.0824 - accuracy: 0.9707 - val_loss: 0.1037 - val_accuracy: 0.9643\n",
      "Epoch 58/500\n",
      "23/23 [==============================] - 0s 3ms/step - loss: 0.0967 - accuracy: 0.9637 - val_loss: 0.1005 - val_accuracy: 0.9675\n"
     ]
    },
    {
     "name": "stdout",
     "output_type": "stream",
     "text": [
      "Epoch 59/500\n",
      "23/23 [==============================] - 0s 3ms/step - loss: 0.1100 - accuracy: 0.9568 - val_loss: 0.1000 - val_accuracy: 0.9675\n",
      "Epoch 60/500\n",
      "23/23 [==============================] - 0s 3ms/step - loss: 0.0935 - accuracy: 0.9693 - val_loss: 0.0960 - val_accuracy: 0.9675\n",
      "Epoch 61/500\n",
      "23/23 [==============================] - 0s 3ms/step - loss: 0.0964 - accuracy: 0.9707 - val_loss: 0.0972 - val_accuracy: 0.9675\n",
      "Epoch 62/500\n",
      "23/23 [==============================] - 0s 2ms/step - loss: 0.0941 - accuracy: 0.9735 - val_loss: 0.0954 - val_accuracy: 0.9675\n",
      "Epoch 63/500\n",
      "23/23 [==============================] - 0s 3ms/step - loss: 0.0895 - accuracy: 0.9707 - val_loss: 0.0955 - val_accuracy: 0.9675\n",
      "Epoch 64/500\n",
      "23/23 [==============================] - 0s 3ms/step - loss: 0.1002 - accuracy: 0.9623 - val_loss: 0.0912 - val_accuracy: 0.9740\n",
      "Epoch 65/500\n",
      "23/23 [==============================] - 0s 3ms/step - loss: 0.1016 - accuracy: 0.9651 - val_loss: 0.0928 - val_accuracy: 0.9675\n",
      "Epoch 66/500\n",
      "23/23 [==============================] - 0s 3ms/step - loss: 0.0982 - accuracy: 0.9679 - val_loss: 0.0950 - val_accuracy: 0.9740\n",
      "Epoch 67/500\n",
      "23/23 [==============================] - 0s 3ms/step - loss: 0.0926 - accuracy: 0.9665 - val_loss: 0.1008 - val_accuracy: 0.9643\n",
      "Epoch 68/500\n",
      "23/23 [==============================] - 0s 3ms/step - loss: 0.0906 - accuracy: 0.9735 - val_loss: 0.0954 - val_accuracy: 0.9708\n",
      "Epoch 69/500\n",
      "23/23 [==============================] - 0s 3ms/step - loss: 0.0963 - accuracy: 0.9665 - val_loss: 0.0937 - val_accuracy: 0.9708\n",
      "Epoch 70/500\n",
      "23/23 [==============================] - 0s 3ms/step - loss: 0.0911 - accuracy: 0.9665 - val_loss: 0.0917 - val_accuracy: 0.9643\n",
      "Epoch 71/500\n",
      "23/23 [==============================] - 0s 3ms/step - loss: 0.0946 - accuracy: 0.9735 - val_loss: 0.0909 - val_accuracy: 0.9740\n",
      "Epoch 72/500\n",
      "23/23 [==============================] - 0s 3ms/step - loss: 0.0867 - accuracy: 0.9693 - val_loss: 0.0931 - val_accuracy: 0.9675\n",
      "Epoch 73/500\n",
      "23/23 [==============================] - 0s 3ms/step - loss: 0.0910 - accuracy: 0.9693 - val_loss: 0.0896 - val_accuracy: 0.9740\n",
      "Epoch 74/500\n",
      "23/23 [==============================] - 0s 3ms/step - loss: 0.0844 - accuracy: 0.9749 - val_loss: 0.0937 - val_accuracy: 0.9675\n",
      "Epoch 75/500\n",
      "23/23 [==============================] - 0s 2ms/step - loss: 0.0840 - accuracy: 0.9679 - val_loss: 0.0908 - val_accuracy: 0.9675\n",
      "Epoch 76/500\n",
      "23/23 [==============================] - 0s 2ms/step - loss: 0.0934 - accuracy: 0.9651 - val_loss: 0.0887 - val_accuracy: 0.9675\n",
      "Epoch 77/500\n",
      "23/23 [==============================] - 0s 2ms/step - loss: 0.0769 - accuracy: 0.9777 - val_loss: 0.0908 - val_accuracy: 0.9740\n",
      "Epoch 78/500\n",
      "23/23 [==============================] - 0s 2ms/step - loss: 0.0971 - accuracy: 0.9651 - val_loss: 0.0847 - val_accuracy: 0.9740\n",
      "Epoch 79/500\n",
      "23/23 [==============================] - 0s 2ms/step - loss: 0.0850 - accuracy: 0.9707 - val_loss: 0.0849 - val_accuracy: 0.9740\n",
      "Epoch 80/500\n",
      "23/23 [==============================] - 0s 2ms/step - loss: 0.0821 - accuracy: 0.9735 - val_loss: 0.0826 - val_accuracy: 0.9805\n",
      "Epoch 81/500\n",
      "23/23 [==============================] - 0s 3ms/step - loss: 0.1048 - accuracy: 0.9637 - val_loss: 0.0844 - val_accuracy: 0.9740\n",
      "Epoch 82/500\n",
      "23/23 [==============================] - 0s 3ms/step - loss: 0.0931 - accuracy: 0.9596 - val_loss: 0.0847 - val_accuracy: 0.9740\n",
      "Epoch 83/500\n",
      "23/23 [==============================] - 0s 3ms/step - loss: 0.0958 - accuracy: 0.9651 - val_loss: 0.0868 - val_accuracy: 0.9740\n",
      "Epoch 84/500\n",
      "23/23 [==============================] - 0s 3ms/step - loss: 0.0743 - accuracy: 0.9749 - val_loss: 0.0822 - val_accuracy: 0.9675\n",
      "Epoch 85/500\n",
      "23/23 [==============================] - 0s 3ms/step - loss: 0.0852 - accuracy: 0.9637 - val_loss: 0.0822 - val_accuracy: 0.9740\n",
      "Epoch 86/500\n",
      "23/23 [==============================] - 0s 3ms/step - loss: 0.0821 - accuracy: 0.9693 - val_loss: 0.0796 - val_accuracy: 0.9675\n",
      "Epoch 87/500\n",
      "23/23 [==============================] - 0s 3ms/step - loss: 0.0859 - accuracy: 0.9707 - val_loss: 0.0806 - val_accuracy: 0.9740\n",
      "Epoch 88/500\n",
      "23/23 [==============================] - 0s 3ms/step - loss: 0.0790 - accuracy: 0.9749 - val_loss: 0.0765 - val_accuracy: 0.9740\n",
      "Epoch 89/500\n",
      "23/23 [==============================] - 0s 3ms/step - loss: 0.0803 - accuracy: 0.9777 - val_loss: 0.0806 - val_accuracy: 0.9740\n",
      "Epoch 90/500\n",
      "23/23 [==============================] - 0s 3ms/step - loss: 0.0722 - accuracy: 0.9763 - val_loss: 0.0817 - val_accuracy: 0.9740\n",
      "Epoch 91/500\n",
      "23/23 [==============================] - 0s 2ms/step - loss: 0.0725 - accuracy: 0.9749 - val_loss: 0.0766 - val_accuracy: 0.9740\n",
      "Epoch 92/500\n",
      "23/23 [==============================] - 0s 2ms/step - loss: 0.0811 - accuracy: 0.9763 - val_loss: 0.0764 - val_accuracy: 0.9740\n",
      "Epoch 93/500\n",
      "23/23 [==============================] - 0s 3ms/step - loss: 0.0714 - accuracy: 0.9721 - val_loss: 0.0771 - val_accuracy: 0.9740\n",
      "Epoch 94/500\n",
      "23/23 [==============================] - 0s 3ms/step - loss: 0.0903 - accuracy: 0.9735 - val_loss: 0.0767 - val_accuracy: 0.9740\n",
      "Epoch 95/500\n",
      "23/23 [==============================] - 0s 3ms/step - loss: 0.0702 - accuracy: 0.9735 - val_loss: 0.0733 - val_accuracy: 0.9740\n",
      "Epoch 96/500\n",
      "23/23 [==============================] - 0s 3ms/step - loss: 0.0593 - accuracy: 0.9888 - val_loss: 0.0714 - val_accuracy: 0.9740\n",
      "Epoch 97/500\n",
      "23/23 [==============================] - 0s 3ms/step - loss: 0.0678 - accuracy: 0.9833 - val_loss: 0.0698 - val_accuracy: 0.9740\n",
      "Epoch 98/500\n",
      "23/23 [==============================] - 0s 2ms/step - loss: 0.0725 - accuracy: 0.9749 - val_loss: 0.0723 - val_accuracy: 0.9740\n",
      "Epoch 99/500\n",
      "23/23 [==============================] - 0s 3ms/step - loss: 0.0639 - accuracy: 0.9805 - val_loss: 0.0726 - val_accuracy: 0.9740\n",
      "Epoch 100/500\n",
      "23/23 [==============================] - 0s 3ms/step - loss: 0.0723 - accuracy: 0.9749 - val_loss: 0.0698 - val_accuracy: 0.9805\n",
      "Epoch 101/500\n",
      "23/23 [==============================] - 0s 3ms/step - loss: 0.0881 - accuracy: 0.9623 - val_loss: 0.0720 - val_accuracy: 0.9740\n",
      "Epoch 102/500\n",
      "23/23 [==============================] - 0s 3ms/step - loss: 0.0705 - accuracy: 0.9805 - val_loss: 0.0715 - val_accuracy: 0.9740\n",
      "Epoch 103/500\n",
      "23/23 [==============================] - 0s 3ms/step - loss: 0.0847 - accuracy: 0.9763 - val_loss: 0.0758 - val_accuracy: 0.9740\n",
      "Epoch 104/500\n",
      "23/23 [==============================] - 0s 2ms/step - loss: 0.0794 - accuracy: 0.9749 - val_loss: 0.0696 - val_accuracy: 0.9805\n",
      "Epoch 105/500\n",
      "23/23 [==============================] - 0s 2ms/step - loss: 0.0787 - accuracy: 0.9749 - val_loss: 0.0696 - val_accuracy: 0.9740\n",
      "Epoch 106/500\n",
      "23/23 [==============================] - 0s 3ms/step - loss: 0.0695 - accuracy: 0.9749 - val_loss: 0.0680 - val_accuracy: 0.9740\n",
      "Epoch 107/500\n",
      "23/23 [==============================] - 0s 3ms/step - loss: 0.0665 - accuracy: 0.9777 - val_loss: 0.0638 - val_accuracy: 0.9805\n",
      "Epoch 108/500\n",
      "23/23 [==============================] - 0s 3ms/step - loss: 0.0592 - accuracy: 0.9847 - val_loss: 0.0658 - val_accuracy: 0.9805\n",
      "Epoch 109/500\n",
      "23/23 [==============================] - 0s 3ms/step - loss: 0.0892 - accuracy: 0.9735 - val_loss: 0.0658 - val_accuracy: 0.9805\n",
      "Epoch 110/500\n",
      "23/23 [==============================] - 0s 3ms/step - loss: 0.0703 - accuracy: 0.9791 - val_loss: 0.0682 - val_accuracy: 0.9805\n",
      "Epoch 111/500\n",
      "23/23 [==============================] - 0s 2ms/step - loss: 0.0761 - accuracy: 0.9721 - val_loss: 0.0655 - val_accuracy: 0.9805\n",
      "Epoch 112/500\n",
      "23/23 [==============================] - 0s 2ms/step - loss: 0.0772 - accuracy: 0.9749 - val_loss: 0.0665 - val_accuracy: 0.9805\n",
      "Epoch 113/500\n",
      "23/23 [==============================] - 0s 3ms/step - loss: 0.0735 - accuracy: 0.9749 - val_loss: 0.0644 - val_accuracy: 0.9805\n",
      "Epoch 114/500\n",
      "23/23 [==============================] - 0s 3ms/step - loss: 0.0687 - accuracy: 0.9819 - val_loss: 0.0664 - val_accuracy: 0.9805\n",
      "Epoch 115/500\n",
      "23/23 [==============================] - 0s 3ms/step - loss: 0.0706 - accuracy: 0.9777 - val_loss: 0.0650 - val_accuracy: 0.9805\n",
      "Epoch 116/500\n"
     ]
    },
    {
     "name": "stdout",
     "output_type": "stream",
     "text": [
      "23/23 [==============================] - 0s 3ms/step - loss: 0.0620 - accuracy: 0.9819 - val_loss: 0.0632 - val_accuracy: 0.9805\n",
      "Epoch 117/500\n",
      "23/23 [==============================] - 0s 4ms/step - loss: 0.0693 - accuracy: 0.9791 - val_loss: 0.0644 - val_accuracy: 0.9740\n",
      "Epoch 118/500\n",
      "23/23 [==============================] - 0s 3ms/step - loss: 0.0694 - accuracy: 0.9805 - val_loss: 0.0595 - val_accuracy: 0.9805\n",
      "Epoch 119/500\n",
      "23/23 [==============================] - 0s 3ms/step - loss: 0.0724 - accuracy: 0.9749 - val_loss: 0.0628 - val_accuracy: 0.9805\n",
      "Epoch 120/500\n",
      "23/23 [==============================] - 0s 3ms/step - loss: 0.0763 - accuracy: 0.9665 - val_loss: 0.0617 - val_accuracy: 0.9805\n",
      "Epoch 121/500\n",
      "23/23 [==============================] - 0s 3ms/step - loss: 0.0786 - accuracy: 0.9735 - val_loss: 0.0606 - val_accuracy: 0.9805\n",
      "Epoch 122/500\n",
      "23/23 [==============================] - 0s 3ms/step - loss: 0.0685 - accuracy: 0.9721 - val_loss: 0.0589 - val_accuracy: 0.9805\n",
      "Epoch 123/500\n",
      "23/23 [==============================] - 0s 3ms/step - loss: 0.0771 - accuracy: 0.9735 - val_loss: 0.0612 - val_accuracy: 0.9805\n",
      "Epoch 124/500\n",
      "23/23 [==============================] - 0s 3ms/step - loss: 0.0545 - accuracy: 0.9861 - val_loss: 0.0593 - val_accuracy: 0.9805\n",
      "Epoch 125/500\n",
      "23/23 [==============================] - 0s 3ms/step - loss: 0.0613 - accuracy: 0.9819 - val_loss: 0.0574 - val_accuracy: 0.9805\n",
      "Epoch 126/500\n",
      "23/23 [==============================] - 0s 3ms/step - loss: 0.0510 - accuracy: 0.9833 - val_loss: 0.0573 - val_accuracy: 0.9805\n",
      "Epoch 127/500\n",
      "23/23 [==============================] - 0s 3ms/step - loss: 0.0619 - accuracy: 0.9777 - val_loss: 0.0559 - val_accuracy: 0.9805\n",
      "Epoch 128/500\n",
      "23/23 [==============================] - 0s 3ms/step - loss: 0.0619 - accuracy: 0.9791 - val_loss: 0.0565 - val_accuracy: 0.9805\n",
      "Epoch 129/500\n",
      "23/23 [==============================] - 0s 3ms/step - loss: 0.0515 - accuracy: 0.9833 - val_loss: 0.0558 - val_accuracy: 0.9805\n",
      "Epoch 130/500\n",
      "23/23 [==============================] - 0s 3ms/step - loss: 0.0686 - accuracy: 0.9805 - val_loss: 0.0545 - val_accuracy: 0.9805\n",
      "Epoch 131/500\n",
      "23/23 [==============================] - 0s 3ms/step - loss: 0.0542 - accuracy: 0.9847 - val_loss: 0.0560 - val_accuracy: 0.9805\n",
      "Epoch 132/500\n",
      "23/23 [==============================] - 0s 3ms/step - loss: 0.0676 - accuracy: 0.9777 - val_loss: 0.0511 - val_accuracy: 0.9870\n",
      "Epoch 133/500\n",
      "23/23 [==============================] - 0s 3ms/step - loss: 0.0634 - accuracy: 0.9819 - val_loss: 0.0532 - val_accuracy: 0.9805\n",
      "Epoch 134/500\n",
      "23/23 [==============================] - 0s 3ms/step - loss: 0.0697 - accuracy: 0.9791 - val_loss: 0.0541 - val_accuracy: 0.9805\n",
      "Epoch 135/500\n",
      "23/23 [==============================] - 0s 3ms/step - loss: 0.0536 - accuracy: 0.9805 - val_loss: 0.0515 - val_accuracy: 0.9805\n",
      "Epoch 136/500\n",
      "23/23 [==============================] - 0s 2ms/step - loss: 0.0619 - accuracy: 0.9735 - val_loss: 0.0522 - val_accuracy: 0.9805\n",
      "Epoch 137/500\n",
      "23/23 [==============================] - 0s 2ms/step - loss: 0.0685 - accuracy: 0.9777 - val_loss: 0.0534 - val_accuracy: 0.9805\n",
      "Epoch 138/500\n",
      "23/23 [==============================] - 0s 3ms/step - loss: 0.0788 - accuracy: 0.9777 - val_loss: 0.0546 - val_accuracy: 0.9805\n",
      "Epoch 139/500\n",
      "23/23 [==============================] - 0s 3ms/step - loss: 0.0566 - accuracy: 0.9791 - val_loss: 0.0551 - val_accuracy: 0.9805\n",
      "Epoch 140/500\n",
      "23/23 [==============================] - 0s 3ms/step - loss: 0.0746 - accuracy: 0.9763 - val_loss: 0.0541 - val_accuracy: 0.9805\n",
      "Epoch 141/500\n",
      "23/23 [==============================] - 0s 2ms/step - loss: 0.0599 - accuracy: 0.9777 - val_loss: 0.0560 - val_accuracy: 0.9805\n",
      "Epoch 142/500\n",
      "23/23 [==============================] - 0s 3ms/step - loss: 0.0584 - accuracy: 0.9791 - val_loss: 0.0552 - val_accuracy: 0.9805\n",
      "Epoch 143/500\n",
      "23/23 [==============================] - 0s 3ms/step - loss: 0.0627 - accuracy: 0.9791 - val_loss: 0.0538 - val_accuracy: 0.9805\n",
      "Epoch 144/500\n",
      "23/23 [==============================] - 0s 3ms/step - loss: 0.0783 - accuracy: 0.9735 - val_loss: 0.0529 - val_accuracy: 0.9805\n",
      "Epoch 145/500\n",
      "23/23 [==============================] - 0s 3ms/step - loss: 0.0541 - accuracy: 0.9861 - val_loss: 0.0534 - val_accuracy: 0.9805\n",
      "Epoch 146/500\n",
      "23/23 [==============================] - 0s 2ms/step - loss: 0.0566 - accuracy: 0.9833 - val_loss: 0.0545 - val_accuracy: 0.9805\n",
      "Epoch 147/500\n",
      "23/23 [==============================] - 0s 2ms/step - loss: 0.0739 - accuracy: 0.9777 - val_loss: 0.0523 - val_accuracy: 0.9805\n",
      "Epoch 148/500\n",
      "23/23 [==============================] - 0s 2ms/step - loss: 0.0657 - accuracy: 0.9679 - val_loss: 0.0517 - val_accuracy: 0.9805\n",
      "Epoch 149/500\n",
      "23/23 [==============================] - 0s 2ms/step - loss: 0.0574 - accuracy: 0.9847 - val_loss: 0.0504 - val_accuracy: 0.9805\n",
      "Epoch 150/500\n",
      "23/23 [==============================] - 0s 3ms/step - loss: 0.0511 - accuracy: 0.9847 - val_loss: 0.0501 - val_accuracy: 0.9805\n",
      "Epoch 151/500\n",
      "23/23 [==============================] - 0s 3ms/step - loss: 0.0607 - accuracy: 0.9777 - val_loss: 0.0481 - val_accuracy: 0.9805\n",
      "Epoch 152/500\n",
      "23/23 [==============================] - 0s 3ms/step - loss: 0.0457 - accuracy: 0.9861 - val_loss: 0.0478 - val_accuracy: 0.9805\n",
      "Epoch 153/500\n",
      "23/23 [==============================] - 0s 3ms/step - loss: 0.0700 - accuracy: 0.9763 - val_loss: 0.0479 - val_accuracy: 0.9805\n",
      "Epoch 154/500\n",
      "23/23 [==============================] - 0s 3ms/step - loss: 0.0542 - accuracy: 0.9861 - val_loss: 0.0484 - val_accuracy: 0.9805\n",
      "Epoch 155/500\n",
      "23/23 [==============================] - 0s 3ms/step - loss: 0.0522 - accuracy: 0.9805 - val_loss: 0.0474 - val_accuracy: 0.9740\n",
      "Epoch 156/500\n",
      "23/23 [==============================] - 0s 3ms/step - loss: 0.0578 - accuracy: 0.9819 - val_loss: 0.0435 - val_accuracy: 0.9870\n",
      "Epoch 157/500\n",
      "23/23 [==============================] - 0s 3ms/step - loss: 0.0692 - accuracy: 0.9833 - val_loss: 0.0463 - val_accuracy: 0.9870\n",
      "Epoch 158/500\n",
      "23/23 [==============================] - 0s 3ms/step - loss: 0.0523 - accuracy: 0.9861 - val_loss: 0.0470 - val_accuracy: 0.9805\n",
      "Epoch 159/500\n",
      "23/23 [==============================] - 0s 3ms/step - loss: 0.0616 - accuracy: 0.9763 - val_loss: 0.0476 - val_accuracy: 0.9805\n",
      "Epoch 160/500\n",
      "23/23 [==============================] - 0s 3ms/step - loss: 0.0546 - accuracy: 0.9819 - val_loss: 0.0521 - val_accuracy: 0.9805\n",
      "Epoch 161/500\n",
      "23/23 [==============================] - 0s 2ms/step - loss: 0.0690 - accuracy: 0.9735 - val_loss: 0.0466 - val_accuracy: 0.9805\n",
      "Epoch 162/500\n",
      "23/23 [==============================] - 0s 3ms/step - loss: 0.0730 - accuracy: 0.9721 - val_loss: 0.0439 - val_accuracy: 0.9805\n",
      "Epoch 163/500\n",
      "23/23 [==============================] - 0s 3ms/step - loss: 0.0539 - accuracy: 0.9847 - val_loss: 0.0466 - val_accuracy: 0.9805\n",
      "Epoch 164/500\n",
      "23/23 [==============================] - 0s 3ms/step - loss: 0.0478 - accuracy: 0.9833 - val_loss: 0.0445 - val_accuracy: 0.9805\n",
      "Epoch 165/500\n",
      "23/23 [==============================] - 0s 3ms/step - loss: 0.0584 - accuracy: 0.9791 - val_loss: 0.0435 - val_accuracy: 0.9870\n",
      "Epoch 166/500\n",
      "23/23 [==============================] - 0s 3ms/step - loss: 0.0596 - accuracy: 0.9805 - val_loss: 0.0446 - val_accuracy: 0.9805\n",
      "Epoch 167/500\n",
      "23/23 [==============================] - 0s 3ms/step - loss: 0.0546 - accuracy: 0.9819 - val_loss: 0.0474 - val_accuracy: 0.9805\n",
      "Epoch 168/500\n",
      "23/23 [==============================] - 0s 3ms/step - loss: 0.0536 - accuracy: 0.9847 - val_loss: 0.0448 - val_accuracy: 0.9805\n",
      "Epoch 169/500\n",
      "23/23 [==============================] - 0s 3ms/step - loss: 0.0458 - accuracy: 0.9847 - val_loss: 0.0469 - val_accuracy: 0.9805\n",
      "Epoch 170/500\n",
      "23/23 [==============================] - 0s 2ms/step - loss: 0.0499 - accuracy: 0.9833 - val_loss: 0.0444 - val_accuracy: 0.9870\n",
      "Epoch 171/500\n",
      "23/23 [==============================] - 0s 2ms/step - loss: 0.0474 - accuracy: 0.9847 - val_loss: 0.0415 - val_accuracy: 0.9870\n",
      "Epoch 172/500\n",
      "23/23 [==============================] - 0s 2ms/step - loss: 0.0554 - accuracy: 0.9819 - val_loss: 0.0411 - val_accuracy: 0.9870\n",
      "Epoch 173/500\n"
     ]
    },
    {
     "name": "stdout",
     "output_type": "stream",
     "text": [
      "23/23 [==============================] - 0s 3ms/step - loss: 0.0556 - accuracy: 0.9819 - val_loss: 0.0425 - val_accuracy: 0.9870\n",
      "Epoch 174/500\n",
      "23/23 [==============================] - 0s 3ms/step - loss: 0.0656 - accuracy: 0.9749 - val_loss: 0.0410 - val_accuracy: 0.9805\n",
      "Epoch 175/500\n",
      "23/23 [==============================] - 0s 3ms/step - loss: 0.0508 - accuracy: 0.9791 - val_loss: 0.0408 - val_accuracy: 0.9805\n",
      "Epoch 176/500\n",
      "23/23 [==============================] - 0s 3ms/step - loss: 0.0568 - accuracy: 0.9833 - val_loss: 0.0396 - val_accuracy: 0.9870\n",
      "Epoch 177/500\n",
      "23/23 [==============================] - 0s 3ms/step - loss: 0.0565 - accuracy: 0.9777 - val_loss: 0.0392 - val_accuracy: 0.9870\n",
      "Epoch 178/500\n",
      "23/23 [==============================] - 0s 3ms/step - loss: 0.0468 - accuracy: 0.9861 - val_loss: 0.0373 - val_accuracy: 0.9870\n",
      "Epoch 179/500\n",
      "23/23 [==============================] - 0s 3ms/step - loss: 0.0616 - accuracy: 0.9763 - val_loss: 0.0409 - val_accuracy: 0.9870\n",
      "Epoch 180/500\n",
      "23/23 [==============================] - 0s 3ms/step - loss: 0.0643 - accuracy: 0.9791 - val_loss: 0.0414 - val_accuracy: 0.9870\n",
      "Epoch 181/500\n",
      "23/23 [==============================] - 0s 3ms/step - loss: 0.0399 - accuracy: 0.9888 - val_loss: 0.0403 - val_accuracy: 0.9805\n",
      "Epoch 182/500\n",
      "23/23 [==============================] - 0s 3ms/step - loss: 0.0736 - accuracy: 0.9707 - val_loss: 0.0459 - val_accuracy: 0.9805\n",
      "Epoch 183/500\n",
      "23/23 [==============================] - 0s 2ms/step - loss: 0.0518 - accuracy: 0.9833 - val_loss: 0.0409 - val_accuracy: 0.9805\n",
      "Epoch 184/500\n",
      "23/23 [==============================] - 0s 2ms/step - loss: 0.0463 - accuracy: 0.9874 - val_loss: 0.0399 - val_accuracy: 0.9805\n",
      "Epoch 185/500\n",
      "23/23 [==============================] - 0s 3ms/step - loss: 0.0677 - accuracy: 0.9721 - val_loss: 0.0379 - val_accuracy: 0.9870\n",
      "Epoch 186/500\n",
      "23/23 [==============================] - 0s 3ms/step - loss: 0.0562 - accuracy: 0.9805 - val_loss: 0.0396 - val_accuracy: 0.9870\n",
      "Epoch 187/500\n",
      "23/23 [==============================] - 0s 3ms/step - loss: 0.0466 - accuracy: 0.9847 - val_loss: 0.0390 - val_accuracy: 0.9870\n",
      "Epoch 188/500\n",
      "23/23 [==============================] - 0s 3ms/step - loss: 0.0549 - accuracy: 0.9791 - val_loss: 0.0369 - val_accuracy: 0.9870\n",
      "Epoch 189/500\n",
      "23/23 [==============================] - 0s 3ms/step - loss: 0.0420 - accuracy: 0.9874 - val_loss: 0.0377 - val_accuracy: 0.9805\n",
      "Epoch 190/500\n",
      "23/23 [==============================] - 0s 3ms/step - loss: 0.0442 - accuracy: 0.9874 - val_loss: 0.0382 - val_accuracy: 0.9870\n",
      "Epoch 191/500\n",
      "23/23 [==============================] - 0s 3ms/step - loss: 0.0413 - accuracy: 0.9874 - val_loss: 0.0423 - val_accuracy: 0.9805\n",
      "Epoch 192/500\n",
      "23/23 [==============================] - 0s 3ms/step - loss: 0.0473 - accuracy: 0.9847 - val_loss: 0.0415 - val_accuracy: 0.9805\n",
      "Epoch 193/500\n",
      "23/23 [==============================] - 0s 2ms/step - loss: 0.0615 - accuracy: 0.9735 - val_loss: 0.0396 - val_accuracy: 0.9805\n",
      "Epoch 194/500\n",
      "23/23 [==============================] - 0s 2ms/step - loss: 0.0632 - accuracy: 0.9777 - val_loss: 0.0365 - val_accuracy: 0.9805\n",
      "Epoch 195/500\n",
      "23/23 [==============================] - 0s 2ms/step - loss: 0.0486 - accuracy: 0.9833 - val_loss: 0.0362 - val_accuracy: 0.9805\n",
      "Epoch 196/500\n",
      "23/23 [==============================] - 0s 2ms/step - loss: 0.0479 - accuracy: 0.9805 - val_loss: 0.0366 - val_accuracy: 0.9805\n",
      "Epoch 197/500\n",
      "23/23 [==============================] - 0s 3ms/step - loss: 0.0524 - accuracy: 0.9833 - val_loss: 0.0363 - val_accuracy: 0.9805\n",
      "Epoch 198/500\n",
      "23/23 [==============================] - 0s 3ms/step - loss: 0.0572 - accuracy: 0.9791 - val_loss: 0.0355 - val_accuracy: 0.9805\n",
      "Epoch 199/500\n",
      "23/23 [==============================] - 0s 3ms/step - loss: 0.0609 - accuracy: 0.9777 - val_loss: 0.0372 - val_accuracy: 0.9805\n",
      "Epoch 200/500\n",
      "23/23 [==============================] - 0s 3ms/step - loss: 0.0504 - accuracy: 0.9819 - val_loss: 0.0399 - val_accuracy: 0.9805\n",
      "Epoch 201/500\n",
      "23/23 [==============================] - 0s 3ms/step - loss: 0.0438 - accuracy: 0.9847 - val_loss: 0.0388 - val_accuracy: 0.9805\n",
      "Epoch 202/500\n",
      "23/23 [==============================] - 0s 3ms/step - loss: 0.0463 - accuracy: 0.9847 - val_loss: 0.0348 - val_accuracy: 0.9870\n",
      "Epoch 203/500\n",
      "23/23 [==============================] - 0s 3ms/step - loss: 0.0493 - accuracy: 0.9833 - val_loss: 0.0342 - val_accuracy: 0.9870\n",
      "Epoch 204/500\n",
      "23/23 [==============================] - 0s 3ms/step - loss: 0.0501 - accuracy: 0.9819 - val_loss: 0.0329 - val_accuracy: 0.9870\n",
      "Epoch 205/500\n",
      "23/23 [==============================] - 0s 3ms/step - loss: 0.0414 - accuracy: 0.9874 - val_loss: 0.0341 - val_accuracy: 0.9870\n",
      "Epoch 206/500\n",
      "23/23 [==============================] - 0s 2ms/step - loss: 0.0536 - accuracy: 0.9749 - val_loss: 0.0321 - val_accuracy: 0.9805\n",
      "Epoch 207/500\n",
      "23/23 [==============================] - 0s 2ms/step - loss: 0.0546 - accuracy: 0.9791 - val_loss: 0.0334 - val_accuracy: 0.9805\n",
      "Epoch 208/500\n",
      "23/23 [==============================] - 0s 3ms/step - loss: 0.0451 - accuracy: 0.9874 - val_loss: 0.0340 - val_accuracy: 0.9805\n",
      "Epoch 209/500\n",
      "23/23 [==============================] - 0s 2ms/step - loss: 0.0460 - accuracy: 0.9861 - val_loss: 0.0340 - val_accuracy: 0.9805\n",
      "Epoch 210/500\n",
      "23/23 [==============================] - 0s 3ms/step - loss: 0.0413 - accuracy: 0.9874 - val_loss: 0.0329 - val_accuracy: 0.9805\n",
      "Epoch 211/500\n",
      "23/23 [==============================] - 0s 3ms/step - loss: 0.0522 - accuracy: 0.9805 - val_loss: 0.0329 - val_accuracy: 0.9870\n",
      "Epoch 212/500\n",
      "23/23 [==============================] - 0s 3ms/step - loss: 0.0405 - accuracy: 0.9861 - val_loss: 0.0311 - val_accuracy: 0.9870\n",
      "Epoch 213/500\n",
      "23/23 [==============================] - 0s 3ms/step - loss: 0.0468 - accuracy: 0.9861 - val_loss: 0.0333 - val_accuracy: 0.9870\n",
      "Epoch 214/500\n",
      "23/23 [==============================] - 0s 3ms/step - loss: 0.0397 - accuracy: 0.9847 - val_loss: 0.0334 - val_accuracy: 0.9870\n",
      "Epoch 215/500\n",
      "23/23 [==============================] - 0s 4ms/step - loss: 0.0480 - accuracy: 0.9805 - val_loss: 0.0339 - val_accuracy: 0.9805\n",
      "Epoch 216/500\n",
      "23/23 [==============================] - 0s 3ms/step - loss: 0.0425 - accuracy: 0.9833 - val_loss: 0.0312 - val_accuracy: 0.9870\n",
      "Epoch 217/500\n",
      "23/23 [==============================] - 0s 3ms/step - loss: 0.0551 - accuracy: 0.9763 - val_loss: 0.0302 - val_accuracy: 0.9870\n",
      "Epoch 218/500\n",
      "23/23 [==============================] - 0s 3ms/step - loss: 0.0487 - accuracy: 0.9861 - val_loss: 0.0306 - val_accuracy: 0.9870\n",
      "Epoch 219/500\n",
      "23/23 [==============================] - 0s 2ms/step - loss: 0.0454 - accuracy: 0.9819 - val_loss: 0.0326 - val_accuracy: 0.9870\n",
      "Epoch 220/500\n",
      "23/23 [==============================] - 0s 3ms/step - loss: 0.0449 - accuracy: 0.9861 - val_loss: 0.0314 - val_accuracy: 0.9870\n",
      "Epoch 221/500\n",
      "23/23 [==============================] - 0s 3ms/step - loss: 0.0346 - accuracy: 0.9902 - val_loss: 0.0301 - val_accuracy: 0.9870\n",
      "Epoch 222/500\n",
      "23/23 [==============================] - 0s 3ms/step - loss: 0.0535 - accuracy: 0.9805 - val_loss: 0.0309 - val_accuracy: 0.9870\n",
      "Epoch 223/500\n",
      "23/23 [==============================] - 0s 3ms/step - loss: 0.0602 - accuracy: 0.9819 - val_loss: 0.0293 - val_accuracy: 0.9870\n",
      "Epoch 224/500\n",
      "23/23 [==============================] - 0s 3ms/step - loss: 0.0374 - accuracy: 0.9847 - val_loss: 0.0291 - val_accuracy: 0.9870\n",
      "Epoch 225/500\n",
      "23/23 [==============================] - 0s 3ms/step - loss: 0.0382 - accuracy: 0.9874 - val_loss: 0.0322 - val_accuracy: 0.9805\n",
      "Epoch 226/500\n",
      "23/23 [==============================] - 0s 3ms/step - loss: 0.0600 - accuracy: 0.9833 - val_loss: 0.0324 - val_accuracy: 0.9805\n",
      "Epoch 227/500\n",
      "23/23 [==============================] - 0s 3ms/step - loss: 0.0427 - accuracy: 0.9861 - val_loss: 0.0293 - val_accuracy: 0.9805\n",
      "Epoch 228/500\n",
      "23/23 [==============================] - 0s 2ms/step - loss: 0.0337 - accuracy: 0.9902 - val_loss: 0.0297 - val_accuracy: 0.9870\n",
      "Epoch 229/500\n",
      "23/23 [==============================] - 0s 2ms/step - loss: 0.0444 - accuracy: 0.9833 - val_loss: 0.0280 - val_accuracy: 0.9870\n",
      "Epoch 230/500\n"
     ]
    },
    {
     "name": "stdout",
     "output_type": "stream",
     "text": [
      "23/23 [==============================] - 0s 3ms/step - loss: 0.0407 - accuracy: 0.9861 - val_loss: 0.0275 - val_accuracy: 0.9870\n",
      "Epoch 231/500\n",
      "23/23 [==============================] - 0s 3ms/step - loss: 0.0394 - accuracy: 0.9861 - val_loss: 0.0288 - val_accuracy: 0.9935\n",
      "Epoch 232/500\n",
      "23/23 [==============================] - 0s 3ms/step - loss: 0.0474 - accuracy: 0.9791 - val_loss: 0.0256 - val_accuracy: 0.9935\n",
      "Epoch 233/500\n",
      "23/23 [==============================] - 0s 3ms/step - loss: 0.0499 - accuracy: 0.9833 - val_loss: 0.0267 - val_accuracy: 0.9870\n",
      "Epoch 234/500\n",
      "23/23 [==============================] - 0s 3ms/step - loss: 0.0448 - accuracy: 0.9805 - val_loss: 0.0273 - val_accuracy: 0.9870\n",
      "Epoch 235/500\n",
      "23/23 [==============================] - 0s 3ms/step - loss: 0.0372 - accuracy: 0.9861 - val_loss: 0.0276 - val_accuracy: 0.9870\n",
      "Epoch 236/500\n",
      "23/23 [==============================] - 0s 3ms/step - loss: 0.0452 - accuracy: 0.9819 - val_loss: 0.0281 - val_accuracy: 0.9870\n",
      "Epoch 237/500\n",
      "23/23 [==============================] - 0s 2ms/step - loss: 0.0591 - accuracy: 0.9749 - val_loss: 0.0263 - val_accuracy: 0.9870\n",
      "Epoch 238/500\n",
      "23/23 [==============================] - 0s 3ms/step - loss: 0.0456 - accuracy: 0.9833 - val_loss: 0.0282 - val_accuracy: 0.9870\n",
      "Epoch 239/500\n",
      "23/23 [==============================] - 0s 3ms/step - loss: 0.0437 - accuracy: 0.9833 - val_loss: 0.0274 - val_accuracy: 0.9870\n",
      "Epoch 240/500\n",
      "23/23 [==============================] - 0s 3ms/step - loss: 0.0528 - accuracy: 0.9805 - val_loss: 0.0267 - val_accuracy: 0.9870\n",
      "Epoch 241/500\n",
      "23/23 [==============================] - 0s 3ms/step - loss: 0.0388 - accuracy: 0.9861 - val_loss: 0.0264 - val_accuracy: 0.9870\n",
      "Epoch 242/500\n",
      "23/23 [==============================] - 0s 3ms/step - loss: 0.0398 - accuracy: 0.9847 - val_loss: 0.0254 - val_accuracy: 0.9870\n",
      "Epoch 243/500\n",
      "23/23 [==============================] - 0s 3ms/step - loss: 0.0405 - accuracy: 0.9861 - val_loss: 0.0300 - val_accuracy: 0.9805\n",
      "Epoch 244/500\n",
      "23/23 [==============================] - 0s 3ms/step - loss: 0.0446 - accuracy: 0.9861 - val_loss: 0.0277 - val_accuracy: 0.9935\n",
      "Epoch 245/500\n",
      "23/23 [==============================] - 0s 3ms/step - loss: 0.0474 - accuracy: 0.9805 - val_loss: 0.0271 - val_accuracy: 0.9870\n",
      "Epoch 246/500\n",
      "23/23 [==============================] - 0s 3ms/step - loss: 0.0456 - accuracy: 0.9847 - val_loss: 0.0282 - val_accuracy: 0.9935\n",
      "Epoch 247/500\n",
      "23/23 [==============================] - 0s 3ms/step - loss: 0.0340 - accuracy: 0.9847 - val_loss: 0.0271 - val_accuracy: 0.9935\n",
      "Epoch 248/500\n",
      "23/23 [==============================] - 0s 2ms/step - loss: 0.0409 - accuracy: 0.9861 - val_loss: 0.0268 - val_accuracy: 0.9870\n",
      "Epoch 249/500\n",
      "23/23 [==============================] - 0s 2ms/step - loss: 0.0502 - accuracy: 0.9847 - val_loss: 0.0272 - val_accuracy: 0.9870\n",
      "Epoch 250/500\n",
      "23/23 [==============================] - 0s 3ms/step - loss: 0.0321 - accuracy: 0.9888 - val_loss: 0.0273 - val_accuracy: 0.9870\n",
      "Epoch 251/500\n",
      "23/23 [==============================] - 0s 2ms/step - loss: 0.0391 - accuracy: 0.9819 - val_loss: 0.0263 - val_accuracy: 0.9935\n",
      "Epoch 252/500\n",
      "23/23 [==============================] - 0s 2ms/step - loss: 0.0392 - accuracy: 0.9861 - val_loss: 0.0291 - val_accuracy: 0.9870\n",
      "Epoch 253/500\n",
      "23/23 [==============================] - 0s 3ms/step - loss: 0.0343 - accuracy: 0.9847 - val_loss: 0.0262 - val_accuracy: 0.9870\n",
      "Epoch 254/500\n",
      "23/23 [==============================] - 0s 3ms/step - loss: 0.0370 - accuracy: 0.9888 - val_loss: 0.0267 - val_accuracy: 0.9870\n",
      "Epoch 255/500\n",
      "23/23 [==============================] - 0s 3ms/step - loss: 0.0249 - accuracy: 0.9888 - val_loss: 0.0266 - val_accuracy: 0.9870\n",
      "Epoch 256/500\n",
      "23/23 [==============================] - 0s 3ms/step - loss: 0.0386 - accuracy: 0.9833 - val_loss: 0.0256 - val_accuracy: 0.9870\n",
      "Epoch 257/500\n",
      "23/23 [==============================] - 0s 3ms/step - loss: 0.0352 - accuracy: 0.9847 - val_loss: 0.0259 - val_accuracy: 0.9935\n",
      "Epoch 258/500\n",
      "23/23 [==============================] - 0s 3ms/step - loss: 0.0454 - accuracy: 0.9833 - val_loss: 0.0264 - val_accuracy: 0.9870\n",
      "Epoch 259/500\n",
      "23/23 [==============================] - 0s 3ms/step - loss: 0.0581 - accuracy: 0.9735 - val_loss: 0.0268 - val_accuracy: 0.9870\n",
      "Epoch 260/500\n",
      "23/23 [==============================] - 0s 2ms/step - loss: 0.0392 - accuracy: 0.9861 - val_loss: 0.0254 - val_accuracy: 0.9935\n",
      "Epoch 261/500\n",
      "23/23 [==============================] - 0s 2ms/step - loss: 0.0328 - accuracy: 0.9916 - val_loss: 0.0231 - val_accuracy: 0.9935\n",
      "Epoch 262/500\n",
      "23/23 [==============================] - 0s 2ms/step - loss: 0.0299 - accuracy: 0.9888 - val_loss: 0.0236 - val_accuracy: 0.9935\n",
      "Epoch 263/500\n",
      "23/23 [==============================] - 0s 3ms/step - loss: 0.0292 - accuracy: 0.9916 - val_loss: 0.0236 - val_accuracy: 0.9935\n",
      "Epoch 264/500\n",
      "23/23 [==============================] - 0s 3ms/step - loss: 0.0330 - accuracy: 0.9861 - val_loss: 0.0232 - val_accuracy: 0.9935\n",
      "Epoch 265/500\n",
      "23/23 [==============================] - 0s 4ms/step - loss: 0.0398 - accuracy: 0.9888 - val_loss: 0.0226 - val_accuracy: 0.9935\n",
      "Epoch 266/500\n",
      "23/23 [==============================] - 0s 3ms/step - loss: 0.0436 - accuracy: 0.9791 - val_loss: 0.0244 - val_accuracy: 0.9870\n",
      "Epoch 267/500\n",
      "23/23 [==============================] - 0s 3ms/step - loss: 0.0397 - accuracy: 0.9847 - val_loss: 0.0248 - val_accuracy: 0.9870\n",
      "Epoch 268/500\n",
      "23/23 [==============================] - 0s 3ms/step - loss: 0.0472 - accuracy: 0.9791 - val_loss: 0.0232 - val_accuracy: 0.9935\n",
      "Epoch 269/500\n",
      "23/23 [==============================] - 0s 3ms/step - loss: 0.0348 - accuracy: 0.9861 - val_loss: 0.0233 - val_accuracy: 0.9935\n",
      "Epoch 270/500\n",
      "23/23 [==============================] - 0s 3ms/step - loss: 0.0439 - accuracy: 0.9819 - val_loss: 0.0241 - val_accuracy: 0.9935\n",
      "Epoch 271/500\n",
      "23/23 [==============================] - 0s 3ms/step - loss: 0.0356 - accuracy: 0.9861 - val_loss: 0.0234 - val_accuracy: 0.9935\n",
      "Epoch 272/500\n",
      "23/23 [==============================] - 0s 3ms/step - loss: 0.0445 - accuracy: 0.9847 - val_loss: 0.0226 - val_accuracy: 0.9935\n",
      "Epoch 273/500\n",
      "23/23 [==============================] - 0s 2ms/step - loss: 0.0365 - accuracy: 0.9874 - val_loss: 0.0225 - val_accuracy: 0.9935\n",
      "Epoch 274/500\n",
      "23/23 [==============================] - 0s 2ms/step - loss: 0.0361 - accuracy: 0.9861 - val_loss: 0.0222 - val_accuracy: 0.9935\n",
      "Epoch 275/500\n",
      "23/23 [==============================] - 0s 2ms/step - loss: 0.0363 - accuracy: 0.9902 - val_loss: 0.0242 - val_accuracy: 0.9935\n",
      "Epoch 276/500\n",
      "23/23 [==============================] - 0s 3ms/step - loss: 0.0364 - accuracy: 0.9916 - val_loss: 0.0220 - val_accuracy: 0.9935\n",
      "Epoch 277/500\n",
      "23/23 [==============================] - 0s 3ms/step - loss: 0.0282 - accuracy: 0.9888 - val_loss: 0.0221 - val_accuracy: 0.9935\n",
      "Epoch 278/500\n",
      "23/23 [==============================] - 0s 3ms/step - loss: 0.0345 - accuracy: 0.9874 - val_loss: 0.0216 - val_accuracy: 0.9935\n",
      "Epoch 279/500\n",
      "23/23 [==============================] - 0s 3ms/step - loss: 0.0274 - accuracy: 0.9902 - val_loss: 0.0216 - val_accuracy: 0.9935\n",
      "Epoch 280/500\n",
      "23/23 [==============================] - 0s 3ms/step - loss: 0.0479 - accuracy: 0.9805 - val_loss: 0.0227 - val_accuracy: 0.9935\n",
      "Epoch 281/500\n",
      "23/23 [==============================] - 0s 3ms/step - loss: 0.0330 - accuracy: 0.9874 - val_loss: 0.0209 - val_accuracy: 0.9935\n",
      "Epoch 282/500\n",
      "23/23 [==============================] - 0s 2ms/step - loss: 0.0288 - accuracy: 0.9902 - val_loss: 0.0199 - val_accuracy: 0.9935\n",
      "Epoch 283/500\n",
      "23/23 [==============================] - 0s 2ms/step - loss: 0.0312 - accuracy: 0.9902 - val_loss: 0.0195 - val_accuracy: 0.9935\n",
      "Epoch 284/500\n",
      "23/23 [==============================] - 0s 2ms/step - loss: 0.0385 - accuracy: 0.9847 - val_loss: 0.0205 - val_accuracy: 0.9935\n",
      "Epoch 285/500\n",
      "23/23 [==============================] - 0s 2ms/step - loss: 0.0362 - accuracy: 0.9833 - val_loss: 0.0214 - val_accuracy: 0.9935\n",
      "Epoch 286/500\n",
      "23/23 [==============================] - 0s 3ms/step - loss: 0.0396 - accuracy: 0.9847 - val_loss: 0.0210 - val_accuracy: 0.9935\n",
      "Epoch 287/500\n"
     ]
    },
    {
     "name": "stdout",
     "output_type": "stream",
     "text": [
      "23/23 [==============================] - 0s 3ms/step - loss: 0.0326 - accuracy: 0.9874 - val_loss: 0.0200 - val_accuracy: 0.9935\n",
      "Epoch 288/500\n",
      "23/23 [==============================] - 0s 3ms/step - loss: 0.0256 - accuracy: 0.9930 - val_loss: 0.0192 - val_accuracy: 0.9935\n",
      "Epoch 289/500\n",
      "23/23 [==============================] - 0s 3ms/step - loss: 0.0262 - accuracy: 0.9916 - val_loss: 0.0193 - val_accuracy: 0.9935\n",
      "Epoch 290/500\n",
      "23/23 [==============================] - 0s 3ms/step - loss: 0.0299 - accuracy: 0.9902 - val_loss: 0.0192 - val_accuracy: 0.9935\n",
      "Epoch 291/500\n",
      "23/23 [==============================] - 0s 3ms/step - loss: 0.0384 - accuracy: 0.9819 - val_loss: 0.0189 - val_accuracy: 0.9935\n",
      "Epoch 292/500\n",
      "23/23 [==============================] - 0s 3ms/step - loss: 0.0340 - accuracy: 0.9833 - val_loss: 0.0192 - val_accuracy: 0.9935\n",
      "Epoch 293/500\n",
      "23/23 [==============================] - 0s 3ms/step - loss: 0.0311 - accuracy: 0.9888 - val_loss: 0.0227 - val_accuracy: 0.9870\n",
      "Epoch 294/500\n",
      "23/23 [==============================] - 0s 2ms/step - loss: 0.0245 - accuracy: 0.9930 - val_loss: 0.0198 - val_accuracy: 0.9935\n",
      "Epoch 295/500\n",
      "23/23 [==============================] - 0s 2ms/step - loss: 0.0348 - accuracy: 0.9888 - val_loss: 0.0189 - val_accuracy: 0.9935\n",
      "Epoch 296/500\n",
      "23/23 [==============================] - 0s 3ms/step - loss: 0.0373 - accuracy: 0.9874 - val_loss: 0.0190 - val_accuracy: 0.9935\n",
      "Epoch 297/500\n",
      "23/23 [==============================] - 0s 3ms/step - loss: 0.0304 - accuracy: 0.9888 - val_loss: 0.0192 - val_accuracy: 0.9935\n",
      "Epoch 298/500\n",
      "23/23 [==============================] - 0s 3ms/step - loss: 0.0364 - accuracy: 0.9805 - val_loss: 0.0188 - val_accuracy: 0.9935\n",
      "Epoch 299/500\n",
      "23/23 [==============================] - 0s 3ms/step - loss: 0.0324 - accuracy: 0.9902 - val_loss: 0.0193 - val_accuracy: 0.9935\n",
      "Epoch 300/500\n",
      "23/23 [==============================] - 0s 3ms/step - loss: 0.0355 - accuracy: 0.9861 - val_loss: 0.0185 - val_accuracy: 0.9935\n",
      "Epoch 301/500\n",
      "23/23 [==============================] - 0s 3ms/step - loss: 0.0335 - accuracy: 0.9861 - val_loss: 0.0183 - val_accuracy: 0.9935\n",
      "Epoch 302/500\n",
      "23/23 [==============================] - 0s 3ms/step - loss: 0.0375 - accuracy: 0.9805 - val_loss: 0.0178 - val_accuracy: 0.9935\n",
      "Epoch 303/500\n",
      "23/23 [==============================] - 0s 3ms/step - loss: 0.0263 - accuracy: 0.9930 - val_loss: 0.0170 - val_accuracy: 0.9935\n",
      "Epoch 304/500\n",
      "23/23 [==============================] - 0s 3ms/step - loss: 0.0479 - accuracy: 0.9819 - val_loss: 0.0184 - val_accuracy: 0.9935\n",
      "Epoch 305/500\n",
      "23/23 [==============================] - 0s 3ms/step - loss: 0.0414 - accuracy: 0.9805 - val_loss: 0.0192 - val_accuracy: 0.9935\n",
      "Epoch 306/500\n",
      "23/23 [==============================] - 0s 3ms/step - loss: 0.0454 - accuracy: 0.9819 - val_loss: 0.0182 - val_accuracy: 0.9935\n",
      "Epoch 307/500\n",
      "23/23 [==============================] - 0s 3ms/step - loss: 0.0233 - accuracy: 0.9930 - val_loss: 0.0182 - val_accuracy: 0.9935\n",
      "Epoch 308/500\n",
      "23/23 [==============================] - 0s 3ms/step - loss: 0.0374 - accuracy: 0.9847 - val_loss: 0.0172 - val_accuracy: 0.9935\n",
      "Epoch 309/500\n",
      "23/23 [==============================] - 0s 3ms/step - loss: 0.0309 - accuracy: 0.9888 - val_loss: 0.0172 - val_accuracy: 0.9935\n",
      "Epoch 310/500\n",
      "23/23 [==============================] - 0s 2ms/step - loss: 0.0339 - accuracy: 0.9888 - val_loss: 0.0186 - val_accuracy: 0.9935\n",
      "Epoch 311/500\n",
      "23/23 [==============================] - 0s 3ms/step - loss: 0.0308 - accuracy: 0.9861 - val_loss: 0.0185 - val_accuracy: 0.9935\n",
      "Epoch 312/500\n",
      "23/23 [==============================] - 0s 3ms/step - loss: 0.0416 - accuracy: 0.9861 - val_loss: 0.0180 - val_accuracy: 0.9935\n",
      "Epoch 313/500\n",
      "23/23 [==============================] - 0s 3ms/step - loss: 0.0303 - accuracy: 0.9916 - val_loss: 0.0177 - val_accuracy: 0.9935\n",
      "Epoch 314/500\n",
      "23/23 [==============================] - 0s 3ms/step - loss: 0.0254 - accuracy: 0.9902 - val_loss: 0.0174 - val_accuracy: 0.9935\n",
      "Epoch 315/500\n",
      "23/23 [==============================] - 0s 3ms/step - loss: 0.0357 - accuracy: 0.9874 - val_loss: 0.0171 - val_accuracy: 0.9935\n",
      "Epoch 316/500\n",
      "23/23 [==============================] - 0s 3ms/step - loss: 0.0356 - accuracy: 0.9847 - val_loss: 0.0174 - val_accuracy: 0.9935\n",
      "Epoch 317/500\n",
      "23/23 [==============================] - 0s 3ms/step - loss: 0.0297 - accuracy: 0.9874 - val_loss: 0.0167 - val_accuracy: 0.9935\n",
      "Epoch 318/500\n",
      "23/23 [==============================] - 0s 3ms/step - loss: 0.0288 - accuracy: 0.9888 - val_loss: 0.0169 - val_accuracy: 0.9935\n",
      "Epoch 319/500\n",
      "23/23 [==============================] - 0s 2ms/step - loss: 0.0298 - accuracy: 0.9847 - val_loss: 0.0164 - val_accuracy: 0.9935\n",
      "Epoch 320/500\n",
      "23/23 [==============================] - 0s 2ms/step - loss: 0.0265 - accuracy: 0.9944 - val_loss: 0.0161 - val_accuracy: 0.9935\n",
      "Epoch 321/500\n",
      "23/23 [==============================] - 0s 3ms/step - loss: 0.0466 - accuracy: 0.9861 - val_loss: 0.0154 - val_accuracy: 0.9935\n",
      "Epoch 322/500\n",
      "23/23 [==============================] - 0s 3ms/step - loss: 0.0290 - accuracy: 0.9888 - val_loss: 0.0149 - val_accuracy: 0.9935\n",
      "Epoch 323/500\n",
      "23/23 [==============================] - 0s 3ms/step - loss: 0.0345 - accuracy: 0.9888 - val_loss: 0.0152 - val_accuracy: 0.9935\n",
      "Epoch 324/500\n",
      "23/23 [==============================] - 0s 3ms/step - loss: 0.0335 - accuracy: 0.9874 - val_loss: 0.0156 - val_accuracy: 0.9935\n",
      "Epoch 325/500\n",
      "23/23 [==============================] - 0s 3ms/step - loss: 0.0336 - accuracy: 0.9888 - val_loss: 0.0166 - val_accuracy: 0.9935\n",
      "Epoch 326/500\n",
      "23/23 [==============================] - 0s 3ms/step - loss: 0.0345 - accuracy: 0.9874 - val_loss: 0.0167 - val_accuracy: 0.9935\n",
      "Epoch 327/500\n",
      "23/23 [==============================] - 0s 3ms/step - loss: 0.0358 - accuracy: 0.9902 - val_loss: 0.0186 - val_accuracy: 0.9935\n",
      "Epoch 328/500\n",
      "23/23 [==============================] - 0s 3ms/step - loss: 0.0461 - accuracy: 0.9874 - val_loss: 0.0166 - val_accuracy: 0.9935\n",
      "Epoch 329/500\n",
      "23/23 [==============================] - 0s 3ms/step - loss: 0.0318 - accuracy: 0.9888 - val_loss: 0.0163 - val_accuracy: 0.9935\n",
      "Epoch 330/500\n",
      "23/23 [==============================] - 0s 3ms/step - loss: 0.0483 - accuracy: 0.9888 - val_loss: 0.0158 - val_accuracy: 0.9935\n",
      "Epoch 331/500\n",
      "23/23 [==============================] - 0s 3ms/step - loss: 0.0340 - accuracy: 0.9861 - val_loss: 0.0162 - val_accuracy: 0.9935\n",
      "Epoch 332/500\n",
      "23/23 [==============================] - 0s 3ms/step - loss: 0.0303 - accuracy: 0.9888 - val_loss: 0.0160 - val_accuracy: 0.9935\n",
      "Epoch 333/500\n",
      "23/23 [==============================] - 0s 3ms/step - loss: 0.0290 - accuracy: 0.9861 - val_loss: 0.0151 - val_accuracy: 0.9935\n",
      "Epoch 334/500\n",
      "23/23 [==============================] - 0s 3ms/step - loss: 0.0275 - accuracy: 0.9888 - val_loss: 0.0150 - val_accuracy: 0.9935\n",
      "Epoch 335/500\n",
      "23/23 [==============================] - 0s 3ms/step - loss: 0.0297 - accuracy: 0.9861 - val_loss: 0.0159 - val_accuracy: 0.9935\n",
      "Epoch 336/500\n",
      "23/23 [==============================] - 0s 3ms/step - loss: 0.0241 - accuracy: 0.9944 - val_loss: 0.0151 - val_accuracy: 0.9935\n",
      "Epoch 337/500\n",
      "23/23 [==============================] - 0s 3ms/step - loss: 0.0357 - accuracy: 0.9847 - val_loss: 0.0168 - val_accuracy: 0.9935\n",
      "Epoch 338/500\n",
      "23/23 [==============================] - 0s 3ms/step - loss: 0.0338 - accuracy: 0.9847 - val_loss: 0.0187 - val_accuracy: 0.9935\n",
      "Epoch 339/500\n",
      "23/23 [==============================] - 0s 3ms/step - loss: 0.0344 - accuracy: 0.9861 - val_loss: 0.0165 - val_accuracy: 0.9935\n",
      "Epoch 340/500\n",
      "23/23 [==============================] - 0s 3ms/step - loss: 0.0218 - accuracy: 0.9944 - val_loss: 0.0158 - val_accuracy: 0.9935\n",
      "Epoch 341/500\n",
      "23/23 [==============================] - 0s 3ms/step - loss: 0.0203 - accuracy: 0.9930 - val_loss: 0.0158 - val_accuracy: 0.9935\n",
      "Epoch 342/500\n",
      "23/23 [==============================] - 0s 3ms/step - loss: 0.0303 - accuracy: 0.9902 - val_loss: 0.0158 - val_accuracy: 0.9935\n",
      "Epoch 343/500\n",
      "23/23 [==============================] - 0s 3ms/step - loss: 0.0309 - accuracy: 0.9874 - val_loss: 0.0156 - val_accuracy: 0.9935\n",
      "Epoch 344/500\n"
     ]
    },
    {
     "name": "stdout",
     "output_type": "stream",
     "text": [
      "23/23 [==============================] - 0s 3ms/step - loss: 0.0235 - accuracy: 0.9916 - val_loss: 0.0158 - val_accuracy: 0.9935\n",
      "Epoch 345/500\n",
      "23/23 [==============================] - 0s 3ms/step - loss: 0.0446 - accuracy: 0.9874 - val_loss: 0.0149 - val_accuracy: 0.9935\n",
      "Epoch 346/500\n",
      "23/23 [==============================] - 0s 3ms/step - loss: 0.0261 - accuracy: 0.9902 - val_loss: 0.0145 - val_accuracy: 0.9935\n",
      "Epoch 347/500\n",
      "23/23 [==============================] - 0s 3ms/step - loss: 0.0385 - accuracy: 0.9847 - val_loss: 0.0157 - val_accuracy: 0.9935\n",
      "Epoch 348/500\n",
      "23/23 [==============================] - 0s 3ms/step - loss: 0.0340 - accuracy: 0.9874 - val_loss: 0.0155 - val_accuracy: 0.9935\n",
      "Epoch 349/500\n",
      "23/23 [==============================] - 0s 3ms/step - loss: 0.0293 - accuracy: 0.9874 - val_loss: 0.0171 - val_accuracy: 0.9935\n",
      "Epoch 350/500\n",
      "23/23 [==============================] - 0s 3ms/step - loss: 0.0360 - accuracy: 0.9847 - val_loss: 0.0169 - val_accuracy: 0.9935\n",
      "Epoch 351/500\n",
      "23/23 [==============================] - 0s 3ms/step - loss: 0.0204 - accuracy: 0.9930 - val_loss: 0.0146 - val_accuracy: 0.9935\n",
      "Epoch 352/500\n",
      "23/23 [==============================] - 0s 2ms/step - loss: 0.0280 - accuracy: 0.9874 - val_loss: 0.0151 - val_accuracy: 0.9935\n",
      "Epoch 353/500\n",
      "23/23 [==============================] - 0s 2ms/step - loss: 0.0323 - accuracy: 0.9874 - val_loss: 0.0143 - val_accuracy: 0.9935\n",
      "Epoch 354/500\n",
      "23/23 [==============================] - 0s 2ms/step - loss: 0.0454 - accuracy: 0.9847 - val_loss: 0.0146 - val_accuracy: 0.9935\n",
      "Epoch 355/500\n",
      "23/23 [==============================] - 0s 3ms/step - loss: 0.0354 - accuracy: 0.9861 - val_loss: 0.0156 - val_accuracy: 0.9935\n",
      "Epoch 356/500\n",
      "23/23 [==============================] - 0s 3ms/step - loss: 0.0420 - accuracy: 0.9861 - val_loss: 0.0167 - val_accuracy: 0.9935\n",
      "Epoch 357/500\n",
      "23/23 [==============================] - 0s 3ms/step - loss: 0.0273 - accuracy: 0.9944 - val_loss: 0.0173 - val_accuracy: 0.9935\n",
      "Epoch 358/500\n",
      "23/23 [==============================] - 0s 3ms/step - loss: 0.0315 - accuracy: 0.9861 - val_loss: 0.0155 - val_accuracy: 0.9935\n",
      "Epoch 359/500\n",
      "23/23 [==============================] - 0s 2ms/step - loss: 0.0347 - accuracy: 0.9861 - val_loss: 0.0161 - val_accuracy: 0.9935\n",
      "Epoch 360/500\n",
      "23/23 [==============================] - 0s 2ms/step - loss: 0.0301 - accuracy: 0.9902 - val_loss: 0.0153 - val_accuracy: 0.9935\n",
      "Epoch 361/500\n",
      "23/23 [==============================] - 0s 3ms/step - loss: 0.0298 - accuracy: 0.9888 - val_loss: 0.0154 - val_accuracy: 0.9935\n",
      "Epoch 362/500\n",
      "23/23 [==============================] - 0s 3ms/step - loss: 0.0305 - accuracy: 0.9888 - val_loss: 0.0148 - val_accuracy: 0.9935\n",
      "Epoch 363/500\n",
      "23/23 [==============================] - 0s 3ms/step - loss: 0.0388 - accuracy: 0.9902 - val_loss: 0.0153 - val_accuracy: 0.9935\n",
      "Epoch 364/500\n",
      "23/23 [==============================] - 0s 3ms/step - loss: 0.0253 - accuracy: 0.9944 - val_loss: 0.0150 - val_accuracy: 0.9935\n",
      "Epoch 365/500\n",
      "23/23 [==============================] - 0s 3ms/step - loss: 0.0277 - accuracy: 0.9888 - val_loss: 0.0136 - val_accuracy: 0.9935\n",
      "Epoch 366/500\n",
      "23/23 [==============================] - 0s 3ms/step - loss: 0.0307 - accuracy: 0.9861 - val_loss: 0.0147 - val_accuracy: 0.9935\n",
      "Epoch 367/500\n",
      "23/23 [==============================] - 0s 2ms/step - loss: 0.0271 - accuracy: 0.9916 - val_loss: 0.0137 - val_accuracy: 0.9935\n",
      "Epoch 368/500\n",
      "23/23 [==============================] - 0s 2ms/step - loss: 0.0241 - accuracy: 0.9902 - val_loss: 0.0140 - val_accuracy: 0.9935\n",
      "Epoch 369/500\n",
      "23/23 [==============================] - 0s 2ms/step - loss: 0.0233 - accuracy: 0.9930 - val_loss: 0.0141 - val_accuracy: 0.9935\n",
      "Epoch 370/500\n",
      "23/23 [==============================] - 0s 2ms/step - loss: 0.0365 - accuracy: 0.9874 - val_loss: 0.0140 - val_accuracy: 0.9935\n",
      "Epoch 371/500\n",
      "23/23 [==============================] - 0s 2ms/step - loss: 0.0268 - accuracy: 0.9902 - val_loss: 0.0134 - val_accuracy: 0.9935\n",
      "Epoch 372/500\n",
      "23/23 [==============================] - 0s 2ms/step - loss: 0.0327 - accuracy: 0.9861 - val_loss: 0.0131 - val_accuracy: 0.9935\n",
      "Epoch 373/500\n",
      "23/23 [==============================] - 0s 2ms/step - loss: 0.0274 - accuracy: 0.9888 - val_loss: 0.0141 - val_accuracy: 0.9935\n",
      "Epoch 374/500\n",
      "23/23 [==============================] - 0s 3ms/step - loss: 0.0234 - accuracy: 0.9930 - val_loss: 0.0139 - val_accuracy: 0.9935\n",
      "Epoch 375/500\n",
      "23/23 [==============================] - 0s 3ms/step - loss: 0.0320 - accuracy: 0.9861 - val_loss: 0.0144 - val_accuracy: 0.9935\n",
      "Epoch 376/500\n",
      "23/23 [==============================] - 0s 3ms/step - loss: 0.0361 - accuracy: 0.9861 - val_loss: 0.0147 - val_accuracy: 0.9935\n",
      "Epoch 377/500\n",
      "23/23 [==============================] - 0s 3ms/step - loss: 0.0291 - accuracy: 0.9874 - val_loss: 0.0139 - val_accuracy: 0.9935\n",
      "Epoch 378/500\n",
      "23/23 [==============================] - 0s 3ms/step - loss: 0.0254 - accuracy: 0.9888 - val_loss: 0.0144 - val_accuracy: 0.9935\n",
      "Epoch 379/500\n",
      "23/23 [==============================] - 0s 3ms/step - loss: 0.0342 - accuracy: 0.9861 - val_loss: 0.0146 - val_accuracy: 0.9935\n",
      "Epoch 380/500\n",
      "23/23 [==============================] - 0s 3ms/step - loss: 0.0290 - accuracy: 0.9874 - val_loss: 0.0154 - val_accuracy: 0.9935\n",
      "Epoch 381/500\n",
      "23/23 [==============================] - 0s 3ms/step - loss: 0.0342 - accuracy: 0.9847 - val_loss: 0.0140 - val_accuracy: 0.9935\n",
      "Epoch 382/500\n",
      "23/23 [==============================] - 0s 3ms/step - loss: 0.0248 - accuracy: 0.9916 - val_loss: 0.0137 - val_accuracy: 0.9935\n",
      "Epoch 383/500\n",
      "23/23 [==============================] - 0s 3ms/step - loss: 0.0295 - accuracy: 0.9888 - val_loss: 0.0132 - val_accuracy: 0.9935\n",
      "Epoch 384/500\n",
      "23/23 [==============================] - 0s 4ms/step - loss: 0.0445 - accuracy: 0.9833 - val_loss: 0.0135 - val_accuracy: 0.9935\n",
      "Epoch 385/500\n",
      "23/23 [==============================] - 0s 3ms/step - loss: 0.0224 - accuracy: 0.9916 - val_loss: 0.0141 - val_accuracy: 0.9935\n",
      "Epoch 386/500\n",
      "23/23 [==============================] - 0s 3ms/step - loss: 0.0195 - accuracy: 0.9944 - val_loss: 0.0137 - val_accuracy: 0.9935\n",
      "Epoch 387/500\n",
      "23/23 [==============================] - 0s 3ms/step - loss: 0.0270 - accuracy: 0.9916 - val_loss: 0.0134 - val_accuracy: 0.9935\n",
      "Epoch 388/500\n",
      "23/23 [==============================] - 0s 3ms/step - loss: 0.0326 - accuracy: 0.9916 - val_loss: 0.0131 - val_accuracy: 0.9935\n",
      "Epoch 389/500\n",
      "23/23 [==============================] - 0s 3ms/step - loss: 0.0329 - accuracy: 0.9874 - val_loss: 0.0136 - val_accuracy: 0.9935\n",
      "Epoch 390/500\n",
      "23/23 [==============================] - 0s 3ms/step - loss: 0.0360 - accuracy: 0.9847 - val_loss: 0.0181 - val_accuracy: 0.9870\n",
      "Epoch 391/500\n",
      "23/23 [==============================] - 0s 3ms/step - loss: 0.0211 - accuracy: 0.9958 - val_loss: 0.0159 - val_accuracy: 0.9935\n",
      "Epoch 392/500\n",
      "23/23 [==============================] - 0s 3ms/step - loss: 0.0300 - accuracy: 0.9861 - val_loss: 0.0136 - val_accuracy: 0.9935\n",
      "Epoch 393/500\n",
      "23/23 [==============================] - 0s 3ms/step - loss: 0.0379 - accuracy: 0.9874 - val_loss: 0.0128 - val_accuracy: 0.9935\n",
      "Epoch 394/500\n",
      "23/23 [==============================] - 0s 3ms/step - loss: 0.0238 - accuracy: 0.9902 - val_loss: 0.0143 - val_accuracy: 0.9935\n",
      "Epoch 395/500\n",
      "23/23 [==============================] - 0s 3ms/step - loss: 0.0391 - accuracy: 0.9916 - val_loss: 0.0140 - val_accuracy: 0.9935\n",
      "Epoch 396/500\n",
      "23/23 [==============================] - 0s 3ms/step - loss: 0.0321 - accuracy: 0.9874 - val_loss: 0.0143 - val_accuracy: 0.9935\n",
      "Epoch 397/500\n",
      "23/23 [==============================] - 0s 3ms/step - loss: 0.0351 - accuracy: 0.9874 - val_loss: 0.0124 - val_accuracy: 0.9935\n",
      "Epoch 398/500\n",
      "23/23 [==============================] - 0s 3ms/step - loss: 0.0232 - accuracy: 0.9930 - val_loss: 0.0127 - val_accuracy: 0.9935\n",
      "Epoch 399/500\n",
      "23/23 [==============================] - 0s 2ms/step - loss: 0.0281 - accuracy: 0.9902 - val_loss: 0.0125 - val_accuracy: 0.9935\n",
      "Epoch 400/500\n",
      "23/23 [==============================] - 0s 3ms/step - loss: 0.0236 - accuracy: 0.9916 - val_loss: 0.0127 - val_accuracy: 0.9935\n",
      "Epoch 401/500\n"
     ]
    },
    {
     "name": "stdout",
     "output_type": "stream",
     "text": [
      "23/23 [==============================] - 0s 2ms/step - loss: 0.0341 - accuracy: 0.9874 - val_loss: 0.0142 - val_accuracy: 0.9935\n",
      "Epoch 402/500\n",
      "23/23 [==============================] - 0s 2ms/step - loss: 0.0235 - accuracy: 0.9944 - val_loss: 0.0155 - val_accuracy: 0.9935\n",
      "Epoch 403/500\n",
      "23/23 [==============================] - 0s 2ms/step - loss: 0.0298 - accuracy: 0.9930 - val_loss: 0.0126 - val_accuracy: 0.9935\n",
      "Epoch 404/500\n",
      "23/23 [==============================] - 0s 2ms/step - loss: 0.0272 - accuracy: 0.9874 - val_loss: 0.0121 - val_accuracy: 0.9935\n",
      "Epoch 405/500\n",
      "23/23 [==============================] - 0s 3ms/step - loss: 0.0258 - accuracy: 0.9888 - val_loss: 0.0123 - val_accuracy: 0.9935\n",
      "Epoch 406/500\n",
      "23/23 [==============================] - 0s 3ms/step - loss: 0.0274 - accuracy: 0.9916 - val_loss: 0.0120 - val_accuracy: 0.9935\n",
      "Epoch 407/500\n",
      "23/23 [==============================] - 0s 3ms/step - loss: 0.0308 - accuracy: 0.9916 - val_loss: 0.0120 - val_accuracy: 0.9935\n",
      "Epoch 408/500\n",
      "23/23 [==============================] - 0s 3ms/step - loss: 0.0216 - accuracy: 0.9916 - val_loss: 0.0122 - val_accuracy: 0.9935\n",
      "Epoch 409/500\n",
      "23/23 [==============================] - 0s 3ms/step - loss: 0.0344 - accuracy: 0.9874 - val_loss: 0.0120 - val_accuracy: 0.9935\n",
      "Epoch 410/500\n",
      "23/23 [==============================] - 0s 3ms/step - loss: 0.0224 - accuracy: 0.9958 - val_loss: 0.0123 - val_accuracy: 0.9935\n",
      "Epoch 411/500\n",
      "23/23 [==============================] - 0s 3ms/step - loss: 0.0333 - accuracy: 0.9874 - val_loss: 0.0120 - val_accuracy: 0.9935\n",
      "Epoch 412/500\n",
      "23/23 [==============================] - 0s 3ms/step - loss: 0.0382 - accuracy: 0.9847 - val_loss: 0.0116 - val_accuracy: 0.9935\n",
      "Epoch 413/500\n",
      "23/23 [==============================] - 0s 2ms/step - loss: 0.0314 - accuracy: 0.9930 - val_loss: 0.0113 - val_accuracy: 0.9935\n",
      "Epoch 414/500\n",
      "23/23 [==============================] - 0s 2ms/step - loss: 0.0250 - accuracy: 0.9916 - val_loss: 0.0116 - val_accuracy: 0.9935\n",
      "Epoch 415/500\n",
      "23/23 [==============================] - 0s 2ms/step - loss: 0.0235 - accuracy: 0.9930 - val_loss: 0.0113 - val_accuracy: 0.9935\n",
      "Epoch 416/500\n",
      "23/23 [==============================] - 0s 3ms/step - loss: 0.0396 - accuracy: 0.9861 - val_loss: 0.0120 - val_accuracy: 0.9935\n",
      "Epoch 417/500\n",
      "23/23 [==============================] - 0s 3ms/step - loss: 0.0204 - accuracy: 0.9902 - val_loss: 0.0128 - val_accuracy: 0.9935\n",
      "Epoch 418/500\n",
      "23/23 [==============================] - 0s 3ms/step - loss: 0.0230 - accuracy: 0.9944 - val_loss: 0.0118 - val_accuracy: 0.9935\n",
      "Epoch 419/500\n",
      "23/23 [==============================] - 0s 3ms/step - loss: 0.0203 - accuracy: 0.9916 - val_loss: 0.0119 - val_accuracy: 0.9935\n",
      "Epoch 420/500\n",
      "23/23 [==============================] - 0s 3ms/step - loss: 0.0277 - accuracy: 0.9930 - val_loss: 0.0139 - val_accuracy: 1.0000\n",
      "Epoch 421/500\n",
      "23/23 [==============================] - 0s 3ms/step - loss: 0.0238 - accuracy: 0.9930 - val_loss: 0.0133 - val_accuracy: 0.9935\n",
      "Epoch 422/500\n",
      "23/23 [==============================] - 0s 3ms/step - loss: 0.0273 - accuracy: 0.9916 - val_loss: 0.0122 - val_accuracy: 0.9935\n",
      "Epoch 423/500\n",
      "23/23 [==============================] - 0s 2ms/step - loss: 0.0251 - accuracy: 0.9916 - val_loss: 0.0121 - val_accuracy: 0.9935\n",
      "Epoch 424/500\n",
      "23/23 [==============================] - 0s 3ms/step - loss: 0.0254 - accuracy: 0.9888 - val_loss: 0.0112 - val_accuracy: 0.9935\n",
      "Epoch 425/500\n",
      "23/23 [==============================] - 0s 3ms/step - loss: 0.0203 - accuracy: 0.9930 - val_loss: 0.0107 - val_accuracy: 0.9935\n",
      "Epoch 426/500\n",
      "23/23 [==============================] - 0s 2ms/step - loss: 0.0349 - accuracy: 0.9874 - val_loss: 0.0125 - val_accuracy: 0.9935\n",
      "Epoch 427/500\n",
      "23/23 [==============================] - 0s 2ms/step - loss: 0.0206 - accuracy: 0.9930 - val_loss: 0.0125 - val_accuracy: 0.9935\n",
      "Epoch 428/500\n",
      "23/23 [==============================] - 0s 2ms/step - loss: 0.0263 - accuracy: 0.9888 - val_loss: 0.0121 - val_accuracy: 0.9935\n",
      "Epoch 429/500\n",
      "23/23 [==============================] - 0s 2ms/step - loss: 0.0284 - accuracy: 0.9874 - val_loss: 0.0130 - val_accuracy: 0.9935\n",
      "Epoch 430/500\n",
      "23/23 [==============================] - 0s 3ms/step - loss: 0.0347 - accuracy: 0.9847 - val_loss: 0.0122 - val_accuracy: 0.9935\n",
      "Epoch 431/500\n",
      "23/23 [==============================] - 0s 2ms/step - loss: 0.0307 - accuracy: 0.9874 - val_loss: 0.0127 - val_accuracy: 0.9935\n",
      "Epoch 432/500\n",
      "23/23 [==============================] - 0s 3ms/step - loss: 0.0345 - accuracy: 0.9874 - val_loss: 0.0123 - val_accuracy: 0.9935\n",
      "Epoch 433/500\n",
      "23/23 [==============================] - 0s 3ms/step - loss: 0.0281 - accuracy: 0.9888 - val_loss: 0.0111 - val_accuracy: 0.9935\n",
      "Epoch 434/500\n",
      "23/23 [==============================] - 0s 3ms/step - loss: 0.0244 - accuracy: 0.9916 - val_loss: 0.0110 - val_accuracy: 0.9935\n",
      "Epoch 435/500\n",
      "23/23 [==============================] - 0s 3ms/step - loss: 0.0163 - accuracy: 0.9958 - val_loss: 0.0122 - val_accuracy: 0.9935\n",
      "Epoch 436/500\n",
      "23/23 [==============================] - 0s 3ms/step - loss: 0.0324 - accuracy: 0.9847 - val_loss: 0.0112 - val_accuracy: 0.9935\n",
      "Epoch 437/500\n",
      "23/23 [==============================] - 0s 3ms/step - loss: 0.0235 - accuracy: 0.9888 - val_loss: 0.0114 - val_accuracy: 0.9935\n",
      "Epoch 438/500\n",
      "23/23 [==============================] - 0s 3ms/step - loss: 0.0212 - accuracy: 0.9958 - val_loss: 0.0120 - val_accuracy: 0.9935\n",
      "Epoch 439/500\n",
      "23/23 [==============================] - 0s 3ms/step - loss: 0.0267 - accuracy: 0.9916 - val_loss: 0.0118 - val_accuracy: 0.9935\n",
      "Epoch 440/500\n",
      "23/23 [==============================] - 0s 3ms/step - loss: 0.0193 - accuracy: 0.9944 - val_loss: 0.0106 - val_accuracy: 0.9935\n",
      "Epoch 441/500\n",
      "23/23 [==============================] - 0s 3ms/step - loss: 0.0189 - accuracy: 0.9944 - val_loss: 0.0103 - val_accuracy: 0.9935\n",
      "Epoch 442/500\n",
      "23/23 [==============================] - 0s 3ms/step - loss: 0.0178 - accuracy: 0.9930 - val_loss: 0.0108 - val_accuracy: 0.9935\n",
      "Epoch 443/500\n",
      "23/23 [==============================] - 0s 3ms/step - loss: 0.0254 - accuracy: 0.9930 - val_loss: 0.0107 - val_accuracy: 0.9935\n",
      "Epoch 444/500\n",
      "23/23 [==============================] - 0s 3ms/step - loss: 0.0210 - accuracy: 0.9916 - val_loss: 0.0099 - val_accuracy: 0.9935\n",
      "Epoch 445/500\n",
      "23/23 [==============================] - 0s 3ms/step - loss: 0.0225 - accuracy: 0.9861 - val_loss: 0.0098 - val_accuracy: 0.9935\n",
      "Epoch 446/500\n",
      "23/23 [==============================] - 0s 3ms/step - loss: 0.0207 - accuracy: 0.9944 - val_loss: 0.0107 - val_accuracy: 0.9935\n",
      "Epoch 447/500\n",
      "23/23 [==============================] - 0s 3ms/step - loss: 0.0508 - accuracy: 0.9861 - val_loss: 0.0116 - val_accuracy: 1.0000\n",
      "Epoch 448/500\n",
      "23/23 [==============================] - 0s 3ms/step - loss: 0.0343 - accuracy: 0.9833 - val_loss: 0.0139 - val_accuracy: 0.9935\n",
      "Epoch 449/500\n",
      "23/23 [==============================] - 0s 2ms/step - loss: 0.0276 - accuracy: 0.9916 - val_loss: 0.0120 - val_accuracy: 0.9935\n",
      "Epoch 450/500\n",
      "23/23 [==============================] - 0s 3ms/step - loss: 0.0298 - accuracy: 0.9916 - val_loss: 0.0116 - val_accuracy: 0.9935\n",
      "Epoch 451/500\n",
      "23/23 [==============================] - 0s 3ms/step - loss: 0.0263 - accuracy: 0.9916 - val_loss: 0.0123 - val_accuracy: 0.9935\n",
      "Epoch 452/500\n",
      "23/23 [==============================] - 0s 3ms/step - loss: 0.0194 - accuracy: 0.9930 - val_loss: 0.0128 - val_accuracy: 0.9935\n",
      "Epoch 453/500\n",
      "23/23 [==============================] - 0s 3ms/step - loss: 0.0238 - accuracy: 0.9916 - val_loss: 0.0119 - val_accuracy: 0.9935\n",
      "Epoch 454/500\n",
      "23/23 [==============================] - 0s 3ms/step - loss: 0.0195 - accuracy: 0.9958 - val_loss: 0.0118 - val_accuracy: 0.9935\n",
      "Epoch 455/500\n",
      "23/23 [==============================] - 0s 3ms/step - loss: 0.0201 - accuracy: 0.9958 - val_loss: 0.0112 - val_accuracy: 0.9935\n",
      "Epoch 456/500\n",
      "23/23 [==============================] - 0s 3ms/step - loss: 0.0253 - accuracy: 0.9902 - val_loss: 0.0110 - val_accuracy: 0.9935\n",
      "Epoch 457/500\n",
      "23/23 [==============================] - 0s 3ms/step - loss: 0.0196 - accuracy: 0.9930 - val_loss: 0.0107 - val_accuracy: 0.9935\n",
      "Epoch 458/500\n"
     ]
    },
    {
     "name": "stdout",
     "output_type": "stream",
     "text": [
      "23/23 [==============================] - 0s 3ms/step - loss: 0.0238 - accuracy: 0.9888 - val_loss: 0.0096 - val_accuracy: 1.0000\n",
      "Epoch 459/500\n",
      "23/23 [==============================] - 0s 3ms/step - loss: 0.0239 - accuracy: 0.9958 - val_loss: 0.0097 - val_accuracy: 0.9935\n",
      "Epoch 460/500\n",
      "23/23 [==============================] - 0s 3ms/step - loss: 0.0199 - accuracy: 0.9930 - val_loss: 0.0091 - val_accuracy: 1.0000\n",
      "Epoch 461/500\n",
      "23/23 [==============================] - 0s 3ms/step - loss: 0.0247 - accuracy: 0.9902 - val_loss: 0.0103 - val_accuracy: 0.9935\n",
      "Epoch 462/500\n",
      "23/23 [==============================] - 0s 3ms/step - loss: 0.0287 - accuracy: 0.9874 - val_loss: 0.0103 - val_accuracy: 0.9935\n",
      "Epoch 463/500\n",
      "23/23 [==============================] - 0s 3ms/step - loss: 0.0206 - accuracy: 0.9944 - val_loss: 0.0103 - val_accuracy: 0.9935\n",
      "Epoch 464/500\n",
      "23/23 [==============================] - 0s 3ms/step - loss: 0.0414 - accuracy: 0.9833 - val_loss: 0.0114 - val_accuracy: 0.9935\n",
      "Epoch 465/500\n",
      "23/23 [==============================] - 0s 3ms/step - loss: 0.0242 - accuracy: 0.9916 - val_loss: 0.0150 - val_accuracy: 0.9935\n",
      "Epoch 466/500\n",
      "23/23 [==============================] - 0s 3ms/step - loss: 0.0206 - accuracy: 0.9944 - val_loss: 0.0153 - val_accuracy: 0.9870\n",
      "Epoch 467/500\n",
      "23/23 [==============================] - 0s 3ms/step - loss: 0.0296 - accuracy: 0.9888 - val_loss: 0.0104 - val_accuracy: 0.9935\n",
      "Epoch 468/500\n",
      "23/23 [==============================] - 0s 3ms/step - loss: 0.0222 - accuracy: 0.9916 - val_loss: 0.0103 - val_accuracy: 0.9935\n",
      "Epoch 469/500\n",
      "23/23 [==============================] - 0s 3ms/step - loss: 0.0327 - accuracy: 0.9888 - val_loss: 0.0097 - val_accuracy: 0.9935\n",
      "Epoch 470/500\n",
      "23/23 [==============================] - 0s 3ms/step - loss: 0.0156 - accuracy: 0.9944 - val_loss: 0.0093 - val_accuracy: 0.9935\n",
      "Epoch 471/500\n",
      "23/23 [==============================] - 0s 3ms/step - loss: 0.0251 - accuracy: 0.9930 - val_loss: 0.0098 - val_accuracy: 1.0000\n",
      "Epoch 472/500\n",
      "23/23 [==============================] - 0s 3ms/step - loss: 0.0158 - accuracy: 0.9972 - val_loss: 0.0094 - val_accuracy: 1.0000\n",
      "Epoch 473/500\n",
      "23/23 [==============================] - 0s 3ms/step - loss: 0.0210 - accuracy: 0.9944 - val_loss: 0.0096 - val_accuracy: 1.0000\n",
      "Epoch 474/500\n",
      "23/23 [==============================] - 0s 3ms/step - loss: 0.0342 - accuracy: 0.9888 - val_loss: 0.0102 - val_accuracy: 1.0000\n",
      "Epoch 475/500\n",
      "23/23 [==============================] - 0s 3ms/step - loss: 0.0287 - accuracy: 0.9916 - val_loss: 0.0096 - val_accuracy: 1.0000\n",
      "Epoch 476/500\n",
      "23/23 [==============================] - 0s 3ms/step - loss: 0.0281 - accuracy: 0.9916 - val_loss: 0.0103 - val_accuracy: 1.0000\n",
      "Epoch 477/500\n",
      "23/23 [==============================] - 0s 3ms/step - loss: 0.0184 - accuracy: 0.9972 - val_loss: 0.0090 - val_accuracy: 1.0000\n",
      "Epoch 478/500\n",
      "23/23 [==============================] - 0s 3ms/step - loss: 0.0181 - accuracy: 0.9958 - val_loss: 0.0087 - val_accuracy: 1.0000\n",
      "Epoch 479/500\n",
      "23/23 [==============================] - 0s 3ms/step - loss: 0.0113 - accuracy: 0.9972 - val_loss: 0.0088 - val_accuracy: 1.0000\n",
      "Epoch 480/500\n",
      "23/23 [==============================] - 0s 3ms/step - loss: 0.0306 - accuracy: 0.9861 - val_loss: 0.0089 - val_accuracy: 1.0000\n",
      "Epoch 481/500\n",
      "23/23 [==============================] - 0s 3ms/step - loss: 0.0120 - accuracy: 0.9972 - val_loss: 0.0089 - val_accuracy: 1.0000\n",
      "Epoch 482/500\n",
      "23/23 [==============================] - 0s 3ms/step - loss: 0.0166 - accuracy: 0.9972 - val_loss: 0.0085 - val_accuracy: 1.0000\n",
      "Epoch 483/500\n",
      "23/23 [==============================] - 0s 3ms/step - loss: 0.0227 - accuracy: 0.9916 - val_loss: 0.0091 - val_accuracy: 0.9935\n",
      "Epoch 484/500\n",
      "23/23 [==============================] - 0s 3ms/step - loss: 0.0337 - accuracy: 0.9861 - val_loss: 0.0085 - val_accuracy: 1.0000\n",
      "Epoch 485/500\n",
      "23/23 [==============================] - 0s 3ms/step - loss: 0.0210 - accuracy: 0.9944 - val_loss: 0.0093 - val_accuracy: 1.0000\n",
      "Epoch 486/500\n",
      "23/23 [==============================] - 0s 3ms/step - loss: 0.0337 - accuracy: 0.9874 - val_loss: 0.0094 - val_accuracy: 0.9935\n",
      "Epoch 487/500\n",
      "23/23 [==============================] - 0s 3ms/step - loss: 0.0279 - accuracy: 0.9944 - val_loss: 0.0089 - val_accuracy: 1.0000\n",
      "Epoch 488/500\n",
      "23/23 [==============================] - 0s 3ms/step - loss: 0.0203 - accuracy: 0.9930 - val_loss: 0.0086 - val_accuracy: 1.0000\n",
      "Epoch 489/500\n",
      "23/23 [==============================] - 0s 3ms/step - loss: 0.0182 - accuracy: 0.9958 - val_loss: 0.0085 - val_accuracy: 1.0000\n",
      "Epoch 490/500\n",
      "23/23 [==============================] - 0s 3ms/step - loss: 0.0212 - accuracy: 0.9902 - val_loss: 0.0090 - val_accuracy: 0.9935\n",
      "Epoch 491/500\n",
      "23/23 [==============================] - 0s 2ms/step - loss: 0.0372 - accuracy: 0.9874 - val_loss: 0.0087 - val_accuracy: 1.0000\n",
      "Epoch 492/500\n",
      "23/23 [==============================] - 0s 3ms/step - loss: 0.0268 - accuracy: 0.9944 - val_loss: 0.0091 - val_accuracy: 1.0000\n",
      "Epoch 493/500\n",
      "23/23 [==============================] - 0s 2ms/step - loss: 0.0231 - accuracy: 0.9916 - val_loss: 0.0094 - val_accuracy: 1.0000\n",
      "Epoch 494/500\n",
      "23/23 [==============================] - 0s 2ms/step - loss: 0.0241 - accuracy: 0.9916 - val_loss: 0.0093 - val_accuracy: 1.0000\n",
      "Epoch 495/500\n",
      "23/23 [==============================] - 0s 2ms/step - loss: 0.0351 - accuracy: 0.9874 - val_loss: 0.0098 - val_accuracy: 0.9935\n",
      "Epoch 496/500\n",
      "23/23 [==============================] - 0s 3ms/step - loss: 0.0204 - accuracy: 0.9958 - val_loss: 0.0099 - val_accuracy: 1.0000\n",
      "Epoch 497/500\n",
      "23/23 [==============================] - 0s 3ms/step - loss: 0.0254 - accuracy: 0.9916 - val_loss: 0.0101 - val_accuracy: 0.9935\n",
      "Epoch 498/500\n",
      "23/23 [==============================] - 0s 3ms/step - loss: 0.0222 - accuracy: 0.9902 - val_loss: 0.0101 - val_accuracy: 0.9935\n",
      "Epoch 499/500\n",
      "23/23 [==============================] - 0s 3ms/step - loss: 0.0240 - accuracy: 0.9916 - val_loss: 0.0093 - val_accuracy: 0.9935\n",
      "Epoch 500/500\n",
      "23/23 [==============================] - 0s 3ms/step - loss: 0.0235 - accuracy: 0.9930 - val_loss: 0.0087 - val_accuracy: 1.0000\n"
     ]
    }
   ],
   "source": [
    "history = model.fit(x_train, y_train, batch_size = 32, epochs = 500,validation_data=(x_test,y_test),class_weight=class_weight_dict)"
   ]
  },
  {
   "cell_type": "code",
   "execution_count": 64,
   "id": "320ffc0b",
   "metadata": {},
   "outputs": [
    {
     "name": "stdout",
     "output_type": "stream",
     "text": [
      "Model: \"sequential\"\n",
      "_________________________________________________________________\n",
      " Layer (type)                Output Shape              Param #   \n",
      "=================================================================\n",
      " dense (Dense)               (None, 16)                496       \n",
      "                                                                 \n",
      " dropout (Dropout)           (None, 16)                0         \n",
      "                                                                 \n",
      " dense_1 (Dense)             (None, 16)                272       \n",
      "                                                                 \n",
      " dense_2 (Dense)             (None, 1)                 17        \n",
      "                                                                 \n",
      "=================================================================\n",
      "Total params: 785\n",
      "Trainable params: 785\n",
      "Non-trainable params: 0\n",
      "_________________________________________________________________\n"
     ]
    }
   ],
   "source": [
    "model.summary()"
   ]
  },
  {
   "cell_type": "code",
   "execution_count": 69,
   "id": "c72eec79",
   "metadata": {},
   "outputs": [
    {
     "data": {
      "image/png": "[encoded data removed]",
      "text/plain": [
       "<Figure size 720x360 with 1 Axes>"
      ]
     },
     "metadata": {
      "needs_background": "light"
     },
     "output_type": "display_data"
    }
   ],
   "source": [
    "import matplotlib.pyplot as plt\n",
    "\n",
    "epochs = range(1, 501) \n",
    "plt.figure(figsize=(10, 5))\n",
    "plt.title(\"Loss vs Accuracy of Model\")\n",
    "plt.plot(epochs, history.history['loss'][:500], label='Loss')\n",
    "plt.plot(epochs, history.history['accuracy'][:500], label='Accuracy')\n",
    "plt.grid()\n",
    "plt.xlabel(\"Epochs\")\n",
    "plt.grid()\n",
    "plt.legend()\n",
    "plt.show()"
   ]
  },
  {
   "cell_type": "code",
   "execution_count": 70,
   "id": "9e467d52",
   "metadata": {},
   "outputs": [],
   "source": [
    "import seaborn as sns\n",
    "import matplotlib.pyplot as plt\n",
    "from sklearn.metrics import confusion_matrix, classification_report"
   ]
  },
  {
   "cell_type": "code",
   "execution_count": 71,
   "id": "822f8bb1",
   "metadata": {},
   "outputs": [
    {
     "name": "stdout",
     "output_type": "stream",
     "text": [
      "10/10 [==============================] - 0s 779us/step\n"
     ]
    }
   ],
   "source": [
    "y_pred = (model.predict(x_test) > 0.5).astype(int) "
   ]
  },
  {
   "cell_type": "code",
   "execution_count": 72,
   "id": "da01033e",
   "metadata": {},
   "outputs": [],
   "source": [
    "conf_matrix = confusion_matrix(y_test, y_pred)"
   ]
  },
  {
   "cell_type": "code",
   "execution_count": 73,
   "id": "437cefd1",
   "metadata": {},
   "outputs": [
    {
     "data": {
      "image/png": "[encoded data removed]",
      "text/plain": [
       "<Figure size 432x288 with 2 Axes>"
      ]
     },
     "metadata": {
      "needs_background": "light"
     },
     "output_type": "display_data"
    }
   ],
   "source": [
    "plt.figure(figsize=(6, 4))\n",
    "sns.heatmap(conf_matrix, annot=True, fmt='d', cmap='Blues', xticklabels=[\"No Disease\", \"Heart Disease\"], yticklabels=[\"No Disease\", \"Heart Disease\"])\n",
    "plt.xlabel(\"Predicted\")\n",
    "plt.ylabel(\"Actual\")\n",
    "plt.title(\"Confusion Matrix\")\n",
    "plt.show()"
   ]
  },
  {
   "cell_type": "code",
   "execution_count": 74,
   "id": "d4e084b5",
   "metadata": {},
   "outputs": [
    {
     "name": "stdout",
     "output_type": "stream",
     "text": [
      "Classification Report:\n",
      "\n",
      "              precision    recall  f1-score   support\n",
      "\n",
      "           0       1.00      1.00      1.00       153\n",
      "           1       1.00      1.00      1.00       155\n",
      "\n",
      "    accuracy                           1.00       308\n",
      "   macro avg       1.00      1.00      1.00       308\n",
      "weighted avg       1.00      1.00      1.00       308\n",
      "\n"
     ]
    }
   ],
   "source": [
    "print(\"Classification Report:\\n\")\n",
    "print(classification_report(y_test, y_pred))"
   ]
  },
  {
   "cell_type": "code",
   "execution_count": 75,
   "id": "bcd89556",
   "metadata": {},
   "outputs": [
    {
     "name": "stdout",
     "output_type": "stream",
     "text": [
      "Index(['age', 'trestbps', 'chol', 'thalach', 'oldpeak', 'sex_0', 'sex_1',\n",
      "       'cp_0', 'cp_1', 'cp_2', 'cp_3', 'fbs_0', 'fbs_1', 'restecg_0',\n",
      "       'restecg_1', 'restecg_2', 'exang_0', 'exang_1', 'slope_0', 'slope_1',\n",
      "       'slope_2', 'ca_0.0', 'ca_1.0', 'ca_2.0', 'ca_3.0', 'ca_4.0', 'thal_0.0',\n",
      "       'thal_1.0', 'thal_2.0', 'thal_3.0'],\n",
      "      dtype='object')\n"
     ]
    }
   ],
   "source": [
    "feature_columns = x.columns\n",
    "print(feature_columns)"
   ]
  },
  {
   "cell_type": "code",
   "execution_count": 76,
   "id": "378f154c",
   "metadata": {},
   "outputs": [
    {
     "data": {
      "text/plain": [
       "['age',\n",
       " 'trestbps',\n",
       " 'chol',\n",
       " 'thalach',\n",
       " 'oldpeak',\n",
       " 'sex_0',\n",
       " 'sex_1',\n",
       " 'cp_0',\n",
       " 'cp_1',\n",
       " 'cp_2',\n",
       " 'cp_3',\n",
       " 'fbs_0',\n",
       " 'fbs_1',\n",
       " 'restecg_0',\n",
       " 'restecg_1',\n",
       " 'restecg_2',\n",
       " 'exang_0',\n",
       " 'exang_1',\n",
       " 'slope_0',\n",
       " 'slope_1',\n",
       " 'slope_2',\n",
       " 'ca_0.0',\n",
       " 'ca_1.0',\n",
       " 'ca_2.0',\n",
       " 'ca_3.0',\n",
       " 'ca_4.0',\n",
       " 'thal_0.0',\n",
       " 'thal_1.0',\n",
       " 'thal_2.0',\n",
       " 'thal_3.0']"
      ]
     },
     "execution_count": 76,
     "metadata": {},
     "output_type": "execute_result"
    }
   ],
   "source": [
    "x_train.columns.tolist()"
   ]
  },
  {
   "cell_type": "code",
   "execution_count": 77,
   "id": "7baad8da",
   "metadata": {},
   "outputs": [],
   "source": [
    "def predict_heart_disease(model, scaler, feature_columns, user_input):\n",
    "    df = pd.DataFrame([user_input])\n",
    "    df = pd.get_dummies(df)\n",
    "    df = df.reindex(columns=feature_columns, fill_value=0)  # Ensure same column order\n",
    "    df[numerical_columns] = scaler.transform(df[numerical_columns])\n",
    "    \n",
    "    prediction = model.predict(df)[0][0]\n",
    "    \n",
    "    print(f\"Raw Model Output: {prediction}\")\n",
    "    \n",
    "    return \"No Heart Disease Detected\" if prediction > 0.5 else \"Heart Disease Detected\"\n"
   ]
  },
  {
   "cell_type": "code",
   "execution_count": 78,
   "id": "570b96ee",
   "metadata": {},
   "outputs": [],
   "source": [
    "new_patient_healthy = {\n",
    "    \"age\": 30, \"sex\": 0, \"cp\": 0, \"trestbps\": 120, \"chol\": 180, \"fbs\": 0, \"restecg\": 0,\n",
    "    \"thalach\": 170, \"exang\": 0, \"oldpeak\": 0.0, \"slope\": 2, \"ca\": 0, \"thal\": 2\n",
    "}"
   ]
  },
  {
   "cell_type": "code",
   "execution_count": 79,
   "id": "c26c710a",
   "metadata": {},
   "outputs": [
    {
     "name": "stdout",
     "output_type": "stream",
     "text": [
      "1/1 [==============================] - 0s 16ms/step\n",
      "Raw Model Output: 0.9301667213439941\n"
     ]
    },
    {
     "data": {
      "text/plain": [
       "'No Heart Disease Detected'"
      ]
     },
     "execution_count": 79,
     "metadata": {},
     "output_type": "execute_result"
    }
   ],
   "source": [
    "predict_heart_disease(model,scaler,feature_columns,new_patient_healthy)"
   ]
  },
  {
   "cell_type": "code",
   "execution_count": 80,
   "id": "4252a169",
   "metadata": {},
   "outputs": [],
   "source": [
    "new_patient_disease = {\n",
    "    \"age\": 65, \"sex\": 1, \"cp\": 3, \"trestbps\": 140, \"chol\": 300, \"fbs\": 1, \"restecg\": 2,\n",
    "    \"thalach\": 120, \"exang\": 1, \"oldpeak\": 2.5, \"slope\": 1, \"ca\": 2, \"thal\": 3\n",
    "}"
   ]
  },
  {
   "cell_type": "code",
   "execution_count": 81,
   "id": "e90deb7f",
   "metadata": {},
   "outputs": [
    {
     "name": "stdout",
     "output_type": "stream",
     "text": [
      "1/1 [==============================] - 0s 16ms/step\n",
      "Raw Model Output: 0.0003438600979279727\n"
     ]
    },
    {
     "data": {
      "text/plain": [
       "'Heart Disease Detected'"
      ]
     },
     "execution_count": 81,
     "metadata": {},
     "output_type": "execute_result"
    }
   ],
   "source": [
    "predict_heart_disease(model,scaler,feature_columns,new_patient_disease)"
   ]
  },
  {
   "cell_type": "code",
   "execution_count": 82,
   "id": "c850ab0c",
   "metadata": {},
   "outputs": [],
   "source": [
    "new_patient = {\n",
    "    \"age\": 25, \"sex\": 0, \"cp\": 0, \"trestbps\": 110, \"chol\": 160, \"fbs\": 0, \"restecg\": 0,\n",
    "    \"thalach\": 180, \"exang\": 0, \"oldpeak\": 0.0, \"slope\": 2, \"ca\": 0, \"thal\": 2\n",
    "}"
   ]
  },
  {
   "cell_type": "code",
   "execution_count": 83,
   "id": "b6e7cd38",
   "metadata": {},
   "outputs": [
    {
     "name": "stdout",
     "output_type": "stream",
     "text": [
      "1/1 [==============================] - 0s 58ms/step\n",
      "Raw Model Output: 0.9930155277252197\n"
     ]
    },
    {
     "data": {
      "text/plain": [
       "'No Heart Disease Detected'"
      ]
     },
     "execution_count": 83,
     "metadata": {},
     "output_type": "execute_result"
    }
   ],
   "source": [
    "predict_heart_disease(model,scaler,feature_columns,new_patient)"
   ]
  },
  {
   "cell_type": "code",
   "execution_count": 84,
   "id": "f1077b75",
   "metadata": {},
   "outputs": [],
   "source": [
    "knn_scores = []\n",
    "for k in range(1,10):\n",
    "    knn_classifier = KNeighborsClassifier(n_neighbors = k)\n",
    "    knn_classifier.fit(x_train, y_train)\n",
    "    knn_scores.append(knn_classifier.score(x_test, y_test))"
   ]
  },
  {
   "cell_type": "code",
   "execution_count": 85,
   "id": "2f3be0c9",
   "metadata": {},
   "outputs": [
    {
     "data": {
      "text/plain": [
       "Text(0.5, 1.0, 'K Neighbors Classifier scores for different K values')"
      ]
     },
     "execution_count": 85,
     "metadata": {},
     "output_type": "execute_result"
    },
    {
     "data": {
      "image/png": "[encoded data removed]",
      "text/plain": [
       "<Figure size 576x432 with 1 Axes>"
      ]
     },
     "metadata": {
      "needs_background": "light"
     },
     "output_type": "display_data"
    }
   ],
   "source": [
    "plt.plot([k for k in range(1, 10)], knn_scores, color = 'blue')\n",
    "for i in range(1,10):\n",
    "    plt.text(i, knn_scores[i-1], (i, knn_scores[i-1]))\n",
    "plt.xticks([i for i in range(1, 10)])\n",
    "plt.xlabel('Number of Neighbors (K)')\n",
    "plt.ylabel('Scores')\n",
    "plt.title('K Neighbors Classifier scores for different K values')"
   ]
  },
  {
   "cell_type": "code",
   "execution_count": 86,
   "id": "bbcaaa39",
   "metadata": {},
   "outputs": [
    {
     "name": "stdout",
     "output_type": "stream",
     "text": [
      "The score for K Neighbors Classifier is 86.68831168831169% with 8 nieghbors.\n"
     ]
    }
   ],
   "source": [
    "print(\"The score for K Neighbors Classifier is {}% with {} nieghbors.\".format(knn_scores[7]*100, 8))"
   ]
  },
  {
   "cell_type": "code",
   "execution_count": 87,
   "id": "0d6c8273",
   "metadata": {},
   "outputs": [],
   "source": [
    "svc_scores = []\n",
    "kernels = ['linear', 'poly', 'rbf', 'sigmoid']\n",
    "for i in range(len(kernels)):\n",
    "    svc_classifier = SVC(kernel = kernels[i])\n",
    "    svc_classifier.fit(x_train, y_train)\n",
    "    svc_scores.append(svc_classifier.score(x_test, y_test))"
   ]
  },
  {
   "cell_type": "code",
   "execution_count": 88,
   "id": "eb6b7c7b",
   "metadata": {},
   "outputs": [
    {
     "data": {
      "text/plain": [
       "Text(0.5, 1.0, 'Support Vector Classifier scores for different kernels')"
      ]
     },
     "execution_count": 88,
     "metadata": {},
     "output_type": "execute_result"
    },
    {
     "data": {
      "image/png": "[encoded data removed]",
      "text/plain": [
       "<Figure size 576x432 with 1 Axes>"
      ]
     },
     "metadata": {
      "needs_background": "light"
     },
     "output_type": "display_data"
    }
   ],
   "source": [
    "colors = rainbow(np.linspace(0, 1, len(kernels)))\n",
    "plt.bar(kernels, svc_scores, color = colors)\n",
    "for i in range(len(kernels)):\n",
    "    plt.text(i, svc_scores[i], svc_scores[i])\n",
    "plt.xlabel('Kernels')\n",
    "plt.ylabel('Scores')\n",
    "plt.title('Support Vector Classifier scores for different kernels')"
   ]
  },
  {
   "cell_type": "code",
   "execution_count": 89,
   "id": "49a4d660",
   "metadata": {},
   "outputs": [
    {
     "name": "stdout",
     "output_type": "stream",
     "text": [
      "The score for Support Vector Classifier is 85.71428571428571% with linear kernel.\n"
     ]
    }
   ],
   "source": [
    "print(\"The score for Support Vector Classifier is {}% with {} kernel.\".format(svc_scores[0]*100, 'linear'))"
   ]
  },
  {
   "cell_type": "code",
   "execution_count": 90,
   "id": "72111cc3",
   "metadata": {},
   "outputs": [],
   "source": [
    "dt_scores = []\n",
    "for i in range(1, len(x.columns) + 1):\n",
    "    dt_classifier = DecisionTreeClassifier(max_features = i, random_state = 0)\n",
    "    dt_classifier.fit(x_train, y_train)\n",
    "    dt_scores.append(dt_classifier.score(x_test, y_test))"
   ]
  },
  {
   "cell_type": "code",
   "execution_count": 91,
   "id": "6bc9f68b",
   "metadata": {},
   "outputs": [
    {
     "data": {
      "text/plain": [
       "Text(0.5, 1.0, 'Decision Tree Classifier scores for different number of maximum features')"
      ]
     },
     "execution_count": 91,
     "metadata": {},
     "output_type": "execute_result"
    },
    {
     "data": {
      "image/png": "[encoded data removed]",
      "text/plain": [
       "<Figure size 576x432 with 1 Axes>"
      ]
     },
     "metadata": {
      "needs_background": "light"
     },
     "output_type": "display_data"
    }
   ],
   "source": [
    "plt.plot([i for i in range(1, len(x.columns) + 1)], dt_scores, color = '#AAFF00')\n",
    "for i in range(1, len(x.columns) + 1):\n",
    "    plt.text(i, dt_scores[i-1], (i, dt_scores[i-1]))\n",
    "plt.xticks([i for i in range(1, len(x.columns) + 1)])\n",
    "plt.xlabel('Max features')\n",
    "plt.ylabel('Scores')\n",
    "plt.title('Decision Tree Classifier scores for different number of maximum features')"
   ]
  },
  {
   "cell_type": "code",
   "execution_count": 92,
   "id": "4898e8da",
   "metadata": {},
   "outputs": [
    {
     "name": "stdout",
     "output_type": "stream",
     "text": [
      "The score for Decision Tree Classifier is 99.02597402597402% with [2, 4, 14] maximum features.\n"
     ]
    }
   ],
   "source": [
    "print(\"The score for Decision Tree Classifier is {}% with {} maximum features.\".format(dt_scores[13]*100, [2,4,14]))"
   ]
  },
  {
   "cell_type": "code",
   "execution_count": 93,
   "id": "668f38e7",
   "metadata": {},
   "outputs": [],
   "source": [
    "rf_scores = []\n",
    "estimators = [10, 100, 200, 500, 1000]\n",
    "for i in estimators:\n",
    "    rf_classifier = RandomForestClassifier(n_estimators = i, random_state = 0)\n",
    "    rf_classifier.fit(x_train, y_train)\n",
    "    rf_scores.append(rf_classifier.score(x_test, y_test))"
   ]
  },
  {
   "cell_type": "code",
   "execution_count": 94,
   "id": "903d5212",
   "metadata": {},
   "outputs": [
    {
     "data": {
      "text/plain": [
       "Text(0.5, 1.0, 'Random Forest Classifier scores for different number of estimators')"
      ]
     },
     "execution_count": 94,
     "metadata": {},
     "output_type": "execute_result"
    },
    {
     "data": {
      "image/png": "[encoded data removed]",
      "text/plain": [
       "<Figure size 576x432 with 1 Axes>"
      ]
     },
     "metadata": {
      "needs_background": "light"
     },
     "output_type": "display_data"
    }
   ],
   "source": [
    "colors = rainbow(np.linspace(0, 1, len(estimators)))\n",
    "plt.bar([i for i in range(len(estimators))], rf_scores, color = colors, width = 0.5)\n",
    "for i in range(len(estimators)):\n",
    "    plt.text(i, rf_scores[i], rf_scores[i])\n",
    "plt.xticks(ticks = [i for i in range(len(estimators))], labels = [str(estimator) for estimator in estimators])\n",
    "plt.xlabel('Number of estimators')\n",
    "plt.ylabel('Scores')\n",
    "plt.title('Random Forest Classifier scores for different number of estimators')"
   ]
  },
  {
   "cell_type": "code",
   "execution_count": 95,
   "id": "d32ff611",
   "metadata": {},
   "outputs": [
    {
     "name": "stdout",
     "output_type": "stream",
     "text": [
      "The score for Random Forest Classifier is 100.0% with [100, 500] estimators.\n"
     ]
    }
   ],
   "source": [
    "print(\"The score for Random Forest Classifier is {}% with {} estimators.\".format(rf_scores[1]*100, [100, 500]))"
   ]
  },
  {
   "cell_type": "code",
   "execution_count": 98,
   "id": "f031b944",
   "metadata": {},
   "outputs": [],
   "source": [
    "model.save(\"heartDisease.h5\")"
   ]
  },
  {
   "cell_type": "code",
   "execution_count": null,
   "id": "4479c4d9",
   "metadata": {},
   "outputs": [],
   "source": []
  }
 ],
 "metadata": {
  "kernelspec": {
   "display_name": "Python 3 (ipykernel)",
   "language": "python",
   "name": "python3"
  },
  "language_info": {
   "codemirror_mode": {
    "name": "ipython",
    "version": 3
   },
   "file_extension": ".py",
   "mimetype": "text/x-python",
   "name": "python",
   "nbconvert_exporter": "python",
   "pygments_lexer": "ipython3",
   "version": "3.9.12"
  }
 },
 "nbformat": 4,
 "nbformat_minor": 5
}
