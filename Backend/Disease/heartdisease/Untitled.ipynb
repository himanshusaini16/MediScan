{
 "cells": [
  {
   "cell_type": "code",
   "execution_count": 1,
   "id": "199f9aed",
   "metadata": {},
   "outputs": [],
   "source": [
    "import numpy as np\n",
    "import pandas as pd\n",
    "import seaborn as sns\n",
    "import matplotlib.pyplot as plt\n",
    "from matplotlib import rcParams\n",
    "from matplotlib.cm import rainbow\n",
    "import tensorflow as tf\n",
    "from tensorflow.keras.models import Sequential\n",
    "from tensorflow.keras.layers import Conv2D, MaxPool2D, Flatten ,Dense"
   ]
  },
  {
   "cell_type": "code",
   "execution_count": 2,
   "id": "2ea8435f",
   "metadata": {},
   "outputs": [],
   "source": [
    "from sklearn.model_selection import train_test_split\n",
    "from sklearn.preprocessing import StandardScaler\n",
    "from sklearn.metrics import accuracy_score, classification_report, confusion_matrix\n",
    "from sklearn.utils.class_weight import compute_class_weight"
   ]
  },
  {
   "cell_type": "code",
   "execution_count": 3,
   "id": "f454e7a1",
   "metadata": {},
   "outputs": [],
   "source": [
    "from sklearn.linear_model import LogisticRegression\n",
    "from sklearn.svm import SVC\n",
    "from sklearn.tree import DecisionTreeClassifier\n",
    "from sklearn.ensemble import RandomForestClassifier"
   ]
  },
  {
   "cell_type": "code",
   "execution_count": 4,
   "id": "f9062487",
   "metadata": {},
   "outputs": [],
   "source": [
    "dataset = pd.read_csv('dataset/heart.csv')"
   ]
  },
  {
   "cell_type": "code",
   "execution_count": 7,
   "id": "9453eb37",
   "metadata": {},
   "outputs": [
    {
     "name": "stdout",
     "output_type": "stream",
     "text": [
      "<class 'pandas.core.frame.DataFrame'>\n",
      "RangeIndex: 1025 entries, 0 to 1024\n",
      "Data columns (total 14 columns):\n",
      " #   Column    Non-Null Count  Dtype  \n",
      "---  ------    --------------  -----  \n",
      " 0   age       1025 non-null   int64  \n",
      " 1   sex       1025 non-null   int64  \n",
      " 2   cp        1025 non-null   int64  \n",
      " 3   trestbps  1025 non-null   int64  \n",
      " 4   chol      1025 non-null   int64  \n",
      " 5   fbs       1025 non-null   int64  \n",
      " 6   restecg   1025 non-null   int64  \n",
      " 7   thalach   1025 non-null   int64  \n",
      " 8   exang     1025 non-null   int64  \n",
      " 9   oldpeak   1025 non-null   float64\n",
      " 10  slope     1025 non-null   int64  \n",
      " 11  ca        1025 non-null   int64  \n",
      " 12  thal      1025 non-null   int64  \n",
      " 13  target    1025 non-null   int64  \n",
      "dtypes: float64(1), int64(13)\n",
      "memory usage: 112.2 KB\n",
      "None\n"
     ]
    }
   ],
   "source": [
    "print(dataset.info())"
   ]
  },
  {
   "cell_type": "code",
   "execution_count": 8,
   "id": "6eb65bad",
   "metadata": {},
   "outputs": [
    {
     "data": {
      "text/html": [
       "<div>\n",
       "<style scoped>\n",
       "    .dataframe tbody tr th:only-of-type {\n",
       "        vertical-align: middle;\n",
       "    }\n",
       "\n",
       "    .dataframe tbody tr th {\n",
       "        vertical-align: top;\n",
       "    }\n",
       "\n",
       "    .dataframe thead th {\n",
       "        text-align: right;\n",
       "    }\n",
       "</style>\n",
       "<table border=\"1\" class=\"dataframe\">\n",
       "  <thead>\n",
       "    <tr style=\"text-align: right;\">\n",
       "      <th></th>\n",
       "      <th>age</th>\n",
       "      <th>sex</th>\n",
       "      <th>cp</th>\n",
       "      <th>trestbps</th>\n",
       "      <th>chol</th>\n",
       "      <th>fbs</th>\n",
       "      <th>restecg</th>\n",
       "      <th>thalach</th>\n",
       "      <th>exang</th>\n",
       "      <th>oldpeak</th>\n",
       "      <th>slope</th>\n",
       "      <th>ca</th>\n",
       "      <th>thal</th>\n",
       "      <th>target</th>\n",
       "    </tr>\n",
       "  </thead>\n",
       "  <tbody>\n",
       "    <tr>\n",
       "      <th>0</th>\n",
       "      <td>52</td>\n",
       "      <td>1</td>\n",
       "      <td>0</td>\n",
       "      <td>125</td>\n",
       "      <td>212</td>\n",
       "      <td>0</td>\n",
       "      <td>1</td>\n",
       "      <td>168</td>\n",
       "      <td>0</td>\n",
       "      <td>1.0</td>\n",
       "      <td>2</td>\n",
       "      <td>2</td>\n",
       "      <td>3</td>\n",
       "      <td>0</td>\n",
       "    </tr>\n",
       "    <tr>\n",
       "      <th>1</th>\n",
       "      <td>53</td>\n",
       "      <td>1</td>\n",
       "      <td>0</td>\n",
       "      <td>140</td>\n",
       "      <td>203</td>\n",
       "      <td>1</td>\n",
       "      <td>0</td>\n",
       "      <td>155</td>\n",
       "      <td>1</td>\n",
       "      <td>3.1</td>\n",
       "      <td>0</td>\n",
       "      <td>0</td>\n",
       "      <td>3</td>\n",
       "      <td>0</td>\n",
       "    </tr>\n",
       "    <tr>\n",
       "      <th>2</th>\n",
       "      <td>70</td>\n",
       "      <td>1</td>\n",
       "      <td>0</td>\n",
       "      <td>145</td>\n",
       "      <td>174</td>\n",
       "      <td>0</td>\n",
       "      <td>1</td>\n",
       "      <td>125</td>\n",
       "      <td>1</td>\n",
       "      <td>2.6</td>\n",
       "      <td>0</td>\n",
       "      <td>0</td>\n",
       "      <td>3</td>\n",
       "      <td>0</td>\n",
       "    </tr>\n",
       "    <tr>\n",
       "      <th>3</th>\n",
       "      <td>61</td>\n",
       "      <td>1</td>\n",
       "      <td>0</td>\n",
       "      <td>148</td>\n",
       "      <td>203</td>\n",
       "      <td>0</td>\n",
       "      <td>1</td>\n",
       "      <td>161</td>\n",
       "      <td>0</td>\n",
       "      <td>0.0</td>\n",
       "      <td>2</td>\n",
       "      <td>1</td>\n",
       "      <td>3</td>\n",
       "      <td>0</td>\n",
       "    </tr>\n",
       "    <tr>\n",
       "      <th>4</th>\n",
       "      <td>62</td>\n",
       "      <td>0</td>\n",
       "      <td>0</td>\n",
       "      <td>138</td>\n",
       "      <td>294</td>\n",
       "      <td>1</td>\n",
       "      <td>1</td>\n",
       "      <td>106</td>\n",
       "      <td>0</td>\n",
       "      <td>1.9</td>\n",
       "      <td>1</td>\n",
       "      <td>3</td>\n",
       "      <td>2</td>\n",
       "      <td>0</td>\n",
       "    </tr>\n",
       "  </tbody>\n",
       "</table>\n",
       "</div>"
      ],
      "text/plain": [
       "   age  sex  cp  trestbps  chol  fbs  restecg  thalach  exang  oldpeak  slope  \\\n",
       "0   52    1   0       125   212    0        1      168      0      1.0      2   \n",
       "1   53    1   0       140   203    1        0      155      1      3.1      0   \n",
       "2   70    1   0       145   174    0        1      125      1      2.6      0   \n",
       "3   61    1   0       148   203    0        1      161      0      0.0      2   \n",
       "4   62    0   0       138   294    1        1      106      0      1.9      1   \n",
       "\n",
       "   ca  thal  target  \n",
       "0   2     3       0  \n",
       "1   0     3       0  \n",
       "2   0     3       0  \n",
       "3   1     3       0  \n",
       "4   3     2       0  "
      ]
     },
     "execution_count": 8,
     "metadata": {},
     "output_type": "execute_result"
    }
   ],
   "source": [
    "dataset.head()"
   ]
  },
  {
   "cell_type": "code",
   "execution_count": 9,
   "id": "d618bb6c",
   "metadata": {},
   "outputs": [
    {
     "data": {
      "text/html": [
       "<div>\n",
       "<style scoped>\n",
       "    .dataframe tbody tr th:only-of-type {\n",
       "        vertical-align: middle;\n",
       "    }\n",
       "\n",
       "    .dataframe tbody tr th {\n",
       "        vertical-align: top;\n",
       "    }\n",
       "\n",
       "    .dataframe thead th {\n",
       "        text-align: right;\n",
       "    }\n",
       "</style>\n",
       "<table border=\"1\" class=\"dataframe\">\n",
       "  <thead>\n",
       "    <tr style=\"text-align: right;\">\n",
       "      <th></th>\n",
       "      <th>age</th>\n",
       "      <th>sex</th>\n",
       "      <th>cp</th>\n",
       "      <th>trestbps</th>\n",
       "      <th>chol</th>\n",
       "      <th>fbs</th>\n",
       "      <th>restecg</th>\n",
       "      <th>thalach</th>\n",
       "      <th>exang</th>\n",
       "      <th>oldpeak</th>\n",
       "      <th>slope</th>\n",
       "      <th>ca</th>\n",
       "      <th>thal</th>\n",
       "      <th>target</th>\n",
       "    </tr>\n",
       "  </thead>\n",
       "  <tbody>\n",
       "    <tr>\n",
       "      <th>count</th>\n",
       "      <td>1025.000000</td>\n",
       "      <td>1025.000000</td>\n",
       "      <td>1025.000000</td>\n",
       "      <td>1025.000000</td>\n",
       "      <td>1025.00000</td>\n",
       "      <td>1025.000000</td>\n",
       "      <td>1025.000000</td>\n",
       "      <td>1025.000000</td>\n",
       "      <td>1025.000000</td>\n",
       "      <td>1025.000000</td>\n",
       "      <td>1025.000000</td>\n",
       "      <td>1025.000000</td>\n",
       "      <td>1025.000000</td>\n",
       "      <td>1025.000000</td>\n",
       "    </tr>\n",
       "    <tr>\n",
       "      <th>mean</th>\n",
       "      <td>54.434146</td>\n",
       "      <td>0.695610</td>\n",
       "      <td>0.942439</td>\n",
       "      <td>131.611707</td>\n",
       "      <td>246.00000</td>\n",
       "      <td>0.149268</td>\n",
       "      <td>0.529756</td>\n",
       "      <td>149.114146</td>\n",
       "      <td>0.336585</td>\n",
       "      <td>1.071512</td>\n",
       "      <td>1.385366</td>\n",
       "      <td>0.754146</td>\n",
       "      <td>2.323902</td>\n",
       "      <td>0.513171</td>\n",
       "    </tr>\n",
       "    <tr>\n",
       "      <th>std</th>\n",
       "      <td>9.072290</td>\n",
       "      <td>0.460373</td>\n",
       "      <td>1.029641</td>\n",
       "      <td>17.516718</td>\n",
       "      <td>51.59251</td>\n",
       "      <td>0.356527</td>\n",
       "      <td>0.527878</td>\n",
       "      <td>23.005724</td>\n",
       "      <td>0.472772</td>\n",
       "      <td>1.175053</td>\n",
       "      <td>0.617755</td>\n",
       "      <td>1.030798</td>\n",
       "      <td>0.620660</td>\n",
       "      <td>0.500070</td>\n",
       "    </tr>\n",
       "    <tr>\n",
       "      <th>min</th>\n",
       "      <td>29.000000</td>\n",
       "      <td>0.000000</td>\n",
       "      <td>0.000000</td>\n",
       "      <td>94.000000</td>\n",
       "      <td>126.00000</td>\n",
       "      <td>0.000000</td>\n",
       "      <td>0.000000</td>\n",
       "      <td>71.000000</td>\n",
       "      <td>0.000000</td>\n",
       "      <td>0.000000</td>\n",
       "      <td>0.000000</td>\n",
       "      <td>0.000000</td>\n",
       "      <td>0.000000</td>\n",
       "      <td>0.000000</td>\n",
       "    </tr>\n",
       "    <tr>\n",
       "      <th>25%</th>\n",
       "      <td>48.000000</td>\n",
       "      <td>0.000000</td>\n",
       "      <td>0.000000</td>\n",
       "      <td>120.000000</td>\n",
       "      <td>211.00000</td>\n",
       "      <td>0.000000</td>\n",
       "      <td>0.000000</td>\n",
       "      <td>132.000000</td>\n",
       "      <td>0.000000</td>\n",
       "      <td>0.000000</td>\n",
       "      <td>1.000000</td>\n",
       "      <td>0.000000</td>\n",
       "      <td>2.000000</td>\n",
       "      <td>0.000000</td>\n",
       "    </tr>\n",
       "    <tr>\n",
       "      <th>50%</th>\n",
       "      <td>56.000000</td>\n",
       "      <td>1.000000</td>\n",
       "      <td>1.000000</td>\n",
       "      <td>130.000000</td>\n",
       "      <td>240.00000</td>\n",
       "      <td>0.000000</td>\n",
       "      <td>1.000000</td>\n",
       "      <td>152.000000</td>\n",
       "      <td>0.000000</td>\n",
       "      <td>0.800000</td>\n",
       "      <td>1.000000</td>\n",
       "      <td>0.000000</td>\n",
       "      <td>2.000000</td>\n",
       "      <td>1.000000</td>\n",
       "    </tr>\n",
       "    <tr>\n",
       "      <th>75%</th>\n",
       "      <td>61.000000</td>\n",
       "      <td>1.000000</td>\n",
       "      <td>2.000000</td>\n",
       "      <td>140.000000</td>\n",
       "      <td>275.00000</td>\n",
       "      <td>0.000000</td>\n",
       "      <td>1.000000</td>\n",
       "      <td>166.000000</td>\n",
       "      <td>1.000000</td>\n",
       "      <td>1.800000</td>\n",
       "      <td>2.000000</td>\n",
       "      <td>1.000000</td>\n",
       "      <td>3.000000</td>\n",
       "      <td>1.000000</td>\n",
       "    </tr>\n",
       "    <tr>\n",
       "      <th>max</th>\n",
       "      <td>77.000000</td>\n",
       "      <td>1.000000</td>\n",
       "      <td>3.000000</td>\n",
       "      <td>200.000000</td>\n",
       "      <td>564.00000</td>\n",
       "      <td>1.000000</td>\n",
       "      <td>2.000000</td>\n",
       "      <td>202.000000</td>\n",
       "      <td>1.000000</td>\n",
       "      <td>6.200000</td>\n",
       "      <td>2.000000</td>\n",
       "      <td>4.000000</td>\n",
       "      <td>3.000000</td>\n",
       "      <td>1.000000</td>\n",
       "    </tr>\n",
       "  </tbody>\n",
       "</table>\n",
       "</div>"
      ],
      "text/plain": [
       "               age          sex           cp     trestbps        chol  \\\n",
       "count  1025.000000  1025.000000  1025.000000  1025.000000  1025.00000   \n",
       "mean     54.434146     0.695610     0.942439   131.611707   246.00000   \n",
       "std       9.072290     0.460373     1.029641    17.516718    51.59251   \n",
       "min      29.000000     0.000000     0.000000    94.000000   126.00000   \n",
       "25%      48.000000     0.000000     0.000000   120.000000   211.00000   \n",
       "50%      56.000000     1.000000     1.000000   130.000000   240.00000   \n",
       "75%      61.000000     1.000000     2.000000   140.000000   275.00000   \n",
       "max      77.000000     1.000000     3.000000   200.000000   564.00000   \n",
       "\n",
       "               fbs      restecg      thalach        exang      oldpeak  \\\n",
       "count  1025.000000  1025.000000  1025.000000  1025.000000  1025.000000   \n",
       "mean      0.149268     0.529756   149.114146     0.336585     1.071512   \n",
       "std       0.356527     0.527878    23.005724     0.472772     1.175053   \n",
       "min       0.000000     0.000000    71.000000     0.000000     0.000000   \n",
       "25%       0.000000     0.000000   132.000000     0.000000     0.000000   \n",
       "50%       0.000000     1.000000   152.000000     0.000000     0.800000   \n",
       "75%       0.000000     1.000000   166.000000     1.000000     1.800000   \n",
       "max       1.000000     2.000000   202.000000     1.000000     6.200000   \n",
       "\n",
       "             slope           ca         thal       target  \n",
       "count  1025.000000  1025.000000  1025.000000  1025.000000  \n",
       "mean      1.385366     0.754146     2.323902     0.513171  \n",
       "std       0.617755     1.030798     0.620660     0.500070  \n",
       "min       0.000000     0.000000     0.000000     0.000000  \n",
       "25%       1.000000     0.000000     2.000000     0.000000  \n",
       "50%       1.000000     0.000000     2.000000     1.000000  \n",
       "75%       2.000000     1.000000     3.000000     1.000000  \n",
       "max       2.000000     4.000000     3.000000     1.000000  "
      ]
     },
     "execution_count": 9,
     "metadata": {},
     "output_type": "execute_result"
    }
   ],
   "source": [
    "dataset.describe()"
   ]
  },
  {
   "cell_type": "code",
   "execution_count": 10,
   "id": "be30d9e5",
   "metadata": {},
   "outputs": [
    {
     "data": {
      "text/plain": [
       "<matplotlib.colorbar.Colorbar at 0x2416eb67ca0>"
      ]
     },
     "execution_count": 10,
     "metadata": {},
     "output_type": "execute_result"
    },
    {
     "data": {
      "image/png": "[encoded data removed]",
      "text/plain": [
       "<Figure size 1008x1008 with 2 Axes>"
      ]
     },
     "metadata": {
      "needs_background": "light"
     },
     "output_type": "display_data"
    }
   ],
   "source": [
    "rcParams['figure.figsize'] = 20, 14\n",
    "plt.matshow(dataset.corr())\n",
    "plt.yticks(np.arange(dataset.shape[1]), dataset.columns)\n",
    "plt.xticks(np.arange(dataset.shape[1]), dataset.columns)\n",
    "plt.colorbar()\n"
   ]
  },
  {
   "cell_type": "code",
   "execution_count": 11,
   "id": "54d9b9b2",
   "metadata": {},
   "outputs": [
    {
     "data": {
      "text/plain": [
       "array([[<AxesSubplot:title={'center':'age'}>,\n",
       "        <AxesSubplot:title={'center':'sex'}>,\n",
       "        <AxesSubplot:title={'center':'cp'}>,\n",
       "        <AxesSubplot:title={'center':'trestbps'}>],\n",
       "       [<AxesSubplot:title={'center':'chol'}>,\n",
       "        <AxesSubplot:title={'center':'fbs'}>,\n",
       "        <AxesSubplot:title={'center':'restecg'}>,\n",
       "        <AxesSubplot:title={'center':'thalach'}>],\n",
       "       [<AxesSubplot:title={'center':'exang'}>,\n",
       "        <AxesSubplot:title={'center':'oldpeak'}>,\n",
       "        <AxesSubplot:title={'center':'slope'}>,\n",
       "        <AxesSubplot:title={'center':'ca'}>],\n",
       "       [<AxesSubplot:title={'center':'thal'}>,\n",
       "        <AxesSubplot:title={'center':'target'}>, <AxesSubplot:>,\n",
       "        <AxesSubplot:>]], dtype=object)"
      ]
     },
     "execution_count": 11,
     "metadata": {},
     "output_type": "execute_result"
    },
    {
     "data": {
      "image/png": "[encoded data removed]",
      "text/plain": [
       "<Figure size 1440x1008 with 16 Axes>"
      ]
     },
     "metadata": {
      "needs_background": "light"
     },
     "output_type": "display_data"
    }
   ],
   "source": [
    "dataset.hist()\n"
   ]
  },
  {
   "cell_type": "code",
   "execution_count": 13,
   "id": "17fd6697",
   "metadata": {},
   "outputs": [
    {
     "data": {
      "text/plain": [
       "Text(0.5, 1.0, 'Count of each Target Class')"
      ]
     },
     "execution_count": 13,
     "metadata": {},
     "output_type": "execute_result"
    },
    {
     "data": {
      "image/png": "[encoded data removed]",
      "text/plain": [
       "<Figure size 576x432 with 1 Axes>"
      ]
     },
     "metadata": {
      "needs_background": "light"
     },
     "output_type": "display_data"
    }
   ],
   "source": [
    "rcParams['figure.figsize'] = 8,6\n",
    "plt.bar(dataset['target'].unique(), dataset['target'].value_counts(), color = ['red', 'green'])\n",
    "plt.xticks([0, 1])\n",
    "plt.xlabel('Target Classes')\n",
    "plt.ylabel('Count')\n",
    "plt.title('Count of each Target Class')"
   ]
  },
  {
   "cell_type": "code",
   "execution_count": 14,
   "id": "10097dfb",
   "metadata": {},
   "outputs": [
    {
     "data": {
      "text/plain": [
       "age         0\n",
       "sex         0\n",
       "cp          0\n",
       "trestbps    0\n",
       "chol        0\n",
       "fbs         0\n",
       "restecg     0\n",
       "thalach     0\n",
       "exang       0\n",
       "oldpeak     0\n",
       "slope       0\n",
       "ca          0\n",
       "thal        0\n",
       "target      0\n",
       "dtype: int64"
      ]
     },
     "execution_count": 14,
     "metadata": {},
     "output_type": "execute_result"
    }
   ],
   "source": [
    "dataset.isnull().sum()"
   ]
  },
  {
   "cell_type": "code",
   "execution_count": 17,
   "id": "38ebe3b5",
   "metadata": {},
   "outputs": [
    {
     "data": {
      "image/png": "[encoded data removed]",
      "text/plain": [
       "<Figure size 720x432 with 2 Axes>"
      ]
     },
     "metadata": {
      "needs_background": "light"
     },
     "output_type": "display_data"
    }
   ],
   "source": [
    "plt.figure(figsize=(10,6))\n",
    "sns.heatmap(dataset.corr(), annot=True, cmap=\"coolwarm\", fmt=\".2f\")\n",
    "plt.title(\"Feature Correlation Heatmap\")\n",
    "plt.show()"
   ]
  },
  {
   "cell_type": "code",
   "execution_count": 18,
   "id": "a27a93bb",
   "metadata": {},
   "outputs": [],
   "source": [
    "x = dataset.drop(columns=[\"target\"]) "
   ]
  },
  {
   "cell_type": "code",
   "execution_count": 19,
   "id": "6b278b7e",
   "metadata": {},
   "outputs": [
    {
     "data": {
      "text/html": [
       "<div>\n",
       "<style scoped>\n",
       "    .dataframe tbody tr th:only-of-type {\n",
       "        vertical-align: middle;\n",
       "    }\n",
       "\n",
       "    .dataframe tbody tr th {\n",
       "        vertical-align: top;\n",
       "    }\n",
       "\n",
       "    .dataframe thead th {\n",
       "        text-align: right;\n",
       "    }\n",
       "</style>\n",
       "<table border=\"1\" class=\"dataframe\">\n",
       "  <thead>\n",
       "    <tr style=\"text-align: right;\">\n",
       "      <th></th>\n",
       "      <th>age</th>\n",
       "      <th>sex</th>\n",
       "      <th>cp</th>\n",
       "      <th>trestbps</th>\n",
       "      <th>chol</th>\n",
       "      <th>fbs</th>\n",
       "      <th>restecg</th>\n",
       "      <th>thalach</th>\n",
       "      <th>exang</th>\n",
       "      <th>oldpeak</th>\n",
       "      <th>slope</th>\n",
       "      <th>ca</th>\n",
       "      <th>thal</th>\n",
       "    </tr>\n",
       "  </thead>\n",
       "  <tbody>\n",
       "    <tr>\n",
       "      <th>0</th>\n",
       "      <td>52</td>\n",
       "      <td>1</td>\n",
       "      <td>0</td>\n",
       "      <td>125</td>\n",
       "      <td>212</td>\n",
       "      <td>0</td>\n",
       "      <td>1</td>\n",
       "      <td>168</td>\n",
       "      <td>0</td>\n",
       "      <td>1.0</td>\n",
       "      <td>2</td>\n",
       "      <td>2</td>\n",
       "      <td>3</td>\n",
       "    </tr>\n",
       "    <tr>\n",
       "      <th>1</th>\n",
       "      <td>53</td>\n",
       "      <td>1</td>\n",
       "      <td>0</td>\n",
       "      <td>140</td>\n",
       "      <td>203</td>\n",
       "      <td>1</td>\n",
       "      <td>0</td>\n",
       "      <td>155</td>\n",
       "      <td>1</td>\n",
       "      <td>3.1</td>\n",
       "      <td>0</td>\n",
       "      <td>0</td>\n",
       "      <td>3</td>\n",
       "    </tr>\n",
       "    <tr>\n",
       "      <th>2</th>\n",
       "      <td>70</td>\n",
       "      <td>1</td>\n",
       "      <td>0</td>\n",
       "      <td>145</td>\n",
       "      <td>174</td>\n",
       "      <td>0</td>\n",
       "      <td>1</td>\n",
       "      <td>125</td>\n",
       "      <td>1</td>\n",
       "      <td>2.6</td>\n",
       "      <td>0</td>\n",
       "      <td>0</td>\n",
       "      <td>3</td>\n",
       "    </tr>\n",
       "    <tr>\n",
       "      <th>3</th>\n",
       "      <td>61</td>\n",
       "      <td>1</td>\n",
       "      <td>0</td>\n",
       "      <td>148</td>\n",
       "      <td>203</td>\n",
       "      <td>0</td>\n",
       "      <td>1</td>\n",
       "      <td>161</td>\n",
       "      <td>0</td>\n",
       "      <td>0.0</td>\n",
       "      <td>2</td>\n",
       "      <td>1</td>\n",
       "      <td>3</td>\n",
       "    </tr>\n",
       "    <tr>\n",
       "      <th>4</th>\n",
       "      <td>62</td>\n",
       "      <td>0</td>\n",
       "      <td>0</td>\n",
       "      <td>138</td>\n",
       "      <td>294</td>\n",
       "      <td>1</td>\n",
       "      <td>1</td>\n",
       "      <td>106</td>\n",
       "      <td>0</td>\n",
       "      <td>1.9</td>\n",
       "      <td>1</td>\n",
       "      <td>3</td>\n",
       "      <td>2</td>\n",
       "    </tr>\n",
       "    <tr>\n",
       "      <th>...</th>\n",
       "      <td>...</td>\n",
       "      <td>...</td>\n",
       "      <td>...</td>\n",
       "      <td>...</td>\n",
       "      <td>...</td>\n",
       "      <td>...</td>\n",
       "      <td>...</td>\n",
       "      <td>...</td>\n",
       "      <td>...</td>\n",
       "      <td>...</td>\n",
       "      <td>...</td>\n",
       "      <td>...</td>\n",
       "      <td>...</td>\n",
       "    </tr>\n",
       "    <tr>\n",
       "      <th>1020</th>\n",
       "      <td>59</td>\n",
       "      <td>1</td>\n",
       "      <td>1</td>\n",
       "      <td>140</td>\n",
       "      <td>221</td>\n",
       "      <td>0</td>\n",
       "      <td>1</td>\n",
       "      <td>164</td>\n",
       "      <td>1</td>\n",
       "      <td>0.0</td>\n",
       "      <td>2</td>\n",
       "      <td>0</td>\n",
       "      <td>2</td>\n",
       "    </tr>\n",
       "    <tr>\n",
       "      <th>1021</th>\n",
       "      <td>60</td>\n",
       "      <td>1</td>\n",
       "      <td>0</td>\n",
       "      <td>125</td>\n",
       "      <td>258</td>\n",
       "      <td>0</td>\n",
       "      <td>0</td>\n",
       "      <td>141</td>\n",
       "      <td>1</td>\n",
       "      <td>2.8</td>\n",
       "      <td>1</td>\n",
       "      <td>1</td>\n",
       "      <td>3</td>\n",
       "    </tr>\n",
       "    <tr>\n",
       "      <th>1022</th>\n",
       "      <td>47</td>\n",
       "      <td>1</td>\n",
       "      <td>0</td>\n",
       "      <td>110</td>\n",
       "      <td>275</td>\n",
       "      <td>0</td>\n",
       "      <td>0</td>\n",
       "      <td>118</td>\n",
       "      <td>1</td>\n",
       "      <td>1.0</td>\n",
       "      <td>1</td>\n",
       "      <td>1</td>\n",
       "      <td>2</td>\n",
       "    </tr>\n",
       "    <tr>\n",
       "      <th>1023</th>\n",
       "      <td>50</td>\n",
       "      <td>0</td>\n",
       "      <td>0</td>\n",
       "      <td>110</td>\n",
       "      <td>254</td>\n",
       "      <td>0</td>\n",
       "      <td>0</td>\n",
       "      <td>159</td>\n",
       "      <td>0</td>\n",
       "      <td>0.0</td>\n",
       "      <td>2</td>\n",
       "      <td>0</td>\n",
       "      <td>2</td>\n",
       "    </tr>\n",
       "    <tr>\n",
       "      <th>1024</th>\n",
       "      <td>54</td>\n",
       "      <td>1</td>\n",
       "      <td>0</td>\n",
       "      <td>120</td>\n",
       "      <td>188</td>\n",
       "      <td>0</td>\n",
       "      <td>1</td>\n",
       "      <td>113</td>\n",
       "      <td>0</td>\n",
       "      <td>1.4</td>\n",
       "      <td>1</td>\n",
       "      <td>1</td>\n",
       "      <td>3</td>\n",
       "    </tr>\n",
       "  </tbody>\n",
       "</table>\n",
       "<p>1025 rows × 13 columns</p>\n",
       "</div>"
      ],
      "text/plain": [
       "      age  sex  cp  trestbps  chol  fbs  restecg  thalach  exang  oldpeak  \\\n",
       "0      52    1   0       125   212    0        1      168      0      1.0   \n",
       "1      53    1   0       140   203    1        0      155      1      3.1   \n",
       "2      70    1   0       145   174    0        1      125      1      2.6   \n",
       "3      61    1   0       148   203    0        1      161      0      0.0   \n",
       "4      62    0   0       138   294    1        1      106      0      1.9   \n",
       "...   ...  ...  ..       ...   ...  ...      ...      ...    ...      ...   \n",
       "1020   59    1   1       140   221    0        1      164      1      0.0   \n",
       "1021   60    1   0       125   258    0        0      141      1      2.8   \n",
       "1022   47    1   0       110   275    0        0      118      1      1.0   \n",
       "1023   50    0   0       110   254    0        0      159      0      0.0   \n",
       "1024   54    1   0       120   188    0        1      113      0      1.4   \n",
       "\n",
       "      slope  ca  thal  \n",
       "0         2   2     3  \n",
       "1         0   0     3  \n",
       "2         0   0     3  \n",
       "3         2   1     3  \n",
       "4         1   3     2  \n",
       "...     ...  ..   ...  \n",
       "1020      2   0     2  \n",
       "1021      1   1     3  \n",
       "1022      1   1     2  \n",
       "1023      2   0     2  \n",
       "1024      1   1     3  \n",
       "\n",
       "[1025 rows x 13 columns]"
      ]
     },
     "execution_count": 19,
     "metadata": {},
     "output_type": "execute_result"
    }
   ],
   "source": [
    "x"
   ]
  },
  {
   "cell_type": "code",
   "execution_count": 20,
   "id": "9175d3df",
   "metadata": {},
   "outputs": [],
   "source": [
    "y = dataset[\"target\"] "
   ]
  },
  {
   "cell_type": "code",
   "execution_count": 21,
   "id": "fc4741da",
   "metadata": {},
   "outputs": [
    {
     "data": {
      "text/plain": [
       "0       0\n",
       "1       0\n",
       "2       0\n",
       "3       0\n",
       "4       0\n",
       "       ..\n",
       "1020    1\n",
       "1021    0\n",
       "1022    0\n",
       "1023    1\n",
       "1024    0\n",
       "Name: target, Length: 1025, dtype: int64"
      ]
     },
     "execution_count": 21,
     "metadata": {},
     "output_type": "execute_result"
    }
   ],
   "source": [
    "y"
   ]
  },
  {
   "cell_type": "code",
   "execution_count": 23,
   "id": "725861f8",
   "metadata": {},
   "outputs": [],
   "source": [
    "X_train, X_test, y_train, y_test = train_test_split(x, y, test_size=0.2, random_state=42)"
   ]
  },
  {
   "cell_type": "code",
   "execution_count": 25,
   "id": "cc0335dc",
   "metadata": {},
   "outputs": [
    {
     "data": {
      "text/html": [
       "<div>\n",
       "<style scoped>\n",
       "    .dataframe tbody tr th:only-of-type {\n",
       "        vertical-align: middle;\n",
       "    }\n",
       "\n",
       "    .dataframe tbody tr th {\n",
       "        vertical-align: top;\n",
       "    }\n",
       "\n",
       "    .dataframe thead th {\n",
       "        text-align: right;\n",
       "    }\n",
       "</style>\n",
       "<table border=\"1\" class=\"dataframe\">\n",
       "  <thead>\n",
       "    <tr style=\"text-align: right;\">\n",
       "      <th></th>\n",
       "      <th>age</th>\n",
       "      <th>sex</th>\n",
       "      <th>cp</th>\n",
       "      <th>trestbps</th>\n",
       "      <th>chol</th>\n",
       "      <th>fbs</th>\n",
       "      <th>restecg</th>\n",
       "      <th>thalach</th>\n",
       "      <th>exang</th>\n",
       "      <th>oldpeak</th>\n",
       "      <th>slope</th>\n",
       "      <th>ca</th>\n",
       "      <th>thal</th>\n",
       "    </tr>\n",
       "  </thead>\n",
       "  <tbody>\n",
       "    <tr>\n",
       "      <th>835</th>\n",
       "      <td>49</td>\n",
       "      <td>1</td>\n",
       "      <td>2</td>\n",
       "      <td>118</td>\n",
       "      <td>149</td>\n",
       "      <td>0</td>\n",
       "      <td>0</td>\n",
       "      <td>126</td>\n",
       "      <td>0</td>\n",
       "      <td>0.8</td>\n",
       "      <td>2</td>\n",
       "      <td>3</td>\n",
       "      <td>2</td>\n",
       "    </tr>\n",
       "    <tr>\n",
       "      <th>137</th>\n",
       "      <td>64</td>\n",
       "      <td>0</td>\n",
       "      <td>0</td>\n",
       "      <td>180</td>\n",
       "      <td>325</td>\n",
       "      <td>0</td>\n",
       "      <td>1</td>\n",
       "      <td>154</td>\n",
       "      <td>1</td>\n",
       "      <td>0.0</td>\n",
       "      <td>2</td>\n",
       "      <td>0</td>\n",
       "      <td>2</td>\n",
       "    </tr>\n",
       "    <tr>\n",
       "      <th>534</th>\n",
       "      <td>54</td>\n",
       "      <td>0</td>\n",
       "      <td>2</td>\n",
       "      <td>108</td>\n",
       "      <td>267</td>\n",
       "      <td>0</td>\n",
       "      <td>0</td>\n",
       "      <td>167</td>\n",
       "      <td>0</td>\n",
       "      <td>0.0</td>\n",
       "      <td>2</td>\n",
       "      <td>0</td>\n",
       "      <td>2</td>\n",
       "    </tr>\n",
       "    <tr>\n",
       "      <th>495</th>\n",
       "      <td>59</td>\n",
       "      <td>1</td>\n",
       "      <td>0</td>\n",
       "      <td>135</td>\n",
       "      <td>234</td>\n",
       "      <td>0</td>\n",
       "      <td>1</td>\n",
       "      <td>161</td>\n",
       "      <td>0</td>\n",
       "      <td>0.5</td>\n",
       "      <td>1</td>\n",
       "      <td>0</td>\n",
       "      <td>3</td>\n",
       "    </tr>\n",
       "    <tr>\n",
       "      <th>244</th>\n",
       "      <td>51</td>\n",
       "      <td>1</td>\n",
       "      <td>2</td>\n",
       "      <td>125</td>\n",
       "      <td>245</td>\n",
       "      <td>1</td>\n",
       "      <td>0</td>\n",
       "      <td>166</td>\n",
       "      <td>0</td>\n",
       "      <td>2.4</td>\n",
       "      <td>1</td>\n",
       "      <td>0</td>\n",
       "      <td>2</td>\n",
       "    </tr>\n",
       "    <tr>\n",
       "      <th>...</th>\n",
       "      <td>...</td>\n",
       "      <td>...</td>\n",
       "      <td>...</td>\n",
       "      <td>...</td>\n",
       "      <td>...</td>\n",
       "      <td>...</td>\n",
       "      <td>...</td>\n",
       "      <td>...</td>\n",
       "      <td>...</td>\n",
       "      <td>...</td>\n",
       "      <td>...</td>\n",
       "      <td>...</td>\n",
       "      <td>...</td>\n",
       "    </tr>\n",
       "    <tr>\n",
       "      <th>700</th>\n",
       "      <td>41</td>\n",
       "      <td>1</td>\n",
       "      <td>2</td>\n",
       "      <td>130</td>\n",
       "      <td>214</td>\n",
       "      <td>0</td>\n",
       "      <td>0</td>\n",
       "      <td>168</td>\n",
       "      <td>0</td>\n",
       "      <td>2.0</td>\n",
       "      <td>1</td>\n",
       "      <td>0</td>\n",
       "      <td>2</td>\n",
       "    </tr>\n",
       "    <tr>\n",
       "      <th>71</th>\n",
       "      <td>61</td>\n",
       "      <td>1</td>\n",
       "      <td>0</td>\n",
       "      <td>140</td>\n",
       "      <td>207</td>\n",
       "      <td>0</td>\n",
       "      <td>0</td>\n",
       "      <td>138</td>\n",
       "      <td>1</td>\n",
       "      <td>1.9</td>\n",
       "      <td>2</td>\n",
       "      <td>1</td>\n",
       "      <td>3</td>\n",
       "    </tr>\n",
       "    <tr>\n",
       "      <th>106</th>\n",
       "      <td>51</td>\n",
       "      <td>1</td>\n",
       "      <td>0</td>\n",
       "      <td>140</td>\n",
       "      <td>299</td>\n",
       "      <td>0</td>\n",
       "      <td>1</td>\n",
       "      <td>173</td>\n",
       "      <td>1</td>\n",
       "      <td>1.6</td>\n",
       "      <td>2</td>\n",
       "      <td>0</td>\n",
       "      <td>3</td>\n",
       "    </tr>\n",
       "    <tr>\n",
       "      <th>270</th>\n",
       "      <td>43</td>\n",
       "      <td>1</td>\n",
       "      <td>0</td>\n",
       "      <td>110</td>\n",
       "      <td>211</td>\n",
       "      <td>0</td>\n",
       "      <td>1</td>\n",
       "      <td>161</td>\n",
       "      <td>0</td>\n",
       "      <td>0.0</td>\n",
       "      <td>2</td>\n",
       "      <td>0</td>\n",
       "      <td>3</td>\n",
       "    </tr>\n",
       "    <tr>\n",
       "      <th>860</th>\n",
       "      <td>52</td>\n",
       "      <td>1</td>\n",
       "      <td>0</td>\n",
       "      <td>112</td>\n",
       "      <td>230</td>\n",
       "      <td>0</td>\n",
       "      <td>1</td>\n",
       "      <td>160</td>\n",
       "      <td>0</td>\n",
       "      <td>0.0</td>\n",
       "      <td>2</td>\n",
       "      <td>1</td>\n",
       "      <td>2</td>\n",
       "    </tr>\n",
       "  </tbody>\n",
       "</table>\n",
       "<p>820 rows × 13 columns</p>\n",
       "</div>"
      ],
      "text/plain": [
       "     age  sex  cp  trestbps  chol  fbs  restecg  thalach  exang  oldpeak  \\\n",
       "835   49    1   2       118   149    0        0      126      0      0.8   \n",
       "137   64    0   0       180   325    0        1      154      1      0.0   \n",
       "534   54    0   2       108   267    0        0      167      0      0.0   \n",
       "495   59    1   0       135   234    0        1      161      0      0.5   \n",
       "244   51    1   2       125   245    1        0      166      0      2.4   \n",
       "..   ...  ...  ..       ...   ...  ...      ...      ...    ...      ...   \n",
       "700   41    1   2       130   214    0        0      168      0      2.0   \n",
       "71    61    1   0       140   207    0        0      138      1      1.9   \n",
       "106   51    1   0       140   299    0        1      173      1      1.6   \n",
       "270   43    1   0       110   211    0        1      161      0      0.0   \n",
       "860   52    1   0       112   230    0        1      160      0      0.0   \n",
       "\n",
       "     slope  ca  thal  \n",
       "835      2   3     2  \n",
       "137      2   0     2  \n",
       "534      2   0     2  \n",
       "495      1   0     3  \n",
       "244      1   0     2  \n",
       "..     ...  ..   ...  \n",
       "700      1   0     2  \n",
       "71       2   1     3  \n",
       "106      2   0     3  \n",
       "270      2   0     3  \n",
       "860      2   1     2  \n",
       "\n",
       "[820 rows x 13 columns]"
      ]
     },
     "execution_count": 25,
     "metadata": {},
     "output_type": "execute_result"
    }
   ],
   "source": [
    "X_train"
   ]
  },
  {
   "cell_type": "code",
   "execution_count": 26,
   "id": "9b609655",
   "metadata": {},
   "outputs": [
    {
     "data": {
      "text/html": [
       "<div>\n",
       "<style scoped>\n",
       "    .dataframe tbody tr th:only-of-type {\n",
       "        vertical-align: middle;\n",
       "    }\n",
       "\n",
       "    .dataframe tbody tr th {\n",
       "        vertical-align: top;\n",
       "    }\n",
       "\n",
       "    .dataframe thead th {\n",
       "        text-align: right;\n",
       "    }\n",
       "</style>\n",
       "<table border=\"1\" class=\"dataframe\">\n",
       "  <thead>\n",
       "    <tr style=\"text-align: right;\">\n",
       "      <th></th>\n",
       "      <th>age</th>\n",
       "      <th>sex</th>\n",
       "      <th>cp</th>\n",
       "      <th>trestbps</th>\n",
       "      <th>chol</th>\n",
       "      <th>fbs</th>\n",
       "      <th>restecg</th>\n",
       "      <th>thalach</th>\n",
       "      <th>exang</th>\n",
       "      <th>oldpeak</th>\n",
       "      <th>slope</th>\n",
       "      <th>ca</th>\n",
       "      <th>thal</th>\n",
       "    </tr>\n",
       "  </thead>\n",
       "  <tbody>\n",
       "    <tr>\n",
       "      <th>527</th>\n",
       "      <td>62</td>\n",
       "      <td>0</td>\n",
       "      <td>0</td>\n",
       "      <td>124</td>\n",
       "      <td>209</td>\n",
       "      <td>0</td>\n",
       "      <td>1</td>\n",
       "      <td>163</td>\n",
       "      <td>0</td>\n",
       "      <td>0.0</td>\n",
       "      <td>2</td>\n",
       "      <td>0</td>\n",
       "      <td>2</td>\n",
       "    </tr>\n",
       "    <tr>\n",
       "      <th>359</th>\n",
       "      <td>53</td>\n",
       "      <td>0</td>\n",
       "      <td>2</td>\n",
       "      <td>128</td>\n",
       "      <td>216</td>\n",
       "      <td>0</td>\n",
       "      <td>0</td>\n",
       "      <td>115</td>\n",
       "      <td>0</td>\n",
       "      <td>0.0</td>\n",
       "      <td>2</td>\n",
       "      <td>0</td>\n",
       "      <td>0</td>\n",
       "    </tr>\n",
       "    <tr>\n",
       "      <th>447</th>\n",
       "      <td>55</td>\n",
       "      <td>1</td>\n",
       "      <td>0</td>\n",
       "      <td>160</td>\n",
       "      <td>289</td>\n",
       "      <td>0</td>\n",
       "      <td>0</td>\n",
       "      <td>145</td>\n",
       "      <td>1</td>\n",
       "      <td>0.8</td>\n",
       "      <td>1</td>\n",
       "      <td>1</td>\n",
       "      <td>3</td>\n",
       "    </tr>\n",
       "    <tr>\n",
       "      <th>31</th>\n",
       "      <td>50</td>\n",
       "      <td>0</td>\n",
       "      <td>1</td>\n",
       "      <td>120</td>\n",
       "      <td>244</td>\n",
       "      <td>0</td>\n",
       "      <td>1</td>\n",
       "      <td>162</td>\n",
       "      <td>0</td>\n",
       "      <td>1.1</td>\n",
       "      <td>2</td>\n",
       "      <td>0</td>\n",
       "      <td>2</td>\n",
       "    </tr>\n",
       "    <tr>\n",
       "      <th>621</th>\n",
       "      <td>48</td>\n",
       "      <td>1</td>\n",
       "      <td>0</td>\n",
       "      <td>130</td>\n",
       "      <td>256</td>\n",
       "      <td>1</td>\n",
       "      <td>0</td>\n",
       "      <td>150</td>\n",
       "      <td>1</td>\n",
       "      <td>0.0</td>\n",
       "      <td>2</td>\n",
       "      <td>2</td>\n",
       "      <td>3</td>\n",
       "    </tr>\n",
       "    <tr>\n",
       "      <th>...</th>\n",
       "      <td>...</td>\n",
       "      <td>...</td>\n",
       "      <td>...</td>\n",
       "      <td>...</td>\n",
       "      <td>...</td>\n",
       "      <td>...</td>\n",
       "      <td>...</td>\n",
       "      <td>...</td>\n",
       "      <td>...</td>\n",
       "      <td>...</td>\n",
       "      <td>...</td>\n",
       "      <td>...</td>\n",
       "      <td>...</td>\n",
       "    </tr>\n",
       "    <tr>\n",
       "      <th>832</th>\n",
       "      <td>68</td>\n",
       "      <td>1</td>\n",
       "      <td>2</td>\n",
       "      <td>118</td>\n",
       "      <td>277</td>\n",
       "      <td>0</td>\n",
       "      <td>1</td>\n",
       "      <td>151</td>\n",
       "      <td>0</td>\n",
       "      <td>1.0</td>\n",
       "      <td>2</td>\n",
       "      <td>1</td>\n",
       "      <td>3</td>\n",
       "    </tr>\n",
       "    <tr>\n",
       "      <th>796</th>\n",
       "      <td>41</td>\n",
       "      <td>1</td>\n",
       "      <td>1</td>\n",
       "      <td>135</td>\n",
       "      <td>203</td>\n",
       "      <td>0</td>\n",
       "      <td>1</td>\n",
       "      <td>132</td>\n",
       "      <td>0</td>\n",
       "      <td>0.0</td>\n",
       "      <td>1</td>\n",
       "      <td>0</td>\n",
       "      <td>1</td>\n",
       "    </tr>\n",
       "    <tr>\n",
       "      <th>644</th>\n",
       "      <td>44</td>\n",
       "      <td>1</td>\n",
       "      <td>2</td>\n",
       "      <td>120</td>\n",
       "      <td>226</td>\n",
       "      <td>0</td>\n",
       "      <td>1</td>\n",
       "      <td>169</td>\n",
       "      <td>0</td>\n",
       "      <td>0.0</td>\n",
       "      <td>2</td>\n",
       "      <td>0</td>\n",
       "      <td>2</td>\n",
       "    </tr>\n",
       "    <tr>\n",
       "      <th>404</th>\n",
       "      <td>61</td>\n",
       "      <td>1</td>\n",
       "      <td>0</td>\n",
       "      <td>140</td>\n",
       "      <td>207</td>\n",
       "      <td>0</td>\n",
       "      <td>0</td>\n",
       "      <td>138</td>\n",
       "      <td>1</td>\n",
       "      <td>1.9</td>\n",
       "      <td>2</td>\n",
       "      <td>1</td>\n",
       "      <td>3</td>\n",
       "    </tr>\n",
       "    <tr>\n",
       "      <th>842</th>\n",
       "      <td>58</td>\n",
       "      <td>1</td>\n",
       "      <td>2</td>\n",
       "      <td>112</td>\n",
       "      <td>230</td>\n",
       "      <td>0</td>\n",
       "      <td>0</td>\n",
       "      <td>165</td>\n",
       "      <td>0</td>\n",
       "      <td>2.5</td>\n",
       "      <td>1</td>\n",
       "      <td>1</td>\n",
       "      <td>3</td>\n",
       "    </tr>\n",
       "  </tbody>\n",
       "</table>\n",
       "<p>205 rows × 13 columns</p>\n",
       "</div>"
      ],
      "text/plain": [
       "     age  sex  cp  trestbps  chol  fbs  restecg  thalach  exang  oldpeak  \\\n",
       "527   62    0   0       124   209    0        1      163      0      0.0   \n",
       "359   53    0   2       128   216    0        0      115      0      0.0   \n",
       "447   55    1   0       160   289    0        0      145      1      0.8   \n",
       "31    50    0   1       120   244    0        1      162      0      1.1   \n",
       "621   48    1   0       130   256    1        0      150      1      0.0   \n",
       "..   ...  ...  ..       ...   ...  ...      ...      ...    ...      ...   \n",
       "832   68    1   2       118   277    0        1      151      0      1.0   \n",
       "796   41    1   1       135   203    0        1      132      0      0.0   \n",
       "644   44    1   2       120   226    0        1      169      0      0.0   \n",
       "404   61    1   0       140   207    0        0      138      1      1.9   \n",
       "842   58    1   2       112   230    0        0      165      0      2.5   \n",
       "\n",
       "     slope  ca  thal  \n",
       "527      2   0     2  \n",
       "359      2   0     0  \n",
       "447      1   1     3  \n",
       "31       2   0     2  \n",
       "621      2   2     3  \n",
       "..     ...  ..   ...  \n",
       "832      2   1     3  \n",
       "796      1   0     1  \n",
       "644      2   0     2  \n",
       "404      2   1     3  \n",
       "842      1   1     3  \n",
       "\n",
       "[205 rows x 13 columns]"
      ]
     },
     "execution_count": 26,
     "metadata": {},
     "output_type": "execute_result"
    }
   ],
   "source": [
    "X_test"
   ]
  },
  {
   "cell_type": "code",
   "execution_count": 27,
   "id": "222ec694",
   "metadata": {},
   "outputs": [
    {
     "data": {
      "text/plain": [
       "835    0\n",
       "137    1\n",
       "534    1\n",
       "495    1\n",
       "244    1\n",
       "      ..\n",
       "700    1\n",
       "71     0\n",
       "106    0\n",
       "270    1\n",
       "860    0\n",
       "Name: target, Length: 820, dtype: int64"
      ]
     },
     "execution_count": 27,
     "metadata": {},
     "output_type": "execute_result"
    }
   ],
   "source": [
    "y_train"
   ]
  },
  {
   "cell_type": "code",
   "execution_count": 28,
   "id": "7aadd65c",
   "metadata": {},
   "outputs": [
    {
     "data": {
      "text/plain": [
       "527    1\n",
       "359    1\n",
       "447    0\n",
       "31     1\n",
       "621    0\n",
       "      ..\n",
       "832    1\n",
       "796    1\n",
       "644    1\n",
       "404    0\n",
       "842    0\n",
       "Name: target, Length: 205, dtype: int64"
      ]
     },
     "execution_count": 28,
     "metadata": {},
     "output_type": "execute_result"
    }
   ],
   "source": [
    "y_test"
   ]
  },
  {
   "cell_type": "code",
   "execution_count": 29,
   "id": "d4877000",
   "metadata": {},
   "outputs": [],
   "source": [
    "scaler = StandardScaler()\n",
    "X_train = scaler.fit_transform(X_train)\n",
    "X_test = scaler.transform(X_test)"
   ]
  },
  {
   "cell_type": "code",
   "execution_count": 30,
   "id": "7ed99194",
   "metadata": {},
   "outputs": [
    {
     "data": {
      "text/plain": [
       "array([[-0.58584022,  0.65465367,  1.008275  , ...,  1.00526437,\n",
       "         2.17169136, -0.54519316],\n",
       "       [ 1.05147737, -1.52752523, -0.91672034, ...,  1.00526437,\n",
       "        -0.7254674 , -0.54519316],\n",
       "       [-0.04006769, -1.52752523,  1.008275  , ...,  1.00526437,\n",
       "        -0.7254674 , -0.54519316],\n",
       "       ...,\n",
       "       [-0.36753121,  0.65465367, -0.91672034, ...,  1.00526437,\n",
       "        -0.7254674 ,  1.11057867],\n",
       "       [-1.24076726,  0.65465367, -0.91672034, ...,  1.00526437,\n",
       "        -0.7254674 ,  1.11057867],\n",
       "       [-0.2583767 ,  0.65465367, -0.91672034, ...,  1.00526437,\n",
       "         0.24025219, -0.54519316]])"
      ]
     },
     "execution_count": 30,
     "metadata": {},
     "output_type": "execute_result"
    }
   ],
   "source": [
    "X_train"
   ]
  },
  {
   "cell_type": "code",
   "execution_count": 31,
   "id": "af9ec1f6",
   "metadata": {},
   "outputs": [
    {
     "name": "stdout",
     "output_type": "stream",
     "text": [
      "[[ 0.83316836 -1.52752523 -0.91672034 ...  1.00526437 -0.7254674\n",
      "  -0.54519316]\n",
      " [-0.1492222  -1.52752523  1.008275   ...  1.00526437 -0.7254674\n",
      "  -3.85673683]\n",
      " [ 0.06908682  0.65465367 -0.91672034 ... -0.64007851  0.24025219\n",
      "   1.11057867]\n",
      " ...\n",
      " [-1.13161275  0.65465367  1.008275   ...  1.00526437 -0.7254674\n",
      "  -0.54519316]\n",
      " [ 0.72401385  0.65465367 -0.91672034 ...  1.00526437  0.24025219\n",
      "   1.11057867]\n",
      " [ 0.39655033  0.65465367  1.008275   ... -0.64007851  0.24025219\n",
      "   1.11057867]]\n"
     ]
    }
   ],
   "source": [
    "print(X_test)"
   ]
  },
  {
   "cell_type": "code",
   "execution_count": 32,
   "id": "ecb6829a",
   "metadata": {},
   "outputs": [],
   "source": [
    "log_model = LogisticRegression()\n",
    "log_model.fit(X_train, y_train)\n",
    "log_pred = log_model.predict(X_test)"
   ]
  },
  {
   "cell_type": "code",
   "execution_count": 33,
   "id": "04408925",
   "metadata": {},
   "outputs": [
    {
     "data": {
      "text/plain": [
       "array([1, 1, 0, 1, 0, 1, 0, 0, 1, 0, 1, 0, 1, 1, 0, 1, 0, 1, 1, 0, 1, 0,\n",
       "       0, 0, 1, 1, 1, 1, 0, 1, 1, 1, 1, 1, 1, 1, 1, 0, 1, 1, 0, 0, 1, 0,\n",
       "       0, 0, 0, 0, 1, 0, 1, 0, 1, 0, 1, 1, 0, 0, 1, 1, 1, 0, 0, 0, 0, 0,\n",
       "       1, 1, 0, 1, 1, 0, 0, 1, 1, 1, 0, 1, 1, 1, 0, 0, 0, 0, 1, 0, 1, 0,\n",
       "       0, 1, 0, 0, 1, 1, 1, 1, 1, 0, 0, 0, 0, 0, 1, 1, 0, 1, 0, 1, 0, 1,\n",
       "       1, 1, 1, 0, 1, 1, 1, 1, 1, 0, 0, 1, 0, 0, 0, 0, 1, 1, 1, 1, 1, 0,\n",
       "       1, 0, 0, 1, 0, 1, 1, 1, 1, 1, 1, 0, 1, 1, 1, 1, 1, 0, 1, 0, 1, 1,\n",
       "       0, 0, 1, 1, 0, 0, 1, 1, 0, 0, 0, 0, 0, 0, 0, 1, 0, 1, 1, 0, 1, 1,\n",
       "       1, 0, 1, 1, 1, 0, 1, 1, 1, 1, 1, 1, 1, 1, 1, 1, 1, 1, 0, 0, 1, 0,\n",
       "       1, 1, 1, 1, 1, 0, 0], dtype=int64)"
      ]
     },
     "execution_count": 33,
     "metadata": {},
     "output_type": "execute_result"
    }
   ],
   "source": [
    "log_pred "
   ]
  },
  {
   "cell_type": "code",
   "execution_count": 34,
   "id": "b920270f",
   "metadata": {},
   "outputs": [],
   "source": [
    "dt_model = DecisionTreeClassifier(max_depth=5, random_state=42)\n",
    "dt_model.fit(X_train, y_train)\n",
    "dt_pred = dt_model.predict(X_test)"
   ]
  },
  {
   "cell_type": "code",
   "execution_count": 35,
   "id": "60c73fe8",
   "metadata": {},
   "outputs": [
    {
     "data": {
      "text/plain": [
       "array([1, 1, 0, 1, 0, 1, 0, 0, 1, 0, 1, 0, 1, 1, 0, 1, 0, 1, 1, 0, 0, 0,\n",
       "       1, 0, 0, 1, 1, 1, 0, 1, 0, 1, 1, 1, 1, 1, 0, 1, 1, 1, 0, 0, 1, 1,\n",
       "       0, 0, 0, 0, 1, 1, 1, 0, 1, 0, 1, 1, 0, 0, 1, 1, 1, 1, 0, 1, 0, 0,\n",
       "       1, 0, 0, 1, 1, 0, 0, 1, 1, 1, 0, 1, 1, 1, 0, 0, 0, 0, 1, 0, 1, 0,\n",
       "       0, 1, 1, 0, 1, 1, 1, 1, 0, 0, 0, 0, 1, 0, 1, 1, 0, 1, 0, 1, 0, 1,\n",
       "       1, 1, 1, 0, 1, 1, 1, 1, 1, 0, 1, 1, 0, 0, 1, 0, 1, 1, 1, 1, 1, 0,\n",
       "       1, 1, 0, 1, 0, 1, 1, 1, 1, 1, 1, 0, 1, 1, 1, 1, 1, 0, 1, 0, 1, 1,\n",
       "       0, 0, 0, 1, 0, 0, 1, 1, 0, 0, 1, 0, 0, 0, 1, 1, 0, 1, 1, 0, 1, 1,\n",
       "       1, 0, 1, 1, 1, 0, 1, 1, 1, 1, 1, 1, 1, 1, 1, 1, 0, 1, 0, 1, 1, 0,\n",
       "       1, 1, 1, 1, 1, 0, 0], dtype=int64)"
      ]
     },
     "execution_count": 35,
     "metadata": {},
     "output_type": "execute_result"
    }
   ],
   "source": [
    "dt_pred"
   ]
  },
  {
   "cell_type": "code",
   "execution_count": 36,
   "id": "6042eae2",
   "metadata": {},
   "outputs": [],
   "source": [
    "rf_model = RandomForestClassifier(n_estimators=100, random_state=42)\n",
    "rf_model.fit(X_train, y_train)\n",
    "rf_pred = rf_model.predict(X_test)\n"
   ]
  },
  {
   "cell_type": "code",
   "execution_count": 37,
   "id": "e2aa7906",
   "metadata": {},
   "outputs": [
    {
     "data": {
      "text/plain": [
       "array([1, 1, 0, 1, 0, 1, 0, 0, 1, 0, 1, 0, 1, 1, 0, 0, 0, 1, 1, 0, 0, 0,\n",
       "       0, 0, 0, 1, 1, 1, 0, 0, 0, 1, 0, 1, 1, 1, 0, 1, 1, 1, 0, 0, 1, 0,\n",
       "       0, 0, 0, 0, 0, 1, 1, 0, 0, 0, 1, 1, 0, 0, 0, 1, 1, 1, 0, 1, 0, 0,\n",
       "       1, 0, 0, 1, 0, 0, 0, 1, 1, 1, 0, 0, 0, 1, 0, 0, 0, 0, 1, 0, 1, 0,\n",
       "       0, 0, 0, 0, 1, 1, 1, 1, 0, 0, 0, 0, 1, 0, 0, 1, 0, 1, 0, 1, 0, 1,\n",
       "       0, 1, 1, 0, 1, 1, 0, 1, 1, 0, 1, 1, 0, 0, 1, 0, 1, 0, 0, 1, 1, 0,\n",
       "       1, 1, 0, 1, 0, 1, 1, 0, 1, 1, 1, 1, 1, 1, 1, 1, 0, 0, 0, 0, 1, 1,\n",
       "       0, 0, 0, 1, 0, 0, 1, 1, 0, 0, 1, 1, 0, 0, 1, 1, 0, 1, 1, 0, 1, 1,\n",
       "       1, 0, 0, 1, 1, 0, 1, 0, 1, 1, 1, 0, 1, 1, 1, 0, 0, 0, 0, 1, 0, 0,\n",
       "       1, 1, 1, 1, 1, 0, 0], dtype=int64)"
      ]
     },
     "execution_count": 37,
     "metadata": {},
     "output_type": "execute_result"
    }
   ],
   "source": [
    "rf_pred "
   ]
  },
  {
   "cell_type": "code",
   "execution_count": 38,
   "id": "ccda6d96",
   "metadata": {},
   "outputs": [],
   "source": [
    "svm_model = SVC(kernel=\"rbf\", probability=True)\n",
    "svm_model.fit(X_train, y_train)\n",
    "svm_pred = svm_model.predict(X_test)"
   ]
  },
  {
   "cell_type": "code",
   "execution_count": 39,
   "id": "df73965d",
   "metadata": {},
   "outputs": [
    {
     "data": {
      "text/plain": [
       "array([1, 1, 0, 1, 0, 1, 0, 0, 1, 0, 1, 0, 1, 1, 0, 1, 0, 1, 1, 0, 1, 0,\n",
       "       1, 0, 1, 1, 1, 1, 0, 1, 0, 1, 0, 1, 1, 1, 1, 1, 1, 1, 0, 0, 1, 1,\n",
       "       0, 0, 0, 0, 0, 0, 1, 0, 1, 0, 1, 1, 0, 0, 1, 1, 1, 1, 0, 0, 0, 0,\n",
       "       1, 0, 0, 1, 0, 0, 0, 1, 1, 1, 0, 0, 1, 1, 0, 0, 0, 0, 1, 0, 1, 0,\n",
       "       0, 1, 0, 0, 1, 1, 1, 1, 0, 0, 0, 0, 1, 0, 1, 1, 0, 1, 0, 0, 0, 1,\n",
       "       1, 1, 1, 0, 1, 1, 0, 1, 1, 0, 1, 1, 0, 0, 1, 0, 1, 0, 0, 1, 1, 0,\n",
       "       1, 1, 0, 1, 0, 1, 1, 0, 1, 1, 1, 0, 1, 1, 1, 1, 0, 0, 0, 0, 1, 1,\n",
       "       0, 0, 1, 1, 0, 0, 1, 1, 0, 0, 0, 1, 0, 0, 1, 1, 0, 1, 1, 0, 1, 1,\n",
       "       1, 0, 1, 1, 1, 0, 1, 1, 1, 1, 1, 1, 1, 1, 1, 1, 0, 1, 0, 0, 1, 0,\n",
       "       1, 1, 1, 1, 1, 0, 0], dtype=int64)"
      ]
     },
     "execution_count": 39,
     "metadata": {},
     "output_type": "execute_result"
    }
   ],
   "source": [
    "svm_pred "
   ]
  },
  {
   "cell_type": "code",
   "execution_count": 40,
   "id": "952c279a",
   "metadata": {},
   "outputs": [
    {
     "data": {
      "text/plain": [
       "(820, 13)"
      ]
     },
     "execution_count": 40,
     "metadata": {},
     "output_type": "execute_result"
    }
   ],
   "source": [
    "X_train.shape"
   ]
  },
  {
   "cell_type": "code",
   "execution_count": 41,
   "id": "7675d4ec",
   "metadata": {},
   "outputs": [],
   "source": [
    "model = Sequential([\n",
    "    Dense(16, activation=\"relu\", input_shape=(X_train.shape[1],)),\n",
    "    Dense(16, activation=\"relu\"),\n",
    "    Dense(1, activation=\"sigmoid\")\n",
    "])"
   ]
  },
  {
   "cell_type": "code",
   "execution_count": 42,
   "id": "12c70893",
   "metadata": {},
   "outputs": [],
   "source": [
    "model.compile(optimizer=\"adam\", loss=\"binary_crossentropy\", metrics=[\"accuracy\"])"
   ]
  },
  {
   "cell_type": "code",
   "execution_count": 43,
   "id": "4cc2ab3a",
   "metadata": {},
   "outputs": [
    {
     "name": "stdout",
     "output_type": "stream",
     "text": [
      "Epoch 1/100\n",
      "52/52 [==============================] - 1s 4ms/step - loss: 0.5638 - accuracy: 0.7585 - val_loss: 0.5465 - val_accuracy: 0.7659\n",
      "Epoch 2/100\n",
      "52/52 [==============================] - 0s 2ms/step - loss: 0.4771 - accuracy: 0.8134 - val_loss: 0.4952 - val_accuracy: 0.7805\n",
      "Epoch 3/100\n",
      "52/52 [==============================] - 0s 2ms/step - loss: 0.4153 - accuracy: 0.8341 - val_loss: 0.4681 - val_accuracy: 0.7805\n",
      "Epoch 4/100\n",
      "52/52 [==============================] - 0s 2ms/step - loss: 0.3776 - accuracy: 0.8378 - val_loss: 0.4550 - val_accuracy: 0.7707\n",
      "Epoch 5/100\n",
      "52/52 [==============================] - 0s 2ms/step - loss: 0.3503 - accuracy: 0.8549 - val_loss: 0.4418 - val_accuracy: 0.8098\n",
      "Epoch 6/100\n",
      "52/52 [==============================] - 0s 2ms/step - loss: 0.3317 - accuracy: 0.8671 - val_loss: 0.4341 - val_accuracy: 0.8049\n",
      "Epoch 7/100\n",
      "52/52 [==============================] - 0s 2ms/step - loss: 0.3181 - accuracy: 0.8732 - val_loss: 0.4275 - val_accuracy: 0.8098\n",
      "Epoch 8/100\n",
      "52/52 [==============================] - 0s 1ms/step - loss: 0.3052 - accuracy: 0.8780 - val_loss: 0.4187 - val_accuracy: 0.8146\n",
      "Epoch 9/100\n",
      "52/52 [==============================] - 0s 1ms/step - loss: 0.2957 - accuracy: 0.8793 - val_loss: 0.4096 - val_accuracy: 0.8098\n",
      "Epoch 10/100\n",
      "52/52 [==============================] - 0s 2ms/step - loss: 0.2877 - accuracy: 0.8939 - val_loss: 0.4033 - val_accuracy: 0.8195\n",
      "Epoch 11/100\n",
      "52/52 [==============================] - 0s 2ms/step - loss: 0.2799 - accuracy: 0.9037 - val_loss: 0.4015 - val_accuracy: 0.8049\n",
      "Epoch 12/100\n",
      "52/52 [==============================] - 0s 2ms/step - loss: 0.2748 - accuracy: 0.8927 - val_loss: 0.3910 - val_accuracy: 0.8195\n",
      "Epoch 13/100\n",
      "52/52 [==============================] - 0s 2ms/step - loss: 0.2666 - accuracy: 0.9098 - val_loss: 0.3898 - val_accuracy: 0.8146\n",
      "Epoch 14/100\n",
      "52/52 [==============================] - 0s 2ms/step - loss: 0.2600 - accuracy: 0.9146 - val_loss: 0.3818 - val_accuracy: 0.8146\n",
      "Epoch 15/100\n",
      "52/52 [==============================] - 0s 2ms/step - loss: 0.2541 - accuracy: 0.9073 - val_loss: 0.3797 - val_accuracy: 0.8146\n",
      "Epoch 16/100\n",
      "52/52 [==============================] - 0s 2ms/step - loss: 0.2467 - accuracy: 0.9134 - val_loss: 0.3732 - val_accuracy: 0.8146\n",
      "Epoch 17/100\n",
      "52/52 [==============================] - 0s 1ms/step - loss: 0.2415 - accuracy: 0.9146 - val_loss: 0.3709 - val_accuracy: 0.8146\n",
      "Epoch 18/100\n",
      "52/52 [==============================] - 0s 1ms/step - loss: 0.2361 - accuracy: 0.9171 - val_loss: 0.3632 - val_accuracy: 0.8293\n",
      "Epoch 19/100\n",
      "52/52 [==============================] - 0s 2ms/step - loss: 0.2298 - accuracy: 0.9195 - val_loss: 0.3539 - val_accuracy: 0.8293\n",
      "Epoch 20/100\n",
      "52/52 [==============================] - 0s 2ms/step - loss: 0.2248 - accuracy: 0.9207 - val_loss: 0.3476 - val_accuracy: 0.8390\n",
      "Epoch 21/100\n",
      "52/52 [==============================] - 0s 2ms/step - loss: 0.2182 - accuracy: 0.9183 - val_loss: 0.3415 - val_accuracy: 0.8390\n",
      "Epoch 22/100\n",
      "52/52 [==============================] - 0s 2ms/step - loss: 0.2122 - accuracy: 0.9354 - val_loss: 0.3330 - val_accuracy: 0.8537\n",
      "Epoch 23/100\n",
      "52/52 [==============================] - 0s 2ms/step - loss: 0.2065 - accuracy: 0.9378 - val_loss: 0.3290 - val_accuracy: 0.8585\n",
      "Epoch 24/100\n",
      "52/52 [==============================] - 0s 2ms/step - loss: 0.2010 - accuracy: 0.9341 - val_loss: 0.3176 - val_accuracy: 0.8585\n",
      "Epoch 25/100\n",
      "52/52 [==============================] - 0s 2ms/step - loss: 0.1944 - accuracy: 0.9366 - val_loss: 0.3151 - val_accuracy: 0.8732\n",
      "Epoch 26/100\n",
      "52/52 [==============================] - 0s 1ms/step - loss: 0.1894 - accuracy: 0.9317 - val_loss: 0.3048 - val_accuracy: 0.8439\n",
      "Epoch 27/100\n",
      "52/52 [==============================] - 0s 2ms/step - loss: 0.1830 - accuracy: 0.9341 - val_loss: 0.3033 - val_accuracy: 0.8439\n",
      "Epoch 28/100\n",
      "52/52 [==============================] - 0s 2ms/step - loss: 0.1810 - accuracy: 0.9341 - val_loss: 0.3014 - val_accuracy: 0.8634\n",
      "Epoch 29/100\n",
      "52/52 [==============================] - 0s 2ms/step - loss: 0.1745 - accuracy: 0.9354 - val_loss: 0.2909 - val_accuracy: 0.8634\n",
      "Epoch 30/100\n",
      "52/52 [==============================] - 0s 2ms/step - loss: 0.1679 - accuracy: 0.9378 - val_loss: 0.2820 - val_accuracy: 0.8537\n",
      "Epoch 31/100\n",
      "52/52 [==============================] - 0s 2ms/step - loss: 0.1624 - accuracy: 0.9415 - val_loss: 0.2773 - val_accuracy: 0.8537\n",
      "Epoch 32/100\n",
      "52/52 [==============================] - 0s 2ms/step - loss: 0.1570 - accuracy: 0.9476 - val_loss: 0.2719 - val_accuracy: 0.8732\n",
      "Epoch 33/100\n",
      "52/52 [==============================] - 0s 2ms/step - loss: 0.1510 - accuracy: 0.9524 - val_loss: 0.2672 - val_accuracy: 0.8732\n",
      "Epoch 34/100\n",
      "52/52 [==============================] - 0s 2ms/step - loss: 0.1467 - accuracy: 0.9598 - val_loss: 0.2617 - val_accuracy: 0.8780\n",
      "Epoch 35/100\n",
      "52/52 [==============================] - 0s 2ms/step - loss: 0.1426 - accuracy: 0.9549 - val_loss: 0.2579 - val_accuracy: 0.8780\n",
      "Epoch 36/100\n",
      "52/52 [==============================] - 0s 2ms/step - loss: 0.1378 - accuracy: 0.9622 - val_loss: 0.2512 - val_accuracy: 0.8878\n",
      "Epoch 37/100\n",
      "52/52 [==============================] - 0s 2ms/step - loss: 0.1328 - accuracy: 0.9610 - val_loss: 0.2508 - val_accuracy: 0.8878\n",
      "Epoch 38/100\n",
      "52/52 [==============================] - 0s 1ms/step - loss: 0.1298 - accuracy: 0.9634 - val_loss: 0.2438 - val_accuracy: 0.8927\n",
      "Epoch 39/100\n",
      "52/52 [==============================] - 0s 2ms/step - loss: 0.1248 - accuracy: 0.9634 - val_loss: 0.2374 - val_accuracy: 0.8927\n",
      "Epoch 40/100\n",
      "52/52 [==============================] - 0s 1ms/step - loss: 0.1203 - accuracy: 0.9646 - val_loss: 0.2321 - val_accuracy: 0.8927\n",
      "Epoch 41/100\n",
      "52/52 [==============================] - 0s 1ms/step - loss: 0.1168 - accuracy: 0.9634 - val_loss: 0.2272 - val_accuracy: 0.8927\n",
      "Epoch 42/100\n",
      "52/52 [==============================] - 0s 2ms/step - loss: 0.1136 - accuracy: 0.9646 - val_loss: 0.2234 - val_accuracy: 0.8927\n",
      "Epoch 43/100\n",
      "52/52 [==============================] - 0s 2ms/step - loss: 0.1110 - accuracy: 0.9659 - val_loss: 0.2148 - val_accuracy: 0.9171\n",
      "Epoch 44/100\n",
      "52/52 [==============================] - 0s 1ms/step - loss: 0.1059 - accuracy: 0.9683 - val_loss: 0.2170 - val_accuracy: 0.8976\n",
      "Epoch 45/100\n",
      "52/52 [==============================] - 0s 2ms/step - loss: 0.1039 - accuracy: 0.9707 - val_loss: 0.2119 - val_accuracy: 0.9122\n",
      "Epoch 46/100\n",
      "52/52 [==============================] - 0s 1ms/step - loss: 0.0990 - accuracy: 0.9695 - val_loss: 0.2041 - val_accuracy: 0.9171\n",
      "Epoch 47/100\n",
      "52/52 [==============================] - 0s 1ms/step - loss: 0.0969 - accuracy: 0.9659 - val_loss: 0.2036 - val_accuracy: 0.9171\n",
      "Epoch 48/100\n",
      "52/52 [==============================] - 0s 2ms/step - loss: 0.0922 - accuracy: 0.9768 - val_loss: 0.1981 - val_accuracy: 0.9220\n",
      "Epoch 49/100\n",
      "52/52 [==============================] - 0s 2ms/step - loss: 0.0895 - accuracy: 0.9756 - val_loss: 0.1957 - val_accuracy: 0.9220\n",
      "Epoch 50/100\n",
      "52/52 [==============================] - 0s 2ms/step - loss: 0.0870 - accuracy: 0.9744 - val_loss: 0.1917 - val_accuracy: 0.9268\n",
      "Epoch 51/100\n",
      "52/52 [==============================] - 0s 2ms/step - loss: 0.0830 - accuracy: 0.9793 - val_loss: 0.1865 - val_accuracy: 0.9317\n",
      "Epoch 52/100\n",
      "52/52 [==============================] - 0s 2ms/step - loss: 0.0812 - accuracy: 0.9805 - val_loss: 0.1868 - val_accuracy: 0.9268\n",
      "Epoch 53/100\n",
      "52/52 [==============================] - 0s 2ms/step - loss: 0.0786 - accuracy: 0.9793 - val_loss: 0.1830 - val_accuracy: 0.9317\n",
      "Epoch 54/100\n",
      "52/52 [==============================] - 0s 2ms/step - loss: 0.0767 - accuracy: 0.9841 - val_loss: 0.1794 - val_accuracy: 0.9463\n",
      "Epoch 55/100\n",
      "52/52 [==============================] - 0s 2ms/step - loss: 0.0734 - accuracy: 0.9829 - val_loss: 0.1770 - val_accuracy: 0.9463\n",
      "Epoch 56/100\n",
      "52/52 [==============================] - 0s 2ms/step - loss: 0.0718 - accuracy: 0.9866 - val_loss: 0.1748 - val_accuracy: 0.9463\n",
      "Epoch 57/100\n",
      "52/52 [==============================] - 0s 2ms/step - loss: 0.0688 - accuracy: 0.9878 - val_loss: 0.1720 - val_accuracy: 0.9512\n",
      "Epoch 58/100\n",
      "52/52 [==============================] - 0s 1ms/step - loss: 0.0666 - accuracy: 0.9866 - val_loss: 0.1705 - val_accuracy: 0.9512\n"
     ]
    },
    {
     "name": "stdout",
     "output_type": "stream",
     "text": [
      "Epoch 59/100\n",
      "52/52 [==============================] - 0s 1ms/step - loss: 0.0638 - accuracy: 0.9878 - val_loss: 0.1694 - val_accuracy: 0.9415\n",
      "Epoch 60/100\n",
      "52/52 [==============================] - 0s 1ms/step - loss: 0.0617 - accuracy: 0.9890 - val_loss: 0.1655 - val_accuracy: 0.9512\n",
      "Epoch 61/100\n",
      "52/52 [==============================] - 0s 1ms/step - loss: 0.0597 - accuracy: 0.9902 - val_loss: 0.1651 - val_accuracy: 0.9512\n",
      "Epoch 62/100\n",
      "52/52 [==============================] - 0s 2ms/step - loss: 0.0576 - accuracy: 0.9902 - val_loss: 0.1633 - val_accuracy: 0.9610\n",
      "Epoch 63/100\n",
      "52/52 [==============================] - 0s 2ms/step - loss: 0.0565 - accuracy: 0.9902 - val_loss: 0.1622 - val_accuracy: 0.9610\n",
      "Epoch 64/100\n",
      "52/52 [==============================] - 0s 2ms/step - loss: 0.0541 - accuracy: 0.9890 - val_loss: 0.1597 - val_accuracy: 0.9610\n",
      "Epoch 65/100\n",
      "52/52 [==============================] - 0s 2ms/step - loss: 0.0520 - accuracy: 0.9915 - val_loss: 0.1560 - val_accuracy: 0.9610\n",
      "Epoch 66/100\n",
      "52/52 [==============================] - 0s 2ms/step - loss: 0.0505 - accuracy: 0.9902 - val_loss: 0.1527 - val_accuracy: 0.9610\n",
      "Epoch 67/100\n",
      "52/52 [==============================] - 0s 1ms/step - loss: 0.0489 - accuracy: 0.9890 - val_loss: 0.1525 - val_accuracy: 0.9610\n",
      "Epoch 68/100\n",
      "52/52 [==============================] - 0s 1ms/step - loss: 0.0460 - accuracy: 0.9927 - val_loss: 0.1511 - val_accuracy: 0.9610\n",
      "Epoch 69/100\n",
      "52/52 [==============================] - 0s 1ms/step - loss: 0.0441 - accuracy: 0.9927 - val_loss: 0.1507 - val_accuracy: 0.9610\n",
      "Epoch 70/100\n",
      "52/52 [==============================] - 0s 1ms/step - loss: 0.0426 - accuracy: 0.9915 - val_loss: 0.1515 - val_accuracy: 0.9610\n",
      "Epoch 71/100\n",
      "52/52 [==============================] - 0s 2ms/step - loss: 0.0410 - accuracy: 0.9927 - val_loss: 0.1495 - val_accuracy: 0.9610\n",
      "Epoch 72/100\n",
      "52/52 [==============================] - 0s 2ms/step - loss: 0.0398 - accuracy: 0.9927 - val_loss: 0.1496 - val_accuracy: 0.9610\n",
      "Epoch 73/100\n",
      "52/52 [==============================] - 0s 2ms/step - loss: 0.0401 - accuracy: 0.9927 - val_loss: 0.1499 - val_accuracy: 0.9610\n",
      "Epoch 74/100\n",
      "52/52 [==============================] - 0s 2ms/step - loss: 0.0370 - accuracy: 0.9927 - val_loss: 0.1492 - val_accuracy: 0.9610\n",
      "Epoch 75/100\n",
      "52/52 [==============================] - 0s 2ms/step - loss: 0.0355 - accuracy: 0.9927 - val_loss: 0.1512 - val_accuracy: 0.9610\n",
      "Epoch 76/100\n",
      "52/52 [==============================] - 0s 2ms/step - loss: 0.0331 - accuracy: 0.9927 - val_loss: 0.1475 - val_accuracy: 0.9659\n",
      "Epoch 77/100\n",
      "52/52 [==============================] - 0s 2ms/step - loss: 0.0329 - accuracy: 0.9939 - val_loss: 0.1481 - val_accuracy: 0.9659\n",
      "Epoch 78/100\n",
      "52/52 [==============================] - 0s 2ms/step - loss: 0.0312 - accuracy: 0.9951 - val_loss: 0.1455 - val_accuracy: 0.9659\n",
      "Epoch 79/100\n",
      "52/52 [==============================] - 0s 1ms/step - loss: 0.0305 - accuracy: 0.9939 - val_loss: 0.1475 - val_accuracy: 0.9805\n",
      "Epoch 80/100\n",
      "52/52 [==============================] - 0s 1ms/step - loss: 0.0291 - accuracy: 0.9963 - val_loss: 0.1465 - val_accuracy: 0.9659\n",
      "Epoch 81/100\n",
      "52/52 [==============================] - 0s 2ms/step - loss: 0.0278 - accuracy: 0.9951 - val_loss: 0.1503 - val_accuracy: 0.9805\n",
      "Epoch 82/100\n",
      "52/52 [==============================] - 0s 2ms/step - loss: 0.0267 - accuracy: 0.9951 - val_loss: 0.1462 - val_accuracy: 0.9805\n",
      "Epoch 83/100\n",
      "52/52 [==============================] - 0s 1ms/step - loss: 0.0263 - accuracy: 0.9963 - val_loss: 0.1458 - val_accuracy: 0.9805\n",
      "Epoch 84/100\n",
      "52/52 [==============================] - 0s 1ms/step - loss: 0.0246 - accuracy: 0.9963 - val_loss: 0.1488 - val_accuracy: 0.9805\n",
      "Epoch 85/100\n",
      "52/52 [==============================] - 0s 2ms/step - loss: 0.0240 - accuracy: 0.9963 - val_loss: 0.1453 - val_accuracy: 0.9805\n",
      "Epoch 86/100\n",
      "52/52 [==============================] - 0s 2ms/step - loss: 0.0229 - accuracy: 0.9963 - val_loss: 0.1443 - val_accuracy: 0.9805\n",
      "Epoch 87/100\n",
      "52/52 [==============================] - 0s 2ms/step - loss: 0.0222 - accuracy: 0.9963 - val_loss: 0.1482 - val_accuracy: 0.9805\n",
      "Epoch 88/100\n",
      "52/52 [==============================] - 0s 2ms/step - loss: 0.0214 - accuracy: 0.9963 - val_loss: 0.1444 - val_accuracy: 0.9805\n",
      "Epoch 89/100\n",
      "52/52 [==============================] - 0s 2ms/step - loss: 0.0205 - accuracy: 0.9963 - val_loss: 0.1431 - val_accuracy: 0.9854\n",
      "Epoch 90/100\n",
      "52/52 [==============================] - 0s 2ms/step - loss: 0.0195 - accuracy: 0.9976 - val_loss: 0.1442 - val_accuracy: 0.9805\n",
      "Epoch 91/100\n",
      "52/52 [==============================] - 0s 2ms/step - loss: 0.0187 - accuracy: 0.9976 - val_loss: 0.1479 - val_accuracy: 0.9805\n",
      "Epoch 92/100\n",
      "52/52 [==============================] - 0s 2ms/step - loss: 0.0186 - accuracy: 0.9976 - val_loss: 0.1445 - val_accuracy: 0.9854\n",
      "Epoch 93/100\n",
      "52/52 [==============================] - 0s 1ms/step - loss: 0.0176 - accuracy: 0.9976 - val_loss: 0.1462 - val_accuracy: 0.9854\n",
      "Epoch 94/100\n",
      "52/52 [==============================] - 0s 2ms/step - loss: 0.0168 - accuracy: 1.0000 - val_loss: 0.1475 - val_accuracy: 0.9854\n",
      "Epoch 95/100\n",
      "52/52 [==============================] - 0s 2ms/step - loss: 0.0157 - accuracy: 1.0000 - val_loss: 0.1445 - val_accuracy: 0.9854\n",
      "Epoch 96/100\n",
      "52/52 [==============================] - 0s 2ms/step - loss: 0.0152 - accuracy: 0.9988 - val_loss: 0.1503 - val_accuracy: 0.9854\n",
      "Epoch 97/100\n",
      "52/52 [==============================] - 0s 2ms/step - loss: 0.0147 - accuracy: 1.0000 - val_loss: 0.1505 - val_accuracy: 0.9854\n",
      "Epoch 98/100\n",
      "52/52 [==============================] - 0s 2ms/step - loss: 0.0142 - accuracy: 1.0000 - val_loss: 0.1505 - val_accuracy: 0.9854\n",
      "Epoch 99/100\n",
      "52/52 [==============================] - 0s 2ms/step - loss: 0.0135 - accuracy: 1.0000 - val_loss: 0.1486 - val_accuracy: 0.9854\n",
      "Epoch 100/100\n",
      "52/52 [==============================] - 0s 1ms/step - loss: 0.0130 - accuracy: 0.9988 - val_loss: 0.1539 - val_accuracy: 0.9854\n"
     ]
    }
   ],
   "source": [
    "history = model.fit(X_train, y_train, epochs=100, batch_size=16, validation_data=(X_test, y_test), verbose=1)"
   ]
  },
  {
   "cell_type": "code",
   "execution_count": 44,
   "id": "0f3af36a",
   "metadata": {},
   "outputs": [
    {
     "name": "stdout",
     "output_type": "stream",
     "text": [
      "Model: \"sequential\"\n",
      "_________________________________________________________________\n",
      " Layer (type)                Output Shape              Param #   \n",
      "=================================================================\n",
      " dense (Dense)               (None, 16)                224       \n",
      "                                                                 \n",
      " dense_1 (Dense)             (None, 16)                272       \n",
      "                                                                 \n",
      " dense_2 (Dense)             (None, 1)                 17        \n",
      "                                                                 \n",
      "=================================================================\n",
      "Total params: 513\n",
      "Trainable params: 513\n",
      "Non-trainable params: 0\n",
      "_________________________________________________________________\n"
     ]
    }
   ],
   "source": [
    "model.summary()"
   ]
  },
  {
   "cell_type": "code",
   "execution_count": 45,
   "id": "6d4025f4",
   "metadata": {},
   "outputs": [
    {
     "data": {
      "image/png": "[encoded data removed]",
      "text/plain": [
       "<Figure size 720x360 with 1 Axes>"
      ]
     },
     "metadata": {
      "needs_background": "light"
     },
     "output_type": "display_data"
    }
   ],
   "source": [
    "import matplotlib.pyplot as plt\n",
    "\n",
    "epochs = range(1, 101) \n",
    "plt.figure(figsize=(10, 5))\n",
    "plt.title(\"Loss vs Accuracy of Model\")\n",
    "plt.plot(epochs, history.history['loss'][:200], label='Loss')\n",
    "plt.plot(epochs, history.history['accuracy'][:200], label='Accuracy')\n",
    "plt.grid()\n",
    "plt.xlabel(\"Epochs\")\n",
    "plt.grid()\n",
    "plt.legend()\n",
    "plt.show()"
   ]
  },
  {
   "cell_type": "code",
   "execution_count": 46,
   "id": "bca7aab5",
   "metadata": {},
   "outputs": [
    {
     "name": "stdout",
     "output_type": "stream",
     "text": [
      "7/7 [==============================] - 0s 1ms/step\n"
     ]
    }
   ],
   "source": [
    "y_pred = (model.predict(X_test) > 0.5).astype(int) "
   ]
  },
  {
   "cell_type": "code",
   "execution_count": 52,
   "id": "2cd04b44",
   "metadata": {},
   "outputs": [],
   "source": [
    "def evaluate_model(name, y_test, y_pred):\n",
    "    print(f\"\\n{name} Model Evaluation\")\n",
    "    print(\"Accuracy:\", accuracy_score(y_test, y_pred))\n",
    "    print(\"Classification Report:\\n\", classification_report(y_test, y_pred))\n",
    "    \n",
    "    # Confusion Matrix\n",
    "    plt.figure(figsize=(5,4))\n",
    "    sns.heatmap(confusion_matrix(y_test, y_pred), annot=True, fmt=\"d\", cmap=\"Blues\", xticklabels=[\"No Heart Disease\", \"Heart Disease\"], yticklabels=[\"No Heart Disease\", \"Heart Disease\"])\n",
    "    plt.xlabel(\"Predicted\")\n",
    "    plt.ylabel(\"Actual\")\n",
    "    plt.title(f\"{name} Confusion Matrix\")\n",
    "    plt.show()"
   ]
  },
  {
   "cell_type": "code",
   "execution_count": 53,
   "id": "7af990e7",
   "metadata": {},
   "outputs": [
    {
     "name": "stdout",
     "output_type": "stream",
     "text": [
      "\n",
      "Logistic Regression Model Evaluation\n",
      "Accuracy: 0.7951219512195122\n",
      "Classification Report:\n",
      "               precision    recall  f1-score   support\n",
      "\n",
      "           0       0.85      0.72      0.78       102\n",
      "           1       0.76      0.87      0.81       103\n",
      "\n",
      "    accuracy                           0.80       205\n",
      "   macro avg       0.80      0.79      0.79       205\n",
      "weighted avg       0.80      0.80      0.79       205\n",
      "\n"
     ]
    },
    {
     "data": {
      "image/png": "[encoded data removed]",
      "text/plain": [
       "<Figure size 360x288 with 2 Axes>"
      ]
     },
     "metadata": {
      "needs_background": "light"
     },
     "output_type": "display_data"
    }
   ],
   "source": [
    "evaluate_model(\"Logistic Regression\", y_test, log_pred)"
   ]
  },
  {
   "cell_type": "code",
   "execution_count": 54,
   "id": "ea86402f",
   "metadata": {},
   "outputs": [
    {
     "name": "stdout",
     "output_type": "stream",
     "text": [
      "\n",
      "Decision Tree Model Evaluation\n",
      "Accuracy: 0.8439024390243902\n",
      "Classification Report:\n",
      "               precision    recall  f1-score   support\n",
      "\n",
      "           0       0.94      0.74      0.82       102\n",
      "           1       0.78      0.95      0.86       103\n",
      "\n",
      "    accuracy                           0.84       205\n",
      "   macro avg       0.86      0.84      0.84       205\n",
      "weighted avg       0.86      0.84      0.84       205\n",
      "\n"
     ]
    },
    {
     "data": {
      "image/png": "[encoded data removed]",
      "text/plain": [
       "<Figure size 360x288 with 2 Axes>"
      ]
     },
     "metadata": {
      "needs_background": "light"
     },
     "output_type": "display_data"
    }
   ],
   "source": [
    "evaluate_model(\"Decision Tree\", y_test, dt_pred)"
   ]
  },
  {
   "cell_type": "code",
   "execution_count": 55,
   "id": "0ac12a68",
   "metadata": {},
   "outputs": [
    {
     "name": "stdout",
     "output_type": "stream",
     "text": [
      "\n",
      "Random Forest Model Evaluation\n",
      "Accuracy: 0.9853658536585366\n",
      "Classification Report:\n",
      "               precision    recall  f1-score   support\n",
      "\n",
      "           0       0.97      1.00      0.99       102\n",
      "           1       1.00      0.97      0.99       103\n",
      "\n",
      "    accuracy                           0.99       205\n",
      "   macro avg       0.99      0.99      0.99       205\n",
      "weighted avg       0.99      0.99      0.99       205\n",
      "\n"
     ]
    },
    {
     "data": {
      "image/png": "[encoded data removed]",
      "text/plain": [
       "<Figure size 360x288 with 2 Axes>"
      ]
     },
     "metadata": {
      "needs_background": "light"
     },
     "output_type": "display_data"
    }
   ],
   "source": [
    "evaluate_model(\"Random Forest\", y_test, rf_pred)"
   ]
  },
  {
   "cell_type": "code",
   "execution_count": 56,
   "id": "3ef50583",
   "metadata": {},
   "outputs": [
    {
     "name": "stdout",
     "output_type": "stream",
     "text": [
      "\n",
      "SVM Model Evaluation\n",
      "Accuracy: 0.8878048780487805\n",
      "Classification Report:\n",
      "               precision    recall  f1-score   support\n",
      "\n",
      "           0       0.93      0.83      0.88       102\n",
      "           1       0.85      0.94      0.89       103\n",
      "\n",
      "    accuracy                           0.89       205\n",
      "   macro avg       0.89      0.89      0.89       205\n",
      "weighted avg       0.89      0.89      0.89       205\n",
      "\n"
     ]
    },
    {
     "data": {
      "image/png": "[encoded data removed]",
      "text/plain": [
       "<Figure size 360x288 with 2 Axes>"
      ]
     },
     "metadata": {
      "needs_background": "light"
     },
     "output_type": "display_data"
    }
   ],
   "source": [
    "evaluate_model(\"SVM\", y_test, svm_pred)"
   ]
  },
  {
   "cell_type": "code",
   "execution_count": 57,
   "id": "372f4157",
   "metadata": {},
   "outputs": [
    {
     "name": "stdout",
     "output_type": "stream",
     "text": [
      "\n",
      "Neural Network Model Evaluation\n",
      "Accuracy: 0.9853658536585366\n",
      "Classification Report:\n",
      "               precision    recall  f1-score   support\n",
      "\n",
      "           0       0.97      1.00      0.99       102\n",
      "           1       1.00      0.97      0.99       103\n",
      "\n",
      "    accuracy                           0.99       205\n",
      "   macro avg       0.99      0.99      0.99       205\n",
      "weighted avg       0.99      0.99      0.99       205\n",
      "\n"
     ]
    },
    {
     "data": {
      "image/png": "[encoded data removed]",
      "text/plain": [
       "<Figure size 360x288 with 2 Axes>"
      ]
     },
     "metadata": {
      "needs_background": "light"
     },
     "output_type": "display_data"
    }
   ],
   "source": [
    "evaluate_model(\"Neural Network\", y_test, y_pred)"
   ]
  },
  {
   "cell_type": "code",
   "execution_count": 58,
   "id": "4935b9d6",
   "metadata": {},
   "outputs": [],
   "source": [
    "def predict_Heart_Disease(model, scaler, user_input):\n",
    "    \n",
    "    df = pd.DataFrame([user_input])\n",
    "    df_scaled = scaler.transform(df) \n",
    "    prediction = model.predict(df_scaled)[0] if not isinstance(model, Sequential) else (model.predict(df_scaled)[0][0] > 0.5).astype(int)\n",
    "    return \"Heart Disease Detected\" if prediction == 1 else \"No Heart Disease\""
   ]
  },
  {
   "cell_type": "code",
   "execution_count": 59,
   "id": "d0e3ebfd",
   "metadata": {},
   "outputs": [],
   "source": [
    "new_patient_healthy = {\n",
    "    \"age\": 30, \"sex\": 0, \"cp\": 0, \"trestbps\": 120, \"chol\": 180, \"fbs\": 0, \"restecg\": 0,\n",
    "    \"thalach\": 170, \"exang\": 0, \"oldpeak\": 0.0, \"slope\": 2, \"ca\": 0, \"thal\": 2\n",
    "}"
   ]
  },
  {
   "cell_type": "code",
   "execution_count": 60,
   "id": "d846e34f",
   "metadata": {},
   "outputs": [
    {
     "name": "stdout",
     "output_type": "stream",
     "text": [
      "1/1 [==============================] - 0s 26ms/step\n"
     ]
    },
    {
     "data": {
      "text/plain": [
       "'Heart Disease Detected'"
      ]
     },
     "execution_count": 60,
     "metadata": {},
     "output_type": "execute_result"
    }
   ],
   "source": [
    "predict_Heart_Disease(model,scaler,new_patient_healthy )"
   ]
  },
  {
   "cell_type": "code",
   "execution_count": 63,
   "id": "28987efc",
   "metadata": {},
   "outputs": [],
   "source": [
    "new_patient = {\n",
    "    \"age\": 25, \"sex\": 0, \"cp\": 0, \"trestbps\": 110, \"chol\": 160, \"fbs\": 0, \"restecg\": 0,\n",
    "    \"thalach\": 180, \"exang\": 0, \"oldpeak\": 0.0, \"slope\": 2, \"ca\": 0, \"thal\": 2\n",
    "}"
   ]
  },
  {
   "cell_type": "code",
   "execution_count": 64,
   "id": "17039f1e",
   "metadata": {},
   "outputs": [
    {
     "name": "stdout",
     "output_type": "stream",
     "text": [
      "1/1 [==============================] - 0s 30ms/step\n"
     ]
    },
    {
     "data": {
      "text/plain": [
       "'Heart Disease Detected'"
      ]
     },
     "execution_count": 64,
     "metadata": {},
     "output_type": "execute_result"
    }
   ],
   "source": [
    "predict_Heart_Disease(model,scaler,new_patient  )"
   ]
  },
  {
   "cell_type": "code",
   "execution_count": 69,
   "id": "363fba3e",
   "metadata": {},
   "outputs": [
    {
     "name": "stdout",
     "output_type": "stream",
     "text": [
      "Epoch 1/100\n",
      "26/26 - 1s - loss: 0.6901 - accuracy: 0.5207 - auc: 0.5965 - val_loss: 0.7498 - val_accuracy: 0.5024 - val_auc: 0.7887 - 1s/epoch - 44ms/step\n",
      "Epoch 2/100\n",
      "26/26 - 0s - loss: 0.5111 - accuracy: 0.5366 - auc: 0.8030 - val_loss: 0.7141 - val_accuracy: 0.6146 - val_auc: 0.8269 - 64ms/epoch - 2ms/step\n",
      "Epoch 3/100\n",
      "26/26 - 0s - loss: 0.4653 - accuracy: 0.6268 - auc: 0.8359 - val_loss: 0.6513 - val_accuracy: 0.7073 - val_auc: 0.8380 - 66ms/epoch - 3ms/step\n",
      "Epoch 4/100\n",
      "26/26 - 0s - loss: 0.4354 - accuracy: 0.7122 - auc: 0.8522 - val_loss: 0.6118 - val_accuracy: 0.7561 - val_auc: 0.8556 - 68ms/epoch - 3ms/step\n",
      "Epoch 5/100\n",
      "26/26 - 0s - loss: 0.4088 - accuracy: 0.7476 - auc: 0.8727 - val_loss: 0.6365 - val_accuracy: 0.7463 - val_auc: 0.8669 - 69ms/epoch - 3ms/step\n",
      "Epoch 6/100\n",
      "26/26 - 0s - loss: 0.3935 - accuracy: 0.7500 - auc: 0.8777 - val_loss: 0.5969 - val_accuracy: 0.7756 - val_auc: 0.8710 - 66ms/epoch - 3ms/step\n",
      "Epoch 7/100\n",
      "26/26 - 0s - loss: 0.3777 - accuracy: 0.7573 - auc: 0.8910 - val_loss: 0.5880 - val_accuracy: 0.7756 - val_auc: 0.8729 - 67ms/epoch - 3ms/step\n",
      "Epoch 8/100\n",
      "26/26 - 0s - loss: 0.3727 - accuracy: 0.7671 - auc: 0.8938 - val_loss: 0.5621 - val_accuracy: 0.7854 - val_auc: 0.8802 - 67ms/epoch - 3ms/step\n",
      "Epoch 9/100\n",
      "26/26 - 0s - loss: 0.3590 - accuracy: 0.7793 - auc: 0.8995 - val_loss: 0.5694 - val_accuracy: 0.7854 - val_auc: 0.8841 - 65ms/epoch - 3ms/step\n",
      "Epoch 10/100\n",
      "26/26 - 0s - loss: 0.3608 - accuracy: 0.7939 - auc: 0.8994 - val_loss: 0.5724 - val_accuracy: 0.7854 - val_auc: 0.8871 - 63ms/epoch - 2ms/step\n",
      "Epoch 11/100\n",
      "26/26 - 0s - loss: 0.3500 - accuracy: 0.7829 - auc: 0.9066 - val_loss: 0.5473 - val_accuracy: 0.7854 - val_auc: 0.8914 - 67ms/epoch - 3ms/step\n",
      "Epoch 12/100\n",
      "26/26 - 0s - loss: 0.3449 - accuracy: 0.7890 - auc: 0.9091 - val_loss: 0.5527 - val_accuracy: 0.7902 - val_auc: 0.8923 - 70ms/epoch - 3ms/step\n",
      "Epoch 13/100\n",
      "26/26 - 0s - loss: 0.3333 - accuracy: 0.8012 - auc: 0.9186 - val_loss: 0.5595 - val_accuracy: 0.7902 - val_auc: 0.8946 - 81ms/epoch - 3ms/step\n",
      "Epoch 14/100\n",
      "26/26 - 0s - loss: 0.3350 - accuracy: 0.7841 - auc: 0.9139 - val_loss: 0.5665 - val_accuracy: 0.7902 - val_auc: 0.8938 - 81ms/epoch - 3ms/step\n",
      "Epoch 15/100\n",
      "26/26 - 0s - loss: 0.3282 - accuracy: 0.8037 - auc: 0.9156 - val_loss: 0.5497 - val_accuracy: 0.7951 - val_auc: 0.8968 - 71ms/epoch - 3ms/step\n",
      "Epoch 16/100\n",
      "26/26 - 0s - loss: 0.3194 - accuracy: 0.7951 - auc: 0.9238 - val_loss: 0.5280 - val_accuracy: 0.7951 - val_auc: 0.9022 - 71ms/epoch - 3ms/step\n",
      "Epoch 17/100\n",
      "26/26 - 0s - loss: 0.3069 - accuracy: 0.8073 - auc: 0.9320 - val_loss: 0.5405 - val_accuracy: 0.7902 - val_auc: 0.9025 - 66ms/epoch - 3ms/step\n",
      "Epoch 18/100\n",
      "26/26 - 0s - loss: 0.3051 - accuracy: 0.8159 - auc: 0.9309 - val_loss: 0.5341 - val_accuracy: 0.8000 - val_auc: 0.9023 - 60ms/epoch - 2ms/step\n",
      "Epoch 19/100\n",
      "26/26 - 0s - loss: 0.2942 - accuracy: 0.8244 - auc: 0.9337 - val_loss: 0.5335 - val_accuracy: 0.7951 - val_auc: 0.9051 - 66ms/epoch - 3ms/step\n",
      "Epoch 20/100\n",
      "26/26 - 0s - loss: 0.2983 - accuracy: 0.8171 - auc: 0.9357 - val_loss: 0.5165 - val_accuracy: 0.8049 - val_auc: 0.9076 - 59ms/epoch - 2ms/step\n",
      "Epoch 21/100\n",
      "26/26 - 0s - loss: 0.3053 - accuracy: 0.8183 - auc: 0.9311 - val_loss: 0.5606 - val_accuracy: 0.7854 - val_auc: 0.9082 - 59ms/epoch - 2ms/step\n",
      "Epoch 22/100\n",
      "26/26 - 0s - loss: 0.2916 - accuracy: 0.8195 - auc: 0.9376 - val_loss: 0.5053 - val_accuracy: 0.8098 - val_auc: 0.9088 - 61ms/epoch - 2ms/step\n",
      "Epoch 23/100\n",
      "26/26 - 0s - loss: 0.2906 - accuracy: 0.8366 - auc: 0.9375 - val_loss: 0.5100 - val_accuracy: 0.8049 - val_auc: 0.9105 - 57ms/epoch - 2ms/step\n",
      "Epoch 24/100\n",
      "26/26 - 0s - loss: 0.2856 - accuracy: 0.8280 - auc: 0.9394 - val_loss: 0.5047 - val_accuracy: 0.8049 - val_auc: 0.9143 - 57ms/epoch - 2ms/step\n",
      "Epoch 25/100\n",
      "26/26 - 0s - loss: 0.2842 - accuracy: 0.8317 - auc: 0.9391 - val_loss: 0.4726 - val_accuracy: 0.8146 - val_auc: 0.9160 - 60ms/epoch - 2ms/step\n",
      "Epoch 26/100\n",
      "26/26 - 0s - loss: 0.2805 - accuracy: 0.8256 - auc: 0.9404 - val_loss: 0.5096 - val_accuracy: 0.8049 - val_auc: 0.9155 - 65ms/epoch - 2ms/step\n",
      "Epoch 27/100\n",
      "26/26 - 0s - loss: 0.2593 - accuracy: 0.8402 - auc: 0.9480 - val_loss: 0.5005 - val_accuracy: 0.8049 - val_auc: 0.9198 - 62ms/epoch - 2ms/step\n",
      "Epoch 28/100\n",
      "26/26 - 0s - loss: 0.2500 - accuracy: 0.8512 - auc: 0.9547 - val_loss: 0.4863 - val_accuracy: 0.8146 - val_auc: 0.9209 - 63ms/epoch - 2ms/step\n",
      "Epoch 29/100\n",
      "26/26 - 0s - loss: 0.2465 - accuracy: 0.8549 - auc: 0.9529 - val_loss: 0.4818 - val_accuracy: 0.8146 - val_auc: 0.9222 - 73ms/epoch - 3ms/step\n",
      "Epoch 30/100\n",
      "26/26 - 0s - loss: 0.2621 - accuracy: 0.8524 - auc: 0.9466 - val_loss: 0.5185 - val_accuracy: 0.8049 - val_auc: 0.9261 - 73ms/epoch - 3ms/step\n",
      "Epoch 31/100\n",
      "26/26 - 0s - loss: 0.2508 - accuracy: 0.8439 - auc: 0.9518 - val_loss: 0.4769 - val_accuracy: 0.8098 - val_auc: 0.9260 - 77ms/epoch - 3ms/step\n",
      "Epoch 32/100\n",
      "26/26 - 0s - loss: 0.2389 - accuracy: 0.8585 - auc: 0.9550 - val_loss: 0.4761 - val_accuracy: 0.8098 - val_auc: 0.9266 - 73ms/epoch - 3ms/step\n",
      "Epoch 33/100\n",
      "26/26 - 0s - loss: 0.2404 - accuracy: 0.8524 - auc: 0.9543 - val_loss: 0.4637 - val_accuracy: 0.8146 - val_auc: 0.9329 - 65ms/epoch - 3ms/step\n",
      "Epoch 34/100\n",
      "26/26 - 0s - loss: 0.2379 - accuracy: 0.8537 - auc: 0.9591 - val_loss: 0.4936 - val_accuracy: 0.8146 - val_auc: 0.9328 - 61ms/epoch - 2ms/step\n",
      "Epoch 35/100\n",
      "26/26 - 0s - loss: 0.2470 - accuracy: 0.8561 - auc: 0.9528 - val_loss: 0.4613 - val_accuracy: 0.8146 - val_auc: 0.9312 - 74ms/epoch - 3ms/step\n",
      "Epoch 36/100\n",
      "26/26 - 0s - loss: 0.2390 - accuracy: 0.8549 - auc: 0.9568 - val_loss: 0.4380 - val_accuracy: 0.8146 - val_auc: 0.9339 - 63ms/epoch - 2ms/step\n",
      "Epoch 37/100\n",
      "26/26 - 0s - loss: 0.2351 - accuracy: 0.8634 - auc: 0.9579 - val_loss: 0.4855 - val_accuracy: 0.8195 - val_auc: 0.9342 - 59ms/epoch - 2ms/step\n",
      "Epoch 38/100\n",
      "26/26 - 0s - loss: 0.2259 - accuracy: 0.8610 - auc: 0.9584 - val_loss: 0.4598 - val_accuracy: 0.8146 - val_auc: 0.9344 - 57ms/epoch - 2ms/step\n",
      "Epoch 39/100\n",
      "26/26 - 0s - loss: 0.2255 - accuracy: 0.8671 - auc: 0.9601 - val_loss: 0.4670 - val_accuracy: 0.8195 - val_auc: 0.9376 - 63ms/epoch - 2ms/step\n",
      "Epoch 40/100\n",
      "26/26 - 0s - loss: 0.2124 - accuracy: 0.8817 - auc: 0.9621 - val_loss: 0.4213 - val_accuracy: 0.8390 - val_auc: 0.9408 - 77ms/epoch - 3ms/step\n",
      "Epoch 41/100\n",
      "26/26 - 0s - loss: 0.2101 - accuracy: 0.8768 - auc: 0.9655 - val_loss: 0.4667 - val_accuracy: 0.8146 - val_auc: 0.9359 - 90ms/epoch - 3ms/step\n",
      "Epoch 42/100\n",
      "26/26 - 0s - loss: 0.2152 - accuracy: 0.8744 - auc: 0.9626 - val_loss: 0.4590 - val_accuracy: 0.8244 - val_auc: 0.9416 - 65ms/epoch - 2ms/step\n",
      "Epoch 43/100\n",
      "26/26 - 0s - loss: 0.2094 - accuracy: 0.8732 - auc: 0.9661 - val_loss: 0.4576 - val_accuracy: 0.8293 - val_auc: 0.9427 - 57ms/epoch - 2ms/step\n",
      "Epoch 44/100\n",
      "26/26 - 0s - loss: 0.2067 - accuracy: 0.8817 - auc: 0.9655 - val_loss: 0.4413 - val_accuracy: 0.8341 - val_auc: 0.9421 - 61ms/epoch - 2ms/step\n",
      "Epoch 45/100\n",
      "26/26 - 0s - loss: 0.2126 - accuracy: 0.8756 - auc: 0.9658 - val_loss: 0.4255 - val_accuracy: 0.8341 - val_auc: 0.9466 - 60ms/epoch - 2ms/step\n",
      "Epoch 46/100\n",
      "26/26 - 0s - loss: 0.2108 - accuracy: 0.8805 - auc: 0.9669 - val_loss: 0.4323 - val_accuracy: 0.8341 - val_auc: 0.9457 - 57ms/epoch - 2ms/step\n",
      "Epoch 47/100\n",
      "26/26 - 0s - loss: 0.1978 - accuracy: 0.8927 - auc: 0.9688 - val_loss: 0.4311 - val_accuracy: 0.8341 - val_auc: 0.9451 - 58ms/epoch - 2ms/step\n",
      "Epoch 48/100\n",
      "26/26 - 0s - loss: 0.1924 - accuracy: 0.8744 - auc: 0.9732 - val_loss: 0.4465 - val_accuracy: 0.8341 - val_auc: 0.9519 - 57ms/epoch - 2ms/step\n",
      "Epoch 49/100\n",
      "26/26 - 0s - loss: 0.2093 - accuracy: 0.8805 - auc: 0.9632 - val_loss: 0.4439 - val_accuracy: 0.8341 - val_auc: 0.9472 - 63ms/epoch - 2ms/step\n",
      "Epoch 50/100\n",
      "26/26 - 0s - loss: 0.2015 - accuracy: 0.8780 - auc: 0.9656 - val_loss: 0.4216 - val_accuracy: 0.8341 - val_auc: 0.9473 - 72ms/epoch - 3ms/step\n",
      "Epoch 51/100\n",
      "26/26 - 0s - loss: 0.2055 - accuracy: 0.8902 - auc: 0.9646 - val_loss: 0.4233 - val_accuracy: 0.8293 - val_auc: 0.9521 - 73ms/epoch - 3ms/step\n",
      "Epoch 52/100\n",
      "26/26 - 0s - loss: 0.2044 - accuracy: 0.8780 - auc: 0.9668 - val_loss: 0.3916 - val_accuracy: 0.8390 - val_auc: 0.9553 - 72ms/epoch - 3ms/step\n",
      "Epoch 53/100\n",
      "26/26 - 0s - loss: 0.1903 - accuracy: 0.8927 - auc: 0.9707 - val_loss: 0.3871 - val_accuracy: 0.8341 - val_auc: 0.9532 - 73ms/epoch - 3ms/step\n"
     ]
    },
    {
     "name": "stdout",
     "output_type": "stream",
     "text": [
      "Epoch 54/100\n",
      "26/26 - 0s - loss: 0.1687 - accuracy: 0.9146 - auc: 0.9768 - val_loss: 0.3896 - val_accuracy: 0.8439 - val_auc: 0.9537 - 73ms/epoch - 3ms/step\n",
      "Epoch 55/100\n",
      "26/26 - 0s - loss: 0.1854 - accuracy: 0.8976 - auc: 0.9735 - val_loss: 0.4318 - val_accuracy: 0.8341 - val_auc: 0.9579 - 69ms/epoch - 3ms/step\n",
      "Epoch 56/100\n",
      "26/26 - 0s - loss: 0.1855 - accuracy: 0.8878 - auc: 0.9723 - val_loss: 0.3776 - val_accuracy: 0.8244 - val_auc: 0.9569 - 67ms/epoch - 3ms/step\n",
      "Epoch 57/100\n",
      "26/26 - 0s - loss: 0.1851 - accuracy: 0.9049 - auc: 0.9747 - val_loss: 0.4004 - val_accuracy: 0.8341 - val_auc: 0.9602 - 69ms/epoch - 3ms/step\n",
      "Epoch 58/100\n",
      "26/26 - 0s - loss: 0.1806 - accuracy: 0.8817 - auc: 0.9757 - val_loss: 0.3812 - val_accuracy: 0.8390 - val_auc: 0.9594 - 70ms/epoch - 3ms/step\n",
      "Epoch 59/100\n",
      "26/26 - 0s - loss: 0.1759 - accuracy: 0.9012 - auc: 0.9744 - val_loss: 0.3944 - val_accuracy: 0.8341 - val_auc: 0.9569 - 72ms/epoch - 3ms/step\n",
      "Epoch 60/100\n",
      "26/26 - 0s - loss: 0.1949 - accuracy: 0.8902 - auc: 0.9701 - val_loss: 0.4007 - val_accuracy: 0.8341 - val_auc: 0.9606 - 65ms/epoch - 2ms/step\n",
      "Epoch 61/100\n",
      "26/26 - 0s - loss: 0.1840 - accuracy: 0.8817 - auc: 0.9736 - val_loss: 0.3809 - val_accuracy: 0.8390 - val_auc: 0.9610 - 66ms/epoch - 3ms/step\n",
      "Epoch 62/100\n",
      "26/26 - 0s - loss: 0.1576 - accuracy: 0.9146 - auc: 0.9792 - val_loss: 0.3687 - val_accuracy: 0.8537 - val_auc: 0.9567 - 63ms/epoch - 2ms/step\n",
      "Epoch 63/100\n",
      "26/26 - 0s - loss: 0.1682 - accuracy: 0.9146 - auc: 0.9767 - val_loss: 0.4232 - val_accuracy: 0.8341 - val_auc: 0.9649 - 66ms/epoch - 3ms/step\n",
      "Epoch 64/100\n",
      "26/26 - 0s - loss: 0.1664 - accuracy: 0.8976 - auc: 0.9788 - val_loss: 0.3353 - val_accuracy: 0.8439 - val_auc: 0.9641 - 68ms/epoch - 3ms/step\n",
      "Epoch 65/100\n",
      "26/26 - 0s - loss: 0.1720 - accuracy: 0.9085 - auc: 0.9762 - val_loss: 0.4001 - val_accuracy: 0.8488 - val_auc: 0.9636 - 62ms/epoch - 2ms/step\n",
      "Epoch 66/100\n",
      "26/26 - 0s - loss: 0.1736 - accuracy: 0.9061 - auc: 0.9752 - val_loss: 0.3722 - val_accuracy: 0.8488 - val_auc: 0.9618 - 63ms/epoch - 2ms/step\n",
      "Epoch 67/100\n",
      "26/26 - 0s - loss: 0.1651 - accuracy: 0.8976 - auc: 0.9778 - val_loss: 0.3868 - val_accuracy: 0.8585 - val_auc: 0.9634 - 69ms/epoch - 3ms/step\n",
      "Epoch 68/100\n",
      "26/26 - 0s - loss: 0.1753 - accuracy: 0.8988 - auc: 0.9749 - val_loss: 0.3873 - val_accuracy: 0.8439 - val_auc: 0.9642 - 58ms/epoch - 2ms/step\n",
      "Epoch 69/100\n",
      "26/26 - 0s - loss: 0.1633 - accuracy: 0.9049 - auc: 0.9785 - val_loss: 0.3440 - val_accuracy: 0.8439 - val_auc: 0.9675 - 58ms/epoch - 2ms/step\n",
      "Epoch 70/100\n",
      "26/26 - 0s - loss: 0.1520 - accuracy: 0.9159 - auc: 0.9822 - val_loss: 0.3504 - val_accuracy: 0.8439 - val_auc: 0.9708 - 55ms/epoch - 2ms/step\n",
      "Epoch 71/100\n",
      "26/26 - 0s - loss: 0.1774 - accuracy: 0.9037 - auc: 0.9766 - val_loss: 0.3619 - val_accuracy: 0.8439 - val_auc: 0.9687 - 59ms/epoch - 2ms/step\n",
      "Epoch 72/100\n",
      "26/26 - 0s - loss: 0.1559 - accuracy: 0.9024 - auc: 0.9797 - val_loss: 0.3314 - val_accuracy: 0.8341 - val_auc: 0.9713 - 70ms/epoch - 3ms/step\n",
      "Epoch 73/100\n",
      "26/26 - 0s - loss: 0.1514 - accuracy: 0.9195 - auc: 0.9796 - val_loss: 0.3470 - val_accuracy: 0.8341 - val_auc: 0.9727 - 70ms/epoch - 3ms/step\n",
      "Epoch 74/100\n",
      "26/26 - 0s - loss: 0.1442 - accuracy: 0.9171 - auc: 0.9840 - val_loss: 0.3331 - val_accuracy: 0.8488 - val_auc: 0.9713 - 63ms/epoch - 2ms/step\n",
      "Epoch 75/100\n",
      "26/26 - 0s - loss: 0.1667 - accuracy: 0.9061 - auc: 0.9797 - val_loss: 0.3541 - val_accuracy: 0.8488 - val_auc: 0.9733 - 67ms/epoch - 3ms/step\n",
      "Epoch 76/100\n",
      "26/26 - 0s - loss: 0.1496 - accuracy: 0.9049 - auc: 0.9836 - val_loss: 0.3243 - val_accuracy: 0.8683 - val_auc: 0.9729 - 69ms/epoch - 3ms/step\n",
      "Epoch 77/100\n",
      "26/26 - 0s - loss: 0.1473 - accuracy: 0.9268 - auc: 0.9823 - val_loss: 0.3521 - val_accuracy: 0.8488 - val_auc: 0.9729 - 63ms/epoch - 2ms/step\n",
      "Epoch 78/100\n",
      "26/26 - 0s - loss: 0.1401 - accuracy: 0.9183 - auc: 0.9841 - val_loss: 0.3131 - val_accuracy: 0.8634 - val_auc: 0.9752 - 62ms/epoch - 2ms/step\n",
      "Epoch 79/100\n",
      "26/26 - 0s - loss: 0.1345 - accuracy: 0.9280 - auc: 0.9846 - val_loss: 0.3186 - val_accuracy: 0.8683 - val_auc: 0.9736 - 68ms/epoch - 3ms/step\n",
      "Epoch 80/100\n",
      "26/26 - 0s - loss: 0.1457 - accuracy: 0.9183 - auc: 0.9822 - val_loss: 0.3197 - val_accuracy: 0.8585 - val_auc: 0.9729 - 69ms/epoch - 3ms/step\n",
      "Epoch 81/100\n",
      "26/26 - 0s - loss: 0.1514 - accuracy: 0.9256 - auc: 0.9820 - val_loss: 0.3844 - val_accuracy: 0.8439 - val_auc: 0.9707 - 70ms/epoch - 3ms/step\n",
      "Epoch 82/100\n",
      "26/26 - 0s - loss: 0.1417 - accuracy: 0.9183 - auc: 0.9840 - val_loss: 0.2948 - val_accuracy: 0.8634 - val_auc: 0.9737 - 64ms/epoch - 2ms/step\n",
      "Epoch 83/100\n",
      "26/26 - 0s - loss: 0.1395 - accuracy: 0.9183 - auc: 0.9843 - val_loss: 0.3245 - val_accuracy: 0.8585 - val_auc: 0.9744 - 62ms/epoch - 2ms/step\n",
      "Epoch 84/100\n",
      "26/26 - 0s - loss: 0.1477 - accuracy: 0.9061 - auc: 0.9838 - val_loss: 0.2794 - val_accuracy: 0.8732 - val_auc: 0.9759 - 68ms/epoch - 3ms/step\n",
      "Epoch 85/100\n",
      "26/26 - 0s - loss: 0.1217 - accuracy: 0.9305 - auc: 0.9902 - val_loss: 0.2892 - val_accuracy: 0.8683 - val_auc: 0.9769 - 72ms/epoch - 3ms/step\n",
      "Epoch 86/100\n",
      "26/26 - 0s - loss: 0.1426 - accuracy: 0.9244 - auc: 0.9836 - val_loss: 0.3108 - val_accuracy: 0.8732 - val_auc: 0.9734 - 63ms/epoch - 2ms/step\n",
      "Epoch 87/100\n",
      "26/26 - 0s - loss: 0.1272 - accuracy: 0.9354 - auc: 0.9881 - val_loss: 0.3032 - val_accuracy: 0.8634 - val_auc: 0.9788 - 66ms/epoch - 3ms/step\n",
      "Epoch 88/100\n",
      "26/26 - 0s - loss: 0.1439 - accuracy: 0.9171 - auc: 0.9832 - val_loss: 0.2774 - val_accuracy: 0.8732 - val_auc: 0.9816 - 68ms/epoch - 3ms/step\n",
      "Epoch 89/100\n",
      "26/26 - 0s - loss: 0.1466 - accuracy: 0.9171 - auc: 0.9837 - val_loss: 0.2930 - val_accuracy: 0.8683 - val_auc: 0.9801 - 70ms/epoch - 3ms/step\n",
      "Epoch 90/100\n",
      "26/26 - 0s - loss: 0.1462 - accuracy: 0.9159 - auc: 0.9793 - val_loss: 0.2915 - val_accuracy: 0.8780 - val_auc: 0.9802 - 66ms/epoch - 3ms/step\n",
      "Epoch 91/100\n",
      "26/26 - 0s - loss: 0.1371 - accuracy: 0.9220 - auc: 0.9857 - val_loss: 0.2924 - val_accuracy: 0.8683 - val_auc: 0.9802 - 77ms/epoch - 3ms/step\n",
      "Epoch 92/100\n",
      "26/26 - 0s - loss: 0.1304 - accuracy: 0.9366 - auc: 0.9865 - val_loss: 0.2950 - val_accuracy: 0.8537 - val_auc: 0.9829 - 66ms/epoch - 3ms/step\n",
      "Epoch 93/100\n",
      "26/26 - 0s - loss: 0.1235 - accuracy: 0.9232 - auc: 0.9892 - val_loss: 0.2951 - val_accuracy: 0.8683 - val_auc: 0.9810 - 61ms/epoch - 2ms/step\n",
      "Epoch 94/100\n",
      "26/26 - 0s - loss: 0.1299 - accuracy: 0.9305 - auc: 0.9867 - val_loss: 0.2688 - val_accuracy: 0.8732 - val_auc: 0.9835 - 58ms/epoch - 2ms/step\n",
      "Epoch 95/100\n",
      "26/26 - 0s - loss: 0.1202 - accuracy: 0.9329 - auc: 0.9886 - val_loss: 0.2737 - val_accuracy: 0.8780 - val_auc: 0.9829 - 58ms/epoch - 2ms/step\n",
      "Epoch 96/100\n",
      "26/26 - 0s - loss: 0.1230 - accuracy: 0.9305 - auc: 0.9887 - val_loss: 0.2585 - val_accuracy: 0.8732 - val_auc: 0.9859 - 60ms/epoch - 2ms/step\n",
      "Epoch 97/100\n",
      "26/26 - 0s - loss: 0.1078 - accuracy: 0.9390 - auc: 0.9922 - val_loss: 0.2513 - val_accuracy: 0.8780 - val_auc: 0.9855 - 65ms/epoch - 3ms/step\n",
      "Epoch 98/100\n",
      "26/26 - 0s - loss: 0.1301 - accuracy: 0.9329 - auc: 0.9809 - val_loss: 0.2426 - val_accuracy: 0.8878 - val_auc: 0.9876 - 72ms/epoch - 3ms/step\n",
      "Epoch 99/100\n",
      "26/26 - 0s - loss: 0.1130 - accuracy: 0.9354 - auc: 0.9907 - val_loss: 0.2637 - val_accuracy: 0.8732 - val_auc: 0.9903 - 61ms/epoch - 2ms/step\n",
      "Epoch 100/100\n",
      "26/26 - 0s - loss: 0.1326 - accuracy: 0.9207 - auc: 0.9859 - val_loss: 0.2876 - val_accuracy: 0.8780 - val_auc: 0.9852 - 66ms/epoch - 3ms/step\n",
      "7/7 [==============================] - 0s 2ms/step - loss: 0.2876 - accuracy: 0.8780 - auc: 0.9852\n",
      "\n",
      "Test Accuracy: 0.88\n",
      "AUC: 0.99\n",
      "1/1 [==============================] - 0s 42ms/step\n",
      "\n",
      "Sample Prediction: 0.9964\n"
     ]
    }
   ],
   "source": [
    "import pandas as pd\n",
    "import numpy as np\n",
    "from sklearn.model_selection import train_test_split\n",
    "from sklearn.preprocessing import StandardScaler\n",
    "from tensorflow.keras.models import Sequential\n",
    "from tensorflow.keras.layers import Dense, Dropout\n",
    "from tensorflow.keras.optimizers import Adam\n",
    "import joblib\n",
    "import json\n",
    "\n",
    "# Load dataset (replace with your actual data path)\n",
    "data = pd.read_csv('dataset/heart.csv')\n",
    "\n",
    "# Define column mappings based on your feature structure\n",
    "# Assuming original columns: age, sex, cp, trestbps, chol, fbs, restecg, thalach, exang, oldpeak, slope, ca, thal, target\n",
    "df = pd.DataFrame({\n",
    "    'age': data['age'],\n",
    "    'trestbps': data['trestbps'],\n",
    "    'chol': data['chol'],\n",
    "    'thalach': data['thalach'],\n",
    "    'oldpeak': data['oldpeak'],\n",
    "    'sex': data['sex'],\n",
    "    'cp': data['cp'],\n",
    "    'fbs': data['fbs'],\n",
    "    'restecg': data['restecg'],\n",
    "    'exang': data['exang'],\n",
    "    'slope': data['slope'],\n",
    "    'ca': data['ca'],\n",
    "    'thal': data['thal'],\n",
    "    'target': data['target']\n",
    "})\n",
    "\n",
    "# Preprocessing\n",
    "# Handle categorical features (one-hot encode)\n",
    "categorical_cols = ['sex', 'cp', 'fbs', 'restecg', 'exang', 'slope', 'ca', 'thal']\n",
    "df = pd.get_dummies(df, columns=categorical_cols, drop_first=False)\n",
    "\n",
    "# Ensure all expected columns are present\n",
    "expected_columns = [\n",
    "    'age', 'trestbps', 'chol', 'thalach', 'oldpeak',\n",
    "    'sex_0', 'sex_1', 'cp_0', 'cp_1', 'cp_2', 'cp_3',\n",
    "    'fbs_0', 'fbs_1', 'restecg_0', 'restecg_1', 'restecg_2',\n",
    "    'exang_0', 'exang_1', 'slope_0', 'slope_1', 'slope_2',\n",
    "    'ca_0.0', 'ca_1.0', 'ca_2.0', 'ca_3.0', 'ca_4.0',\n",
    "    'thal_0.0', 'thal_1.0', 'thal_2.0', 'thal_3.0'\n",
    "]\n",
    "\n",
    "# Add missing columns with 0 values\n",
    "for col in expected_columns:\n",
    "    if col not in df.columns:\n",
    "        df[col] = 0\n",
    "\n",
    "# Reorder columns to match expected structure\n",
    "df = df[expected_columns + ['target']]\n",
    "\n",
    "# Split data\n",
    "X = df.drop('target', axis=1)\n",
    "y = df['target']\n",
    "X_train, X_test, y_train, y_test = train_test_split(X, y, test_size=0.2, random_state=42)\n",
    "\n",
    "# Scale numerical features\n",
    "numerical_cols = ['age', 'trestbps', 'chol', 'thalach', 'oldpeak']\n",
    "scaler = StandardScaler()\n",
    "X_train[numerical_cols] = scaler.fit_transform(X_train[numerical_cols])\n",
    "X_test[numerical_cols] = scaler.transform(X_test[numerical_cols])\n",
    "\n",
    "# Save scaler parameters for JavaScript\n",
    "scaler_params = {\n",
    "    'mean': scaler.mean_.tolist(),\n",
    "    'std': np.sqrt(scaler.var_).tolist()\n",
    "}\n",
    "with open('scaler_params.json', 'w') as f:\n",
    "    json.dump(scaler_params, f)\n",
    "\n",
    "# Save feature columns order\n",
    "with open('feature_columns.json', 'w') as f:\n",
    "    json.dump(expected_columns, f)\n",
    "\n",
    "# Build model\n",
    "model = Sequential([\n",
    "    Dense(64, activation='relu', input_shape=(X_train.shape[1],)),\n",
    "    Dropout(0.3),\n",
    "    Dense(32, activation='relu'),\n",
    "    Dropout(0.2),\n",
    "    Dense(1, activation='sigmoid')\n",
    "])\n",
    "\n",
    "model.compile(\n",
    "    optimizer=Adam(learning_rate=0.001),\n",
    "    loss='binary_crossentropy',\n",
    "    metrics=['accuracy', tf.keras.metrics.AUC()]\n",
    ")\n",
    "\n",
    "# Train model\n",
    "history = model.fit(\n",
    "    X_train, y_train,\n",
    "    validation_data=(X_test, y_test),\n",
    "    epochs=100,\n",
    "    batch_size=32,\n",
    "    class_weight={0: 0.5, 1: 2.0},  # Adjust for class imbalance\n",
    "    verbose=2\n",
    ")\n",
    "\n",
    "# Evaluate\n",
    "loss, accuracy, auc = model.evaluate(X_test, y_test)\n",
    "print(f\"\\nTest Accuracy: {accuracy:.2f}\")\n",
    "print(f\"AUC: {auc:.2f}\")\n",
    "\n",
    "# Save model\n",
    "model.save('heart_disease_model.h5')\n",
    "\n",
    "# Convert to TF.js format (run in terminal after training)\n",
    "# !tensorflowjs_converter --input_format=keras heart_disease_model.h5 tfjs_model\n",
    "\n",
    "# Example prediction\n",
    "sample_input = X_test.iloc[0:1]\n",
    "prediction = model.predict(sample_input)\n",
    "print(f\"\\nSample Prediction: {prediction[0][0]:.4f}\")"
   ]
  },
  {
   "cell_type": "code",
   "execution_count": 75,
   "id": "1905c3e0",
   "metadata": {},
   "outputs": [],
   "source": [
    "def predict_heart_disease1(model, scaler, feature_columns, user_input):\n",
    "    df = pd.DataFrame([user_input])\n",
    "    df = pd.get_dummies(df)\n",
    "    df = df.reindex(columns=expected_columns, fill_value=0)  # Ensure same column order\n",
    "    df[numerical_cols] = scaler.transform(df[numerical_cols])\n",
    "    \n",
    "    prediction = model.predict(df)[0][0]\n",
    "    \n",
    "    print(f\"Raw Model Output: {prediction}\")\n",
    "    \n",
    "    return \"No Heart Disease Detected\" if prediction > 0.5 else \"Heart Disease Detected\"\n"
   ]
  },
  {
   "cell_type": "code",
   "execution_count": 76,
   "id": "789e638c",
   "metadata": {},
   "outputs": [
    {
     "name": "stdout",
     "output_type": "stream",
     "text": [
      "1/1 [==============================] - 0s 17ms/step\n",
      "Raw Model Output: 0.9998903870582581\n"
     ]
    },
    {
     "data": {
      "text/plain": [
       "'No Heart Disease Detected'"
      ]
     },
     "execution_count": 76,
     "metadata": {},
     "output_type": "execute_result"
    }
   ],
   "source": [
    "predict_heart_disease1(model,scaler,expected_columns,new_patient_healthy)"
   ]
  },
  {
   "cell_type": "code",
   "execution_count": 77,
   "id": "26357605",
   "metadata": {},
   "outputs": [],
   "source": [
    "new_patient_disease = {\n",
    "    \"age\": 65, \"sex\": 1, \"cp\": 3, \"trestbps\": 140, \"chol\": 300, \"fbs\": 1, \"restecg\": 2,\n",
    "    \"thalach\": 120, \"exang\": 1, \"oldpeak\": 2.5, \"slope\": 1, \"ca\": 2, \"thal\": 3\n",
    "}"
   ]
  },
  {
   "cell_type": "code",
   "execution_count": 78,
   "id": "084e0a31",
   "metadata": {},
   "outputs": [
    {
     "name": "stdout",
     "output_type": "stream",
     "text": [
      "1/1 [==============================] - 0s 43ms/step\n",
      "Raw Model Output: 0.00042669728281907737\n"
     ]
    },
    {
     "data": {
      "text/plain": [
       "'Heart Disease Detected'"
      ]
     },
     "execution_count": 78,
     "metadata": {},
     "output_type": "execute_result"
    }
   ],
   "source": [
    "predict_heart_disease1(model,scaler,expected_columns,new_patient_disease)"
   ]
  },
  {
   "cell_type": "code",
   "execution_count": 79,
   "id": "fa8a0877",
   "metadata": {},
   "outputs": [
    {
     "data": {
      "text/plain": [
       "30"
      ]
     },
     "execution_count": 79,
     "metadata": {},
     "output_type": "execute_result"
    }
   ],
   "source": [
    "X_train.shape[1]"
   ]
  },
  {
   "cell_type": "code",
   "execution_count": null,
   "id": "fa7c288f",
   "metadata": {},
   "outputs": [],
   "source": []
  }
 ],
 "metadata": {
  "kernelspec": {
   "display_name": "Python 3 (ipykernel)",
   "language": "python",
   "name": "python3"
  },
  "language_info": {
   "codemirror_mode": {
    "name": "ipython",
    "version": 3
   },
   "file_extension": ".py",
   "mimetype": "text/x-python",
   "name": "python",
   "nbconvert_exporter": "python",
   "pygments_lexer": "ipython3",
   "version": "3.9.12"
  }
 },
 "nbformat": 4,
 "nbformat_minor": 5
}
